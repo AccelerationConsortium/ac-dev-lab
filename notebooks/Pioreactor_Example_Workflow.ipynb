{
 "cells": [
  {
   "cell_type": "markdown",
   "metadata": {
    "id": "0oHmcP4HLh3L"
   },
   "source": [
    "**Introduction**\n",
    "\n",
    "This Google Colab notebook provides a user-friendly interface for remotely controlling and monitoring PioReactors, designed to facilitate yeast growth studies in various ethanol concentrations. PioReactors enable controlled environmental conditions for microbial growth experiments, particularly useful for studying yeast's ethanol tolerance and the effects of different alcohol concentrations on yeast metabolism. By using Google Colab, you can execute commands, automate tasks, and view data from the PioReactor directly in this notebook without requiring physical interaction with the device. Although physical interaction will be need to change vials, add ingredients, etc.\n",
    "\n",
    "This is based of [yeast- in-ethanol](https://docs.pioreactor.com/experiments/yeast-in-ethanol)."
   ]
  },
  {
   "cell_type": "markdown",
   "metadata": {
    "id": "iB6nWRQk4nSF"
   },
   "source": [
    "Install dependencies to allow for correct usage"
   ]
  },
  {
   "cell_type": "code",
   "execution_count": null,
   "metadata": {
    "colab": {
     "base_uri": "https://localhost:8080/"
    },
    "collapsed": true,
    "id": "uHPLsrO54fDi",
    "outputId": "4df19afb-2ce9-4c76-ca48-cbbf71756b4f"
   },
   "outputs": [],
   "source": [
    "pip install gradio_client"
   ]
  },
  {
   "cell_type": "markdown",
   "metadata": {
    "id": "gWvzB1M9FION"
   },
   "source": [
    "Apply imports and define client"
   ]
  },
  {
   "cell_type": "code",
   "execution_count": null,
   "metadata": {
    "colab": {
     "base_uri": "https://localhost:8080/"
    },
    "id": "s3kn0znvFG0Q",
    "outputId": "547dec79-8350-456a-8826-97b1c2c063b4"
   },
   "outputs": [],
   "source": [
    "from gradio_client import Client\n",
    "\n",
    "client = Client(\"AccelerationConsortium/PioReactor_gradio\")"
   ]
  },
  {
   "cell_type": "markdown",
   "metadata": {
    "id": "fQJIXHtqDpuk"
   },
   "source": [
    "API call to check the the current status of the PioReactor"
   ]
  },
  {
   "cell_type": "code",
   "execution_count": null,
   "metadata": {
    "colab": {
     "base_uri": "https://localhost:8080/"
    },
    "id": "LN2jF6V6CySv",
    "outputId": "a3496bf3-44c7-4a9f-80b5-5ea031b7c9e2"
   },
   "outputs": [],
   "source": [
    "result = client.predict(\n",
    "\t\texp=\"Ed\",\n",
    "\t\tapi_name=\"/get_status_default\"\n",
    ")\n",
    "print(result)\n",
    "\n",
    "experiment = result[0] # Stores the current experiment from the results of the API call"
   ]
  },
  {
   "cell_type": "markdown",
   "metadata": {
    "id": "af_3KJXJD1Mi"
   },
   "source": [
    "Create a new experiment for our example workflow and switch to it"
   ]
  },
  {
   "cell_type": "code",
   "execution_count": null,
   "metadata": {
    "id": "I_XAT_y7DJWn"
   },
   "outputs": [],
   "source": [
    "new_experiment = \"EXPERIMENT_NAME_HERE\" # Change this to what you would like\n",
    "\n",
    "result = client.predict(\n",
    "\t\tnew_exp=new_experiment,\n",
    "        exp=experiment,\n",
    "\t\tapi_name=\"/new_experiment_default\"\n",
    ")\n",
    "\n",
    "result = client.predict(\n",
    "\t\tch_exp=new_experiment,\n",
    "\t\texp=experiment,\n",
    "\t\tapi_name=\"/change_experiment_default\"\n",
    ")\n",
    "\n",
    "experiment = new_experiment"
   ]
  },
  {
   "cell_type": "markdown",
   "metadata": {
    "id": "nHj4vAf-G9gA"
   },
   "source": [
    "The pials should now be prepared. Follow the detailed procecures here [yeast- in-ethanol](https://docs.pioreactor.com/experiments/yeast-in-ethanol).\n",
    "\n",
    "After you after done, execute the next block to start stirring and OD reading, you can optionally turn heating on by changing the boolean."
   ]
  },
  {
   "cell_type": "code",
   "execution_count": null,
   "metadata": {
    "id": "NMQEja_FG86x"
   },
   "outputs": [],
   "source": [
    "heating = False\n",
    "temp=30\n",
    "\n",
    "rpm_speed = 500\n",
    "\n",
    "result = client.predict(\n",
    "\t\trpm=rpm_speed,\n",
    "\t\texperiment=experiment,\n",
    "\t\tstate=\"start\",\n",
    "\t\tapi_name=\"/stirring_default\"\n",
    ")\n",
    "\n",
    "result = client.predict(\n",
    "\t\texperiment=experiment,\n",
    "\t\tstate=\"start\",\n",
    "\t\tapi_name=\"/od_default\"\n",
    ")\n",
    "\n",
    "if heating:\n",
    "    result = client.predict(\n",
    "\t\ttemperature=30,\n",
    "\t\texperiment=experiment,\n",
    "\t\tstate=\"start\",\n",
    "\t\toption=\"Heat To Temp\",\n",
    "\t\tapi_name=\"/temp_automation_default\"\n",
    ")"
   ]
  },
  {
   "cell_type": "markdown",
   "metadata": {
    "id": "2kqtv-JWJid6"
   },
   "source": [
    "After execution, you must wait for a desierd amount of time, aprox 18 hours. After which you can execute the code block below to stock the data logging.\n",
    "You can change the variables of the experiment and start again."
   ]
  },
  {
   "cell_type": "code",
   "execution_count": null,
   "metadata": {
    "id": "8_Y4UoCAKlC-"
   },
   "outputs": [],
   "source": [
    "result = client.predict(\n",
    "\t\trpm=0,\n",
    "\t\texperiment=experiment,\n",
    "\t\tstate=\"stop\",\n",
    "\t\tapi_name=\"/stirring_default\"\n",
    ")\n",
    "\n",
    "result = client.predict(\n",
    "\t\texperiment=experiment,\n",
    "\t\tstate=\"stop\",\n",
    "\t\tapi_name=\"/od_default\"\n",
    ")\n",
    "\n",
    "if heating:\n",
    "    result = client.predict(\n",
    "\t\ttemperature=30,\n",
    "\t\texperiment=experiment,\n",
    "\t\tstate=\"stop\",\n",
    "\t\toption=\"Heat To Temp\",\n",
    "\t\tapi_name=\"/temp_automation_default\"\n",
    ")"
   ]
  },
  {
   "cell_type": "markdown",
   "metadata": {},
   "source": [
    "You can view the graphs by using the APIs below."
   ]
  },
  {
   "cell_type": "code",
   "execution_count": null,
   "metadata": {},
   "outputs": [],
   "source": [
    "import plotly.graph_objs as go\n",
    "\n",
    "# Time frame you want to see the data for (1 hour, 24 hour, All Data)\n",
    "amount = \"All Data\"\n",
    "\n",
    "result = client.predict(\n",
    "\t\ttime_scale=amount,\n",
    "\t\texp=experiment\n",
    "\t\tapi_name=\"/get_data_default\"\n",
    ")\n",
    "\n",
    "# The results of the API call are go.Figure objects\n",
    "# You can use the plotly library to display the data\n",
    "\n",
    "result[0].show()"
   ]
  }
 ],
 "metadata": {
  "colab": {
   "provenance": []
  },
  "kernelspec": {
   "display_name": "Python 3",
   "name": "python3"
  },
  "language_info": {
   "name": "python"
  }
 },
 "nbformat": 4,
 "nbformat_minor": 0
}
