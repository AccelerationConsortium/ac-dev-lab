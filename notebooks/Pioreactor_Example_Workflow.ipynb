{
 "cells": [
  {
   "cell_type": "markdown",
   "metadata": {
    "id": "0oHmcP4HLh3L"
   },
   "source": [
    "**Introduction**\n",
    "\n",
    "This Jupyter notebook provides a user-friendly interface for remotely controlling and monitoring [Pioreactors](https://pioreactor.com/en-ca), designed to facilitate yeast growth studies in various ethanol concentrations. Pioreactors enable controlled environmental conditions for microbial growth experiments, particularly useful for studying yeast's ethanol tolerance and the effects of different alcohol concentrations on yeast metabolism. Given the ability to control heating, stirring, liquid pumps, and gas valves and to monitor temperature, stirrer motor speed, and light scattering characteristics, the Pioreactor also has uses for chemistry reactions and other fields. By using a Jupyter notebook that's connected remotely to the [Pioreactor's web app hosted on Hugging Face Spaces](https://huggingface.co/spaces/AccelerationConsortium/PioReactor_gradio) you can execute commands, automate tasks, and view data from the PioReactor directly in this notebook without requiring physical interaction with the device. Although physical interaction will be need to change vials, add ingredients, etc.\n",
    "\n",
    "This is based of [yeast- in-ethanol](https://docs.pioreactor.com/experiments/yeast-in-ethanol).\n",
    "\n",
    "The API endpoints can we found at the bottom of the page through our Gradio interface. [Gradio-Interface](https://huggingface.co/spaces/AccelerationConsortium/PioReactor_gradio)\n",
    "\n",
    "A more user friendly interface to interact with the Pioreactor can on Huggingface. [Streamlit-Interface](https://huggingface.co/spaces/AccelerationConsortium/PioReactor)"
   ]
  },
  {
   "cell_type": "markdown",
   "metadata": {
    "id": "iB6nWRQk4nSF"
   },
   "source": [
    "Install dependencies to allow for correct usage"
   ]
  },
  {
   "cell_type": "code",
   "execution_count": 1,
   "metadata": {
    "colab": {
     "base_uri": "https://localhost:8080/"
    },
    "collapsed": true,
    "id": "uHPLsrO54fDi",
    "outputId": "4df19afb-2ce9-4c76-ca48-cbbf71756b4f"
   },
   "outputs": [
    {
     "name": "stdout",
     "output_type": "stream",
     "text": [
      "Defaulting to user installation because normal site-packages is not writeable\n",
      "Collecting gradio_client\n",
      "  Downloading gradio_client-1.3.0-py3-none-any.whl (318 kB)\n",
      "\u001b[K     |████████████████████████████████| 318 kB 6.1 MB/s eta 0:00:01\n",
      "\u001b[?25hCollecting fsspec\n",
      "  Downloading fsspec-2024.10.0-py3-none-any.whl (179 kB)\n",
      "\u001b[K     |████████████████████████████████| 179 kB 29.8 MB/s eta 0:00:01\n",
      "\u001b[?25hCollecting httpx>=0.24.1\n",
      "  Downloading httpx-0.27.2-py3-none-any.whl (76 kB)\n",
      "\u001b[K     |████████████████████████████████| 76 kB 17.7 MB/s eta 0:00:01\n",
      "\u001b[?25hCollecting websockets<13.0,>=10.0\n",
      "  Downloading websockets-12.0-cp39-cp39-macosx_11_0_arm64.whl (121 kB)\n",
      "\u001b[K     |████████████████████████████████| 121 kB 29.0 MB/s eta 0:00:01\n",
      "\u001b[?25hRequirement already satisfied: packaging in /Users/linx5o/Library/Python/3.9/lib/python/site-packages (from gradio_client) (24.2)\n",
      "Requirement already satisfied: typing-extensions~=4.0 in /Users/linx5o/Library/Python/3.9/lib/python/site-packages (from gradio_client) (4.12.2)\n",
      "Collecting huggingface-hub>=0.19.3\n",
      "  Downloading huggingface_hub-0.26.2-py3-none-any.whl (447 kB)\n",
      "\u001b[K     |████████████████████████████████| 447 kB 27.2 MB/s eta 0:00:01\n",
      "\u001b[?25hCollecting sniffio\n",
      "  Downloading sniffio-1.3.1-py3-none-any.whl (10 kB)\n",
      "Collecting idna\n",
      "  Downloading idna-3.10-py3-none-any.whl (70 kB)\n",
      "\u001b[K     |████████████████████████████████| 70 kB 16.9 MB/s eta 0:00:01\n",
      "\u001b[?25hCollecting anyio\n",
      "  Downloading anyio-4.6.2.post1-py3-none-any.whl (90 kB)\n",
      "\u001b[K     |████████████████████████████████| 90 kB 21.2 MB/s eta 0:00:01\n",
      "\u001b[?25hCollecting certifi\n",
      "  Downloading certifi-2024.8.30-py3-none-any.whl (167 kB)\n",
      "\u001b[K     |████████████████████████████████| 167 kB 33.0 MB/s eta 0:00:01\n",
      "\u001b[?25hCollecting httpcore==1.*\n",
      "  Downloading httpcore-1.0.7-py3-none-any.whl (78 kB)\n",
      "\u001b[K     |████████████████████████████████| 78 kB 19.2 MB/s eta 0:00:01\n",
      "\u001b[?25hCollecting h11<0.15,>=0.13\n",
      "  Downloading h11-0.14.0-py3-none-any.whl (58 kB)\n",
      "\u001b[K     |████████████████████████████████| 58 kB 25.0 MB/s eta 0:00:01\n",
      "\u001b[?25hCollecting tqdm>=4.42.1\n",
      "  Downloading tqdm-4.67.0-py3-none-any.whl (78 kB)\n",
      "\u001b[K     |████████████████████████████████| 78 kB 16.4 MB/s eta 0:00:01\n",
      "\u001b[?25hCollecting pyyaml>=5.1\n",
      "  Downloading PyYAML-6.0.2-cp39-cp39-macosx_11_0_arm64.whl (172 kB)\n",
      "\u001b[K     |████████████████████████████████| 172 kB 22.0 MB/s eta 0:00:01\n",
      "\u001b[?25hCollecting requests\n",
      "  Downloading requests-2.32.3-py3-none-any.whl (64 kB)\n",
      "\u001b[K     |████████████████████████████████| 64 kB 17.9 MB/s eta 0:00:01\n",
      "\u001b[?25hCollecting filelock\n",
      "  Downloading filelock-3.16.1-py3-none-any.whl (16 kB)\n",
      "Requirement already satisfied: exceptiongroup>=1.0.2 in /Users/linx5o/Library/Python/3.9/lib/python/site-packages (from anyio->httpx>=0.24.1->gradio_client) (1.2.2)\n",
      "Collecting urllib3<3,>=1.21.1\n",
      "  Downloading urllib3-2.2.3-py3-none-any.whl (126 kB)\n",
      "\u001b[K     |████████████████████████████████| 126 kB 21.6 MB/s eta 0:00:01\n",
      "\u001b[?25hCollecting charset-normalizer<4,>=2\n",
      "  Downloading charset_normalizer-3.4.0-cp39-cp39-macosx_11_0_arm64.whl (120 kB)\n",
      "\u001b[K     |████████████████████████████████| 120 kB 21.4 MB/s eta 0:00:01\n",
      "\u001b[?25hInstalling collected packages: urllib3, sniffio, idna, h11, charset-normalizer, certifi, tqdm, requests, pyyaml, httpcore, fsspec, filelock, anyio, websockets, huggingface-hub, httpx, gradio-client\n",
      "Successfully installed anyio-4.6.2.post1 certifi-2024.8.30 charset-normalizer-3.4.0 filelock-3.16.1 fsspec-2024.10.0 gradio-client-1.3.0 h11-0.14.0 httpcore-1.0.7 httpx-0.27.2 huggingface-hub-0.26.2 idna-3.10 pyyaml-6.0.2 requests-2.32.3 sniffio-1.3.1 tqdm-4.67.0 urllib3-2.2.3 websockets-12.0\n",
      "\u001b[33mWARNING: You are using pip version 21.2.4; however, version 24.3.1 is available.\n",
      "You should consider upgrading via the '/Library/Developer/CommandLineTools/usr/bin/python3 -m pip install --upgrade pip' command.\u001b[0m\n",
      "Note: you may need to restart the kernel to use updated packages.\n"
     ]
    }
   ],
   "source": [
    "%pip install gradio_client"
   ]
  },
  {
   "cell_type": "markdown",
   "metadata": {
    "id": "gWvzB1M9FION"
   },
   "source": [
    "**Apply imports and define client for connecting to web app**"
   ]
  },
  {
   "cell_type": "code",
   "execution_count": null,
   "metadata": {
    "colab": {
     "base_uri": "https://localhost:8080/"
    },
    "id": "s3kn0znvFG0Q",
    "outputId": "547dec79-8350-456a-8826-97b1c2c063b4"
   },
   "outputs": [],
   "source": [
    "from gradio_client import Client\n",
    "\n",
    "client = Client(\"AccelerationConsortium/PioReactor_gradio\")"
   ]
  },
  {
   "cell_type": "markdown",
   "metadata": {
    "id": "fQJIXHtqDpuk"
   },
   "source": [
    "**API call to check the the current status of the PioReactor**"
   ]
  },
  {
   "cell_type": "code",
   "execution_count": null,
   "metadata": {
    "colab": {
     "base_uri": "https://localhost:8080/"
    },
    "id": "LN2jF6V6CySv",
    "outputId": "a3496bf3-44c7-4a9f-80b5-5ea031b7c9e2"
   },
   "outputs": [],
   "source": [
    "result = client.predict(\n",
    "\t\texp=\"Ed\",\n",
    "\t\tapi_name=\"/get_status_default\"\n",
    ")\n",
    "print(result)\n",
    "\n",
    "experiment = result[0] # Stores the current experiment from the results of the API call"
   ]
  },
  {
   "cell_type": "markdown",
   "metadata": {
    "id": "af_3KJXJD1Mi"
   },
   "source": [
    "**Create a new experiment for our example workflow and switch to it**\n",
    "\n",
    "Creating a new experiment on a Pioreactor is like starting a \"project\" for a specific cultivation or research goal, with its settings and data isolated for that purpose. At the start nothing is active and no data is logged. These functions and process can be started through the API or directly through the Piocreactor interface if on the same network as the Pioreactor."
   ]
  },
  {
   "cell_type": "code",
   "execution_count": null,
   "metadata": {
    "id": "I_XAT_y7DJWn"
   },
   "outputs": [],
   "source": [
    "new_experiment = \"EXPERIMENT_NAME_HERE\" # Change this to what you would like\n",
    "\n",
    "result = client.predict(\n",
    "\t\tnew_exp=new_experiment,\n",
    "        exp=experiment,\n",
    "\t\tapi_name=\"/new_experiment_default\"\n",
    ")\n",
    "\n",
    "result = client.predict(\n",
    "\t\tch_exp=new_experiment,\n",
    "\t\texp=experiment,\n",
    "\t\tapi_name=\"/change_experiment_default\"\n",
    ")\n",
    "\n",
    "experiment = new_experiment"
   ]
  },
  {
   "cell_type": "markdown",
   "metadata": {
    "id": "nHj4vAf-G9gA"
   },
   "source": [
    "The vials should now be prepared. Follow the detailed procecures here [yeast- in-ethanol](https://docs.pioreactor.com/experiments/yeast-in-ethanol).\n",
    "\n",
    "After you after done, execute the next block to start stirring and OD reading, you can optionally turn heating on by changing the boolean."
   ]
  },
  {
   "cell_type": "code",
   "execution_count": null,
   "metadata": {
    "id": "NMQEja_FG86x"
   },
   "outputs": [],
   "source": [
    "heating = False\n",
    "temp=30\n",
    "\n",
    "rpm_speed = 500\n",
    "\n",
    "result = client.predict(\n",
    "\t\trpm=rpm_speed,\n",
    "\t\texperiment=experiment,\n",
    "\t\tstate=\"start\",\n",
    "\t\tapi_name=\"/stirring_default\"\n",
    ")\n",
    "\n",
    "result = client.predict(\n",
    "\t\texperiment=experiment,\n",
    "\t\tstate=\"start\",\n",
    "\t\tapi_name=\"/od_default\"\n",
    ")\n",
    "\n",
    "if heating:\n",
    "    result = client.predict(\n",
    "\t\ttemperature=30,\n",
    "\t\texperiment=experiment,\n",
    "\t\tstate=\"start\",\n",
    "\t\toption=\"Heat To Temp\",\n",
    "\t\tapi_name=\"/temp_automation_default\"\n",
    ")"
   ]
  },
  {
   "cell_type": "markdown",
   "metadata": {
    "id": "2kqtv-JWJid6"
   },
   "source": [
    "After execution, you must wait for a desired amount of time, aprox 18 hours. After which you can execute the code block below to start the data logging.\n",
    "You can change the variables of the experiment and start again."
   ]
  },
  {
   "cell_type": "code",
   "execution_count": null,
   "metadata": {
    "id": "8_Y4UoCAKlC-"
   },
   "outputs": [],
   "source": [
    "result = client.predict(\n",
    "\t\trpm=0,\n",
    "\t\texperiment=experiment,\n",
    "\t\tstate=\"stop\",\n",
    "\t\tapi_name=\"/stirring_default\"\n",
    ")\n",
    "\n",
    "result = client.predict(\n",
    "\t\texperiment=experiment,\n",
    "\t\tstate=\"stop\",\n",
    "\t\tapi_name=\"/od_default\"\n",
    ")\n",
    "\n",
    "if heating:\n",
    "    result = client.predict(\n",
    "\t\ttemperature=30,\n",
    "\t\texperiment=experiment,\n",
    "\t\tstate=\"stop\",\n",
    "\t\toption=\"Heat To Temp\",\n",
    "\t\tapi_name=\"/temp_automation_default\"\n",
    ")"
   ]
  },
  {
   "cell_type": "markdown",
   "metadata": {},
   "source": [
    "You can view the graphs by using the APIs below."
   ]
  },
  {
   "cell_type": "code",
   "execution_count": null,
   "metadata": {},
   "outputs": [],
   "source": [
    "import plotly.io as pio\n",
    "\n",
    "# Time frame you want to see the data for (1 hour, 24 hour, All Data)\n",
    "amount = \"All Data\"\n",
    "\n",
    "result = client.predict(\n",
    "\t\ttime_scale=amount,\n",
    "\t\texp=experiment,\n",
    "\t\tapi_name=\"/get_data_default\"\n",
    ")\n",
    "\n",
    "# The results of the API call are go.Figure objects\n",
    "# You can use the plotly library to display the data\n",
    "\n",
    "temp = pio.from_json(result[0][\"plot\"])\n",
    "temp.show()\n",
    "\n",
    "od = pio.from_json(result[1][\"plot\"])\n",
    "od.show()\n",
    "\n",
    "norm_od = pio.from_json(result[2][\"plot\"])\n",
    "norm_od.show()\n",
    "\n",
    "growth_rate = pio.from_json(result[3][\"plot\"])\n",
    "growth_rate.show()\n"
   ]
  },
  {
   "cell_type": "markdown",
   "metadata": {},
   "source": [
    "**Notes**\n",
    "\n",
    "All function calls in this notebook use api endpoints with `api_name=\"..._default\"` this is so that we can utilize the example Pioreactor which we have setup. However, to create a custom workflow for you own Pioreactor replace use the api endpoints without the `_default` ending. Additional parameters will be needed, these should be the paramaters of your Pioreactor."
   ]
  }
 ],
 "metadata": {
  "colab": {
   "provenance": []
  },
  "kernelspec": {
   "display_name": "Python 3",
   "name": "python3"
  },
  "language_info": {
   "codemirror_mode": {
    "name": "ipython",
    "version": 3
   },
   "file_extension": ".py",
   "mimetype": "text/x-python",
   "name": "python",
   "nbconvert_exporter": "python",
   "pygments_lexer": "ipython3",
   "version": "3.9.6"
  }
 },
 "nbformat": 4,
 "nbformat_minor": 0
}
