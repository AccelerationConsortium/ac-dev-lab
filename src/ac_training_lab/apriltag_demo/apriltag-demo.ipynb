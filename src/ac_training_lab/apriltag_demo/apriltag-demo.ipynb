{
 "cells": [
  {
   "cell_type": "markdown",
   "id": "84093c81",
   "metadata": {},
   "source": [
    "# AprilTag API Usage demo"
   ]
  },
  {
   "cell_type": "markdown",
   "id": "37eb7451",
   "metadata": {},
   "source": [
    "This Jupyter Notebook provides a complete guide to AprilTag recognition using computer vision techniques. It covers how to print an AprilTag, perform camera calibration with `OpenCV`, and detect tags in captured images. The notebook demonstrates how to retrieve each tag’s ID as well as its relative position and orientation using the `pupil-apriltags` library, enabling accurate spatial understanding from visual input."
   ]
  },
  {
   "cell_type": "markdown",
   "id": "9f056727",
   "metadata": {},
   "source": [
    "## Requirements"
   ]
  },
  {
   "cell_type": "markdown",
   "id": "cfb33efc",
   "metadata": {},
   "source": [
    "This notebook uses the following Python libraries:"
   ]
  },
  {
   "cell_type": "markdown",
   "id": "76906809",
   "metadata": {},
   "source": [
    "- `pupil-apriltags` — for AprilTag detection and pose estimation\n",
    "- `opencv-python` — for camera calibration and image processing\n",
    "- `numpy`, `matplotlib` — for math and visualization"
   ]
  },
  {
   "cell_type": "code",
   "execution_count": null,
   "id": "47c0fd55",
   "metadata": {},
   "outputs": [],
   "source": [
    "import importlib\n",
    "import sys\n",
    "\n",
    "for pkg in [\"pupil-apriltags\", \"opencv-python\", \"numpy\", \"matplotlib\"]:\n",
    "    try:\n",
    "        importlib.import_module(pkg if pkg != \"opencv-python\" else \"cv2\")\n",
    "    except ImportError:\n",
    "        print(f\"Installing {pkg} ...\")\n",
    "        get_ipython().run_line_magic('pip', f'install {pkg}')\n"
   ]
  },
  {
   "cell_type": "markdown",
   "id": "b49b282d",
   "metadata": {},
   "source": [
    "## Preparation"
   ]
  },
  {
   "cell_type": "markdown",
   "id": "18690901",
   "metadata": {},
   "source": [
    "### Print AprilTag images"
   ]
  },
  {
   "cell_type": "markdown",
   "id": "dd03545d",
   "metadata": {},
   "source": [
    "You can find the images for the tags in the [apriltag-imgs repo](https://github.com/AprilRobotics/apriltag-imgs). For the vast majority of applications, the tagStandard41h12 family will be the correct choice. Scale up the images in your favorite editor and print them out or use the [helper function below](#get-printable-apriltags) to automatically generate a printable SVG version of the tag at your desired size.\n",
    "\n",
    "Some heuristics for when to choose other tag families:\n",
    "\n",
    "1. If you need more tags, use tagStandard52h13\n",
    "2. If you need to maximize the use of space on a small circular object, use tagCircle49h12 (or tagCircle21h7).\n",
    "3. If you want to make a recursive tag use tagCustom48h12.\n",
    "4. If you want compatibility with the ArUcO detector use tag36h11\n",
    "\n",
    "If none of these fit your needs, generate your own custom tag family [here](https://github.com/AprilRobotics/apriltag-generation)."
   ]
  },
  {
   "cell_type": "markdown",
   "id": "fce93c7f",
   "metadata": {},
   "source": [
    "#### Get printable AprilTags"
   ]
  },
  {
   "cell_type": "markdown",
   "id": "3845f7ca",
   "metadata": {},
   "source": [
    "This is a helper function for generating a scalable SVG version of an AprilTag from a PNG image."
   ]
  },
  {
   "cell_type": "code",
   "execution_count": 38,
   "id": "9a0aaffb",
   "metadata": {},
   "outputs": [],
   "source": [
    "import os\n",
    "import requests\n",
    "from IPython.display import SVG, display\n",
    "\n",
    "def generate_apriltag_svg(tag_name: str, tag_family: str = \"tagStandard52h13\", size_mm: int = 50):\n",
    "  \n",
    "    filename = f\"{tag_name}.png\"\n",
    "    svg_filename = f\"{tag_name}_{size_mm}mm.svg\"\n",
    "    png_url = f\"https://raw.githubusercontent.com/AprilRobotics/apriltag-imgs/master/{tag_family}/{filename}\"\n",
    "\n",
    "    if not os.path.exists(filename):\n",
    "        print(f\"Downloading tag image from {png_url}...\")\n",
    "        r = requests.get(png_url)\n",
    "        if r.status_code == 200:\n",
    "            with open(filename, \"wb\") as f:\n",
    "                f.write(r.content)\n",
    "        else:\n",
    "            raise ValueError(f\"Failed to download image. Status code: {r.status_code}\")\n",
    "\n",
    "    if not os.path.exists(\"tag_to_svg.py\"):\n",
    "        print(\"Downloading tag_to_svg.py...\")\n",
    "        script_url = \"https://raw.githubusercontent.com/AprilRobotics/apriltag-imgs/master/tag_to_svg.py\"\n",
    "        r = requests.get(script_url)\n",
    "        with open(\"tag_to_svg.py\", \"wb\") as f:\n",
    "            f.write(r.content)\n",
    "\n",
    "    print(f\"Converting to SVG with size {size_mm}mm...\")\n",
    "    os.system(f\"python tag_to_svg.py {filename} {svg_filename} --size={size_mm}mm\")\n",
    "\n",
    "    if os.path.exists(svg_filename):\n",
    "        display(SVG(filename=svg_filename))\n",
    "    else:\n",
    "        raise FileNotFoundError(f\"{svg_filename} not generated.\")\n",
    "\n"
   ]
  },
  {
   "cell_type": "markdown",
   "id": "a755dfa2",
   "metadata": {},
   "source": [
    "To generate a printable SVG of an AprilTag, use the function below by specifying the full tag name (e.g., \"tag41_12_00110\") and its tag family (e.g., \"tagStandard41h12\"). You can also adjust the size_mm parameter to control the output size (in millimeters)."
   ]
  },
  {
   "cell_type": "code",
   "execution_count": 50,
   "id": "96c1a9d7",
   "metadata": {},
   "outputs": [
    {
     "name": "stdout",
     "output_type": "stream",
     "text": [
      "Downloading tag image from https://raw.githubusercontent.com/AprilRobotics/apriltag-imgs/master/tagStandard41h12/tag41_12_00110.png...\n",
      "Converting to SVG with size 60mm...\n"
     ]
    },
    {
     "data": {
      "image/svg+xml": [
       "<svg xmlns=\"http://www.w3.org/2000/svg\" width=\"60mm\" height=\"60mm\" viewBox=\"0,0,9,9\">\n",
       "\t<rect width=\"1\" height=\"1\" x=\"0\" y=\"0\" fill=\"rgba(255, 255, 255, 1.0)\" id=\"box0-0\"/>\n",
       "\t<rect width=\"1\" height=\"1\" x=\"1\" y=\"0\" fill=\"rgba(255, 255, 255, 1.0)\" id=\"box1-0\"/>\n",
       "\t<rect width=\"1\" height=\"1\" x=\"2\" y=\"0\" fill=\"rgba(255, 255, 255, 1.0)\" id=\"box2-0\"/>\n",
       "\t<rect width=\"1\" height=\"1\" x=\"3\" y=\"0\" fill=\"rgba(255, 255, 255, 1.0)\" id=\"box3-0\"/>\n",
       "\t<rect width=\"1\" height=\"1\" x=\"4\" y=\"0\" fill=\"rgba(0, 0, 0, 1.0)\" id=\"box4-0\"/>\n",
       "\t<rect width=\"1\" height=\"1\" x=\"5\" y=\"0\" fill=\"rgba(255, 255, 255, 1.0)\" id=\"box5-0\"/>\n",
       "\t<rect width=\"1\" height=\"1\" x=\"6\" y=\"0\" fill=\"rgba(0, 0, 0, 1.0)\" id=\"box6-0\"/>\n",
       "\t<rect width=\"1\" height=\"1\" x=\"7\" y=\"0\" fill=\"rgba(255, 255, 255, 1.0)\" id=\"box7-0\"/>\n",
       "\t<rect width=\"1\" height=\"1\" x=\"8\" y=\"0\" fill=\"rgba(0, 0, 0, 1.0)\" id=\"box8-0\"/>\n",
       "\t<rect width=\"1\" height=\"1\" x=\"0\" y=\"1\" fill=\"rgba(255, 255, 255, 1.0)\" id=\"box0-1\"/>\n",
       "\t<rect width=\"1\" height=\"1\" x=\"1\" y=\"1\" fill=\"rgba(0, 0, 0, 1.0)\" id=\"box1-1\"/>\n",
       "\t<rect width=\"1\" height=\"1\" x=\"2\" y=\"1\" fill=\"rgba(0, 0, 0, 1.0)\" id=\"box2-1\"/>\n",
       "\t<rect width=\"1\" height=\"1\" x=\"3\" y=\"1\" fill=\"rgba(0, 0, 0, 1.0)\" id=\"box3-1\"/>\n",
       "\t<rect width=\"1\" height=\"1\" x=\"4\" y=\"1\" fill=\"rgba(0, 0, 0, 1.0)\" id=\"box4-1\"/>\n",
       "\t<rect width=\"1\" height=\"1\" x=\"5\" y=\"1\" fill=\"rgba(0, 0, 0, 1.0)\" id=\"box5-1\"/>\n",
       "\t<rect width=\"1\" height=\"1\" x=\"6\" y=\"1\" fill=\"rgba(0, 0, 0, 1.0)\" id=\"box6-1\"/>\n",
       "\t<rect width=\"1\" height=\"1\" x=\"7\" y=\"1\" fill=\"rgba(0, 0, 0, 1.0)\" id=\"box7-1\"/>\n",
       "\t<rect width=\"1\" height=\"1\" x=\"8\" y=\"1\" fill=\"rgba(0, 0, 0, 1.0)\" id=\"box8-1\"/>\n",
       "\t<rect width=\"1\" height=\"1\" x=\"0\" y=\"2\" fill=\"rgba(255, 255, 255, 1.0)\" id=\"box0-2\"/>\n",
       "\t<rect width=\"1\" height=\"1\" x=\"1\" y=\"2\" fill=\"rgba(0, 0, 0, 1.0)\" id=\"box1-2\"/>\n",
       "\t<rect width=\"1\" height=\"1\" x=\"2\" y=\"2\" fill=\"rgba(255, 255, 255, 1.0)\" id=\"box2-2\"/>\n",
       "\t<rect width=\"1\" height=\"1\" x=\"3\" y=\"2\" fill=\"rgba(255, 255, 255, 1.0)\" id=\"box3-2\"/>\n",
       "\t<rect width=\"1\" height=\"1\" x=\"4\" y=\"2\" fill=\"rgba(255, 255, 255, 1.0)\" id=\"box4-2\"/>\n",
       "\t<rect width=\"1\" height=\"1\" x=\"5\" y=\"2\" fill=\"rgba(255, 255, 255, 1.0)\" id=\"box5-2\"/>\n",
       "\t<rect width=\"1\" height=\"1\" x=\"6\" y=\"2\" fill=\"rgba(255, 255, 255, 1.0)\" id=\"box6-2\"/>\n",
       "\t<rect width=\"1\" height=\"1\" x=\"7\" y=\"2\" fill=\"rgba(0, 0, 0, 1.0)\" id=\"box7-2\"/>\n",
       "\t<rect width=\"1\" height=\"1\" x=\"8\" y=\"2\" fill=\"rgba(0, 0, 0, 1.0)\" id=\"box8-2\"/>\n",
       "\t<rect width=\"1\" height=\"1\" x=\"0\" y=\"3\" fill=\"rgba(255, 255, 255, 1.0)\" id=\"box0-3\"/>\n",
       "\t<rect width=\"1\" height=\"1\" x=\"1\" y=\"3\" fill=\"rgba(0, 0, 0, 1.0)\" id=\"box1-3\"/>\n",
       "\t<rect width=\"1\" height=\"1\" x=\"2\" y=\"3\" fill=\"rgba(255, 255, 255, 1.0)\" id=\"box2-3\"/>\n",
       "\t<rect width=\"1\" height=\"1\" x=\"3\" y=\"3\" fill=\"rgba(255, 255, 255, 1.0)\" id=\"box3-3\"/>\n",
       "\t<rect width=\"1\" height=\"1\" x=\"4\" y=\"3\" fill=\"rgba(255, 255, 255, 1.0)\" id=\"box4-3\"/>\n",
       "\t<rect width=\"1\" height=\"1\" x=\"5\" y=\"3\" fill=\"rgba(0, 0, 0, 1.0)\" id=\"box5-3\"/>\n",
       "\t<rect width=\"1\" height=\"1\" x=\"6\" y=\"3\" fill=\"rgba(255, 255, 255, 1.0)\" id=\"box6-3\"/>\n",
       "\t<rect width=\"1\" height=\"1\" x=\"7\" y=\"3\" fill=\"rgba(0, 0, 0, 1.0)\" id=\"box7-3\"/>\n",
       "\t<rect width=\"1\" height=\"1\" x=\"8\" y=\"3\" fill=\"rgba(0, 0, 0, 1.0)\" id=\"box8-3\"/>\n",
       "\t<rect width=\"1\" height=\"1\" x=\"0\" y=\"4\" fill=\"rgba(0, 0, 0, 1.0)\" id=\"box0-4\"/>\n",
       "\t<rect width=\"1\" height=\"1\" x=\"1\" y=\"4\" fill=\"rgba(0, 0, 0, 1.0)\" id=\"box1-4\"/>\n",
       "\t<rect width=\"1\" height=\"1\" x=\"2\" y=\"4\" fill=\"rgba(255, 255, 255, 1.0)\" id=\"box2-4\"/>\n",
       "\t<rect width=\"1\" height=\"1\" x=\"3\" y=\"4\" fill=\"rgba(0, 0, 0, 1.0)\" id=\"box3-4\"/>\n",
       "\t<rect width=\"1\" height=\"1\" x=\"4\" y=\"4\" fill=\"rgba(255, 255, 255, 1.0)\" id=\"box4-4\"/>\n",
       "\t<rect width=\"1\" height=\"1\" x=\"5\" y=\"4\" fill=\"rgba(255, 255, 255, 1.0)\" id=\"box5-4\"/>\n",
       "\t<rect width=\"1\" height=\"1\" x=\"6\" y=\"4\" fill=\"rgba(255, 255, 255, 1.0)\" id=\"box6-4\"/>\n",
       "\t<rect width=\"1\" height=\"1\" x=\"7\" y=\"4\" fill=\"rgba(0, 0, 0, 1.0)\" id=\"box7-4\"/>\n",
       "\t<rect width=\"1\" height=\"1\" x=\"8\" y=\"4\" fill=\"rgba(255, 255, 255, 1.0)\" id=\"box8-4\"/>\n",
       "\t<rect width=\"1\" height=\"1\" x=\"0\" y=\"5\" fill=\"rgba(255, 255, 255, 1.0)\" id=\"box0-5\"/>\n",
       "\t<rect width=\"1\" height=\"1\" x=\"1\" y=\"5\" fill=\"rgba(0, 0, 0, 1.0)\" id=\"box1-5\"/>\n",
       "\t<rect width=\"1\" height=\"1\" x=\"2\" y=\"5\" fill=\"rgba(255, 255, 255, 1.0)\" id=\"box2-5\"/>\n",
       "\t<rect width=\"1\" height=\"1\" x=\"3\" y=\"5\" fill=\"rgba(255, 255, 255, 1.0)\" id=\"box3-5\"/>\n",
       "\t<rect width=\"1\" height=\"1\" x=\"4\" y=\"5\" fill=\"rgba(0, 0, 0, 1.0)\" id=\"box4-5\"/>\n",
       "\t<rect width=\"1\" height=\"1\" x=\"5\" y=\"5\" fill=\"rgba(255, 255, 255, 1.0)\" id=\"box5-5\"/>\n",
       "\t<rect width=\"1\" height=\"1\" x=\"6\" y=\"5\" fill=\"rgba(255, 255, 255, 1.0)\" id=\"box6-5\"/>\n",
       "\t<rect width=\"1\" height=\"1\" x=\"7\" y=\"5\" fill=\"rgba(0, 0, 0, 1.0)\" id=\"box7-5\"/>\n",
       "\t<rect width=\"1\" height=\"1\" x=\"8\" y=\"5\" fill=\"rgba(0, 0, 0, 1.0)\" id=\"box8-5\"/>\n",
       "\t<rect width=\"1\" height=\"1\" x=\"0\" y=\"6\" fill=\"rgba(0, 0, 0, 1.0)\" id=\"box0-6\"/>\n",
       "\t<rect width=\"1\" height=\"1\" x=\"1\" y=\"6\" fill=\"rgba(0, 0, 0, 1.0)\" id=\"box1-6\"/>\n",
       "\t<rect width=\"1\" height=\"1\" x=\"2\" y=\"6\" fill=\"rgba(255, 255, 255, 1.0)\" id=\"box2-6\"/>\n",
       "\t<rect width=\"1\" height=\"1\" x=\"3\" y=\"6\" fill=\"rgba(255, 255, 255, 1.0)\" id=\"box3-6\"/>\n",
       "\t<rect width=\"1\" height=\"1\" x=\"4\" y=\"6\" fill=\"rgba(255, 255, 255, 1.0)\" id=\"box4-6\"/>\n",
       "\t<rect width=\"1\" height=\"1\" x=\"5\" y=\"6\" fill=\"rgba(255, 255, 255, 1.0)\" id=\"box5-6\"/>\n",
       "\t<rect width=\"1\" height=\"1\" x=\"6\" y=\"6\" fill=\"rgba(255, 255, 255, 1.0)\" id=\"box6-6\"/>\n",
       "\t<rect width=\"1\" height=\"1\" x=\"7\" y=\"6\" fill=\"rgba(0, 0, 0, 1.0)\" id=\"box7-6\"/>\n",
       "\t<rect width=\"1\" height=\"1\" x=\"8\" y=\"6\" fill=\"rgba(0, 0, 0, 1.0)\" id=\"box8-6\"/>\n",
       "\t<rect width=\"1\" height=\"1\" x=\"0\" y=\"7\" fill=\"rgba(0, 0, 0, 1.0)\" id=\"box0-7\"/>\n",
       "\t<rect width=\"1\" height=\"1\" x=\"1\" y=\"7\" fill=\"rgba(0, 0, 0, 1.0)\" id=\"box1-7\"/>\n",
       "\t<rect width=\"1\" height=\"1\" x=\"2\" y=\"7\" fill=\"rgba(0, 0, 0, 1.0)\" id=\"box2-7\"/>\n",
       "\t<rect width=\"1\" height=\"1\" x=\"3\" y=\"7\" fill=\"rgba(0, 0, 0, 1.0)\" id=\"box3-7\"/>\n",
       "\t<rect width=\"1\" height=\"1\" x=\"4\" y=\"7\" fill=\"rgba(0, 0, 0, 1.0)\" id=\"box4-7\"/>\n",
       "\t<rect width=\"1\" height=\"1\" x=\"5\" y=\"7\" fill=\"rgba(0, 0, 0, 1.0)\" id=\"box5-7\"/>\n",
       "\t<rect width=\"1\" height=\"1\" x=\"6\" y=\"7\" fill=\"rgba(0, 0, 0, 1.0)\" id=\"box6-7\"/>\n",
       "\t<rect width=\"1\" height=\"1\" x=\"7\" y=\"7\" fill=\"rgba(0, 0, 0, 1.0)\" id=\"box7-7\"/>\n",
       "\t<rect width=\"1\" height=\"1\" x=\"8\" y=\"7\" fill=\"rgba(255, 255, 255, 1.0)\" id=\"box8-7\"/>\n",
       "\t<rect width=\"1\" height=\"1\" x=\"0\" y=\"8\" fill=\"rgba(255, 255, 255, 1.0)\" id=\"box0-8\"/>\n",
       "\t<rect width=\"1\" height=\"1\" x=\"1\" y=\"8\" fill=\"rgba(255, 255, 255, 1.0)\" id=\"box1-8\"/>\n",
       "\t<rect width=\"1\" height=\"1\" x=\"2\" y=\"8\" fill=\"rgba(0, 0, 0, 1.0)\" id=\"box2-8\"/>\n",
       "\t<rect width=\"1\" height=\"1\" x=\"3\" y=\"8\" fill=\"rgba(0, 0, 0, 1.0)\" id=\"box3-8\"/>\n",
       "\t<rect width=\"1\" height=\"1\" x=\"4\" y=\"8\" fill=\"rgba(0, 0, 0, 1.0)\" id=\"box4-8\"/>\n",
       "\t<rect width=\"1\" height=\"1\" x=\"5\" y=\"8\" fill=\"rgba(0, 0, 0, 1.0)\" id=\"box5-8\"/>\n",
       "\t<rect width=\"1\" height=\"1\" x=\"6\" y=\"8\" fill=\"rgba(0, 0, 0, 1.0)\" id=\"box6-8\"/>\n",
       "\t<rect width=\"1\" height=\"1\" x=\"7\" y=\"8\" fill=\"rgba(0, 0, 0, 1.0)\" id=\"box7-8\"/>\n",
       "\t<rect width=\"1\" height=\"1\" x=\"8\" y=\"8\" fill=\"rgba(255, 255, 255, 1.0)\" id=\"box8-8\"/>\n",
       "</svg>"
      ],
      "text/plain": [
       "<IPython.core.display.SVG object>"
      ]
     },
     "metadata": {},
     "output_type": "display_data"
    }
   ],
   "source": [
    "generate_apriltag_svg(\"tag41_12_00110\", tag_family=\"tagStandard41h12\", size_mm=60)"
   ]
  }
 ],
 "metadata": {
  "kernelspec": {
   "display_name": "Python 3",
   "language": "python",
   "name": "python3"
  },
  "language_info": {
   "codemirror_mode": {
    "name": "ipython",
    "version": 3
   },
   "file_extension": ".py",
   "mimetype": "text/x-python",
   "name": "python",
   "nbconvert_exporter": "python",
   "pygments_lexer": "ipython3",
   "version": "3.11.7"
  }
 },
 "nbformat": 4,
 "nbformat_minor": 5
}
