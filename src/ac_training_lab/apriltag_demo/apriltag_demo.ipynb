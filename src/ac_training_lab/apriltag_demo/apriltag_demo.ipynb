{
  "cells": [
    {
      "cell_type": "markdown",
      "id": "84093c81",
      "metadata": {
        "id": "84093c81"
      },
      "source": [
        "# Camera Calibration & AprilTag Detection Demo"
      ]
    },
    {
      "cell_type": "markdown",
      "id": "37eb7451",
      "metadata": {
        "id": "37eb7451"
      },
      "source": [
        "This Jupyter Notebook provides a complete guide to AprilTag recognition using computer vision techniques. It covers how to print an AprilTag, perform camera calibration with `OpenCV`, and detect tags in captured images. \n",
        "\n",
        "To explore the demo with default files and settings, enable test mode below. If test mode is enabled, you can skip all parameter modifications in this demo."
      ]
    },
    {
      "cell_type": "code",
      "execution_count": null,
      "id": "8285ace8",
      "metadata": {},
      "outputs": [],
      "source": [
        "# @title Configuration\n",
        "# @markdown Set `test = True` to use default files and parameters.\n",
        "test = True  # @param {type:\"boolean\"}"
      ]
    },
    {
      "cell_type": "markdown",
      "id": "9f056727",
      "metadata": {
        "id": "9f056727"
      },
      "source": [
        "## Requirements"
      ]
    },
    {
      "cell_type": "markdown",
      "id": "9270ab83",
      "metadata": {
        "id": "9270ab83"
      },
      "source": [
        "This notebook requires the following files and libraries."
      ]
    },
    {
      "cell_type": "code",
      "execution_count": null,
      "id": "88661849",
      "metadata": {
        "colab": {
          "base_uri": "https://localhost:8080/"
        },
        "id": "88661849",
        "outputId": "a1e764cc-19de-4c56-e6ef-2c96577ca586"
      },
      "outputs": [],
      "source": [
        "# @title Install Requirements\n",
        "\n",
        "# only install if we are running in colab\n",
        "import sys\n",
        "IN_COLAB = 'google.colab' in sys.modules\n",
        "if IN_COLAB:\n",
        "    %pip install pupil-apriltags opencv-python matplotlib numpy"
      ]
    },
    {
      "cell_type": "markdown",
      "id": "b49b282d",
      "metadata": {
        "id": "b49b282d"
      },
      "source": [
        "---\n",
        "\n",
        "## Hardware Preparation"
      ]
    },
    {
      "cell_type": "markdown",
      "id": "2da90207",
      "metadata": {
        "id": "2da90207"
      },
      "source": [
        "### 1. Print a Checkerboard Pattern\n",
        "\n",
        "To calibrate your camera, you will need a printed checkerboard pattern. You can download a standard A4 checkerboard from [here](https://raw.githubusercontent.com/opencv/opencv/master/doc/pattern.png) or [this PDF version](https://calib.io/pages/camera-calibration-pattern-generator). Print it out and attach it to a flat surface.\n"
      ]
    },
    {
      "cell_type": "markdown",
      "id": "155994bb",
      "metadata": {
        "id": "155994bb"
      },
      "source": [
        "### 2. Get AprilTag Images\n",
        "You can download an example AprilTag [tag41_12_00110](https://drive.google.com/file/d/15vwvnacpYkXJLtxag8rbLcZLsbhWkwwo/view?usp=sharing), or follow the steps below to generate a custom tag with your desired size and family. If you choose to use the example tag, you can jump to Camera Calibration\n"
      ]
    },
    {
      "cell_type": "markdown",
      "id": "18690901",
      "metadata": {
        "id": "18690901"
      },
      "source": [
        "#### Select AprilTag images\n",
        "\n",
        "You can find the images for the tags in the [apriltag-imgs repo](https://github.com/AprilRobotics/apriltag-imgs). \n",
        "\n",
        "> Note: \"For the vast majority of applications, the tagStandard41h12 family will be the correct choice. Scale up the images in your favorite editor and print them out or use the helper function below to automatically generate a printable SVG version of the tag at your desired size.\n",
        ">\n",
        "> Some heuristics for when to choose other tag families:\n",
        ">\n",
        "> 1. If you need more tags, use tagStandard52h13\n",
        "> 2. If you need to maximize the use of space on a small circular object, use tagCircle49h12 (or tagCircle21h7).\n",
        "> 3. If you want to make a recursive tag use tagCustom48h12.\n",
        "> 4. If you want compatibility with the ArUcO detector use tag36h11\n",
        ">\n",
        "> If none of these fit your needs, generate your own custom tag family [here](https://github.com/AprilRobotics/apriltag-generation).\"\n",
        "\n",
        "— *Source: [AprilTag GitHub README – Choosing a Tag Family](https://github.com/AprilRobotics/apriltag?tab=readme-ov-file#choosing-a-tag-family)*"
      ]
    },
    {
      "cell_type": "markdown",
      "id": "fce93c7f",
      "metadata": {
        "id": "fce93c7f"
      },
      "source": [
        "#### Get printable AprilTags\n",
        "\n",
        "This is a helper function for generating a scalable SVG version of an AprilTag from a PNG image. \n",
        "\n",
        "- `tag`: the full name of the tag, e.g., `\"tag41_12_00110\"`.\n",
        "\n",
        "- `tag_family`: the tag family the tag belongs to, e.g., `\"tagStandard41h12\"`."
      ]
    },
    {
      "cell_type": "code",
      "execution_count": null,
      "id": "9a0aaffb",
      "metadata": {
        "id": "9a0aaffb"
      },
      "outputs": [
        {
          "data": {
            "image/svg+xml": [
              "<svg xmlns=\"http://www.w3.org/2000/svg\" width=\"60mm\" height=\"60mm\" viewBox=\"0,0,9,9\">\n",
              "\t<rect width=\"1\" height=\"1\" x=\"0\" y=\"0\" fill=\"rgba(255, 255, 255, 1.0)\" id=\"box0-0\"/>\n",
              "\t<rect width=\"1\" height=\"1\" x=\"1\" y=\"0\" fill=\"rgba(255, 255, 255, 1.0)\" id=\"box1-0\"/>\n",
              "\t<rect width=\"1\" height=\"1\" x=\"2\" y=\"0\" fill=\"rgba(255, 255, 255, 1.0)\" id=\"box2-0\"/>\n",
              "\t<rect width=\"1\" height=\"1\" x=\"3\" y=\"0\" fill=\"rgba(255, 255, 255, 1.0)\" id=\"box3-0\"/>\n",
              "\t<rect width=\"1\" height=\"1\" x=\"4\" y=\"0\" fill=\"rgba(0, 0, 0, 1.0)\" id=\"box4-0\"/>\n",
              "\t<rect width=\"1\" height=\"1\" x=\"5\" y=\"0\" fill=\"rgba(255, 255, 255, 1.0)\" id=\"box5-0\"/>\n",
              "\t<rect width=\"1\" height=\"1\" x=\"6\" y=\"0\" fill=\"rgba(0, 0, 0, 1.0)\" id=\"box6-0\"/>\n",
              "\t<rect width=\"1\" height=\"1\" x=\"7\" y=\"0\" fill=\"rgba(255, 255, 255, 1.0)\" id=\"box7-0\"/>\n",
              "\t<rect width=\"1\" height=\"1\" x=\"8\" y=\"0\" fill=\"rgba(0, 0, 0, 1.0)\" id=\"box8-0\"/>\n",
              "\t<rect width=\"1\" height=\"1\" x=\"0\" y=\"1\" fill=\"rgba(255, 255, 255, 1.0)\" id=\"box0-1\"/>\n",
              "\t<rect width=\"1\" height=\"1\" x=\"1\" y=\"1\" fill=\"rgba(0, 0, 0, 1.0)\" id=\"box1-1\"/>\n",
              "\t<rect width=\"1\" height=\"1\" x=\"2\" y=\"1\" fill=\"rgba(0, 0, 0, 1.0)\" id=\"box2-1\"/>\n",
              "\t<rect width=\"1\" height=\"1\" x=\"3\" y=\"1\" fill=\"rgba(0, 0, 0, 1.0)\" id=\"box3-1\"/>\n",
              "\t<rect width=\"1\" height=\"1\" x=\"4\" y=\"1\" fill=\"rgba(0, 0, 0, 1.0)\" id=\"box4-1\"/>\n",
              "\t<rect width=\"1\" height=\"1\" x=\"5\" y=\"1\" fill=\"rgba(0, 0, 0, 1.0)\" id=\"box5-1\"/>\n",
              "\t<rect width=\"1\" height=\"1\" x=\"6\" y=\"1\" fill=\"rgba(0, 0, 0, 1.0)\" id=\"box6-1\"/>\n",
              "\t<rect width=\"1\" height=\"1\" x=\"7\" y=\"1\" fill=\"rgba(0, 0, 0, 1.0)\" id=\"box7-1\"/>\n",
              "\t<rect width=\"1\" height=\"1\" x=\"8\" y=\"1\" fill=\"rgba(0, 0, 0, 1.0)\" id=\"box8-1\"/>\n",
              "\t<rect width=\"1\" height=\"1\" x=\"0\" y=\"2\" fill=\"rgba(255, 255, 255, 1.0)\" id=\"box0-2\"/>\n",
              "\t<rect width=\"1\" height=\"1\" x=\"1\" y=\"2\" fill=\"rgba(0, 0, 0, 1.0)\" id=\"box1-2\"/>\n",
              "\t<rect width=\"1\" height=\"1\" x=\"2\" y=\"2\" fill=\"rgba(255, 255, 255, 1.0)\" id=\"box2-2\"/>\n",
              "\t<rect width=\"1\" height=\"1\" x=\"3\" y=\"2\" fill=\"rgba(255, 255, 255, 1.0)\" id=\"box3-2\"/>\n",
              "\t<rect width=\"1\" height=\"1\" x=\"4\" y=\"2\" fill=\"rgba(255, 255, 255, 1.0)\" id=\"box4-2\"/>\n",
              "\t<rect width=\"1\" height=\"1\" x=\"5\" y=\"2\" fill=\"rgba(255, 255, 255, 1.0)\" id=\"box5-2\"/>\n",
              "\t<rect width=\"1\" height=\"1\" x=\"6\" y=\"2\" fill=\"rgba(255, 255, 255, 1.0)\" id=\"box6-2\"/>\n",
              "\t<rect width=\"1\" height=\"1\" x=\"7\" y=\"2\" fill=\"rgba(0, 0, 0, 1.0)\" id=\"box7-2\"/>\n",
              "\t<rect width=\"1\" height=\"1\" x=\"8\" y=\"2\" fill=\"rgba(0, 0, 0, 1.0)\" id=\"box8-2\"/>\n",
              "\t<rect width=\"1\" height=\"1\" x=\"0\" y=\"3\" fill=\"rgba(255, 255, 255, 1.0)\" id=\"box0-3\"/>\n",
              "\t<rect width=\"1\" height=\"1\" x=\"1\" y=\"3\" fill=\"rgba(0, 0, 0, 1.0)\" id=\"box1-3\"/>\n",
              "\t<rect width=\"1\" height=\"1\" x=\"2\" y=\"3\" fill=\"rgba(255, 255, 255, 1.0)\" id=\"box2-3\"/>\n",
              "\t<rect width=\"1\" height=\"1\" x=\"3\" y=\"3\" fill=\"rgba(255, 255, 255, 1.0)\" id=\"box3-3\"/>\n",
              "\t<rect width=\"1\" height=\"1\" x=\"4\" y=\"3\" fill=\"rgba(255, 255, 255, 1.0)\" id=\"box4-3\"/>\n",
              "\t<rect width=\"1\" height=\"1\" x=\"5\" y=\"3\" fill=\"rgba(0, 0, 0, 1.0)\" id=\"box5-3\"/>\n",
              "\t<rect width=\"1\" height=\"1\" x=\"6\" y=\"3\" fill=\"rgba(255, 255, 255, 1.0)\" id=\"box6-3\"/>\n",
              "\t<rect width=\"1\" height=\"1\" x=\"7\" y=\"3\" fill=\"rgba(0, 0, 0, 1.0)\" id=\"box7-3\"/>\n",
              "\t<rect width=\"1\" height=\"1\" x=\"8\" y=\"3\" fill=\"rgba(0, 0, 0, 1.0)\" id=\"box8-3\"/>\n",
              "\t<rect width=\"1\" height=\"1\" x=\"0\" y=\"4\" fill=\"rgba(0, 0, 0, 1.0)\" id=\"box0-4\"/>\n",
              "\t<rect width=\"1\" height=\"1\" x=\"1\" y=\"4\" fill=\"rgba(0, 0, 0, 1.0)\" id=\"box1-4\"/>\n",
              "\t<rect width=\"1\" height=\"1\" x=\"2\" y=\"4\" fill=\"rgba(255, 255, 255, 1.0)\" id=\"box2-4\"/>\n",
              "\t<rect width=\"1\" height=\"1\" x=\"3\" y=\"4\" fill=\"rgba(0, 0, 0, 1.0)\" id=\"box3-4\"/>\n",
              "\t<rect width=\"1\" height=\"1\" x=\"4\" y=\"4\" fill=\"rgba(255, 255, 255, 1.0)\" id=\"box4-4\"/>\n",
              "\t<rect width=\"1\" height=\"1\" x=\"5\" y=\"4\" fill=\"rgba(255, 255, 255, 1.0)\" id=\"box5-4\"/>\n",
              "\t<rect width=\"1\" height=\"1\" x=\"6\" y=\"4\" fill=\"rgba(255, 255, 255, 1.0)\" id=\"box6-4\"/>\n",
              "\t<rect width=\"1\" height=\"1\" x=\"7\" y=\"4\" fill=\"rgba(0, 0, 0, 1.0)\" id=\"box7-4\"/>\n",
              "\t<rect width=\"1\" height=\"1\" x=\"8\" y=\"4\" fill=\"rgba(255, 255, 255, 1.0)\" id=\"box8-4\"/>\n",
              "\t<rect width=\"1\" height=\"1\" x=\"0\" y=\"5\" fill=\"rgba(255, 255, 255, 1.0)\" id=\"box0-5\"/>\n",
              "\t<rect width=\"1\" height=\"1\" x=\"1\" y=\"5\" fill=\"rgba(0, 0, 0, 1.0)\" id=\"box1-5\"/>\n",
              "\t<rect width=\"1\" height=\"1\" x=\"2\" y=\"5\" fill=\"rgba(255, 255, 255, 1.0)\" id=\"box2-5\"/>\n",
              "\t<rect width=\"1\" height=\"1\" x=\"3\" y=\"5\" fill=\"rgba(255, 255, 255, 1.0)\" id=\"box3-5\"/>\n",
              "\t<rect width=\"1\" height=\"1\" x=\"4\" y=\"5\" fill=\"rgba(0, 0, 0, 1.0)\" id=\"box4-5\"/>\n",
              "\t<rect width=\"1\" height=\"1\" x=\"5\" y=\"5\" fill=\"rgba(255, 255, 255, 1.0)\" id=\"box5-5\"/>\n",
              "\t<rect width=\"1\" height=\"1\" x=\"6\" y=\"5\" fill=\"rgba(255, 255, 255, 1.0)\" id=\"box6-5\"/>\n",
              "\t<rect width=\"1\" height=\"1\" x=\"7\" y=\"5\" fill=\"rgba(0, 0, 0, 1.0)\" id=\"box7-5\"/>\n",
              "\t<rect width=\"1\" height=\"1\" x=\"8\" y=\"5\" fill=\"rgba(0, 0, 0, 1.0)\" id=\"box8-5\"/>\n",
              "\t<rect width=\"1\" height=\"1\" x=\"0\" y=\"6\" fill=\"rgba(0, 0, 0, 1.0)\" id=\"box0-6\"/>\n",
              "\t<rect width=\"1\" height=\"1\" x=\"1\" y=\"6\" fill=\"rgba(0, 0, 0, 1.0)\" id=\"box1-6\"/>\n",
              "\t<rect width=\"1\" height=\"1\" x=\"2\" y=\"6\" fill=\"rgba(255, 255, 255, 1.0)\" id=\"box2-6\"/>\n",
              "\t<rect width=\"1\" height=\"1\" x=\"3\" y=\"6\" fill=\"rgba(255, 255, 255, 1.0)\" id=\"box3-6\"/>\n",
              "\t<rect width=\"1\" height=\"1\" x=\"4\" y=\"6\" fill=\"rgba(255, 255, 255, 1.0)\" id=\"box4-6\"/>\n",
              "\t<rect width=\"1\" height=\"1\" x=\"5\" y=\"6\" fill=\"rgba(255, 255, 255, 1.0)\" id=\"box5-6\"/>\n",
              "\t<rect width=\"1\" height=\"1\" x=\"6\" y=\"6\" fill=\"rgba(255, 255, 255, 1.0)\" id=\"box6-6\"/>\n",
              "\t<rect width=\"1\" height=\"1\" x=\"7\" y=\"6\" fill=\"rgba(0, 0, 0, 1.0)\" id=\"box7-6\"/>\n",
              "\t<rect width=\"1\" height=\"1\" x=\"8\" y=\"6\" fill=\"rgba(0, 0, 0, 1.0)\" id=\"box8-6\"/>\n",
              "\t<rect width=\"1\" height=\"1\" x=\"0\" y=\"7\" fill=\"rgba(0, 0, 0, 1.0)\" id=\"box0-7\"/>\n",
              "\t<rect width=\"1\" height=\"1\" x=\"1\" y=\"7\" fill=\"rgba(0, 0, 0, 1.0)\" id=\"box1-7\"/>\n",
              "\t<rect width=\"1\" height=\"1\" x=\"2\" y=\"7\" fill=\"rgba(0, 0, 0, 1.0)\" id=\"box2-7\"/>\n",
              "\t<rect width=\"1\" height=\"1\" x=\"3\" y=\"7\" fill=\"rgba(0, 0, 0, 1.0)\" id=\"box3-7\"/>\n",
              "\t<rect width=\"1\" height=\"1\" x=\"4\" y=\"7\" fill=\"rgba(0, 0, 0, 1.0)\" id=\"box4-7\"/>\n",
              "\t<rect width=\"1\" height=\"1\" x=\"5\" y=\"7\" fill=\"rgba(0, 0, 0, 1.0)\" id=\"box5-7\"/>\n",
              "\t<rect width=\"1\" height=\"1\" x=\"6\" y=\"7\" fill=\"rgba(0, 0, 0, 1.0)\" id=\"box6-7\"/>\n",
              "\t<rect width=\"1\" height=\"1\" x=\"7\" y=\"7\" fill=\"rgba(0, 0, 0, 1.0)\" id=\"box7-7\"/>\n",
              "\t<rect width=\"1\" height=\"1\" x=\"8\" y=\"7\" fill=\"rgba(255, 255, 255, 1.0)\" id=\"box8-7\"/>\n",
              "\t<rect width=\"1\" height=\"1\" x=\"0\" y=\"8\" fill=\"rgba(255, 255, 255, 1.0)\" id=\"box0-8\"/>\n",
              "\t<rect width=\"1\" height=\"1\" x=\"1\" y=\"8\" fill=\"rgba(255, 255, 255, 1.0)\" id=\"box1-8\"/>\n",
              "\t<rect width=\"1\" height=\"1\" x=\"2\" y=\"8\" fill=\"rgba(0, 0, 0, 1.0)\" id=\"box2-8\"/>\n",
              "\t<rect width=\"1\" height=\"1\" x=\"3\" y=\"8\" fill=\"rgba(0, 0, 0, 1.0)\" id=\"box3-8\"/>\n",
              "\t<rect width=\"1\" height=\"1\" x=\"4\" y=\"8\" fill=\"rgba(0, 0, 0, 1.0)\" id=\"box4-8\"/>\n",
              "\t<rect width=\"1\" height=\"1\" x=\"5\" y=\"8\" fill=\"rgba(0, 0, 0, 1.0)\" id=\"box5-8\"/>\n",
              "\t<rect width=\"1\" height=\"1\" x=\"6\" y=\"8\" fill=\"rgba(0, 0, 0, 1.0)\" id=\"box6-8\"/>\n",
              "\t<rect width=\"1\" height=\"1\" x=\"7\" y=\"8\" fill=\"rgba(0, 0, 0, 1.0)\" id=\"box7-8\"/>\n",
              "\t<rect width=\"1\" height=\"1\" x=\"8\" y=\"8\" fill=\"rgba(255, 255, 255, 1.0)\" id=\"box8-8\"/>\n",
              "</svg>"
            ],
            "text/plain": [
              "<IPython.core.display.SVG object>"
            ]
          },
          "metadata": {},
          "output_type": "display_data"
        }
      ],
      "source": [
        "# @title Generate SVG AprilTag\n",
        "tag = \"tag41_12_00110\"#@param {type:\"string\"}\n",
        "tag_family = \"tagStandard41h12\"  # @param [\"tag16h5\", \"tag25h9\", \"tag36h11\", \"tagCircle21h7\", \"tagCircle49h12\", \"tagCustom48h12\", \"tagStandard41h12\", \"tagStandard52h13\"]\n",
        "\n",
        "import os\n",
        "import requests\n",
        "from PIL import Image\n",
        "from IPython.display import SVG, display\n",
        "\n",
        "def generate_apriltag_svg(tag_name: str, tag_family: str = \"tagStandard41h12\", size_mm: int = 60):\n",
        "    \"\"\"\n",
        "    Download an AprilTag PNG and convert it to SVG with a given physical size.\n",
        "    \"\"\"\n",
        "    filename = f\"{tag_name}.png\"\n",
        "    svg_filename = f\"{tag_name}_{size_mm}mm.svg\"\n",
        "    png_url = f\"https://raw.githubusercontent.com/AprilRobotics/apriltag-imgs/master/{tag_family}/{filename}\"\n",
        "\n",
        "    # Download tag PNG if not already downloaded\n",
        "    if not os.path.exists(filename):\n",
        "        r = requests.get(png_url)\n",
        "        if r.status_code == 200:\n",
        "            with open(filename, \"wb\") as f:\n",
        "                f.write(r.content)\n",
        "        else:\n",
        "            raise ValueError(f\"Failed to download image. Status code: {r.status_code}\")\n",
        "\n",
        "    # Convert PNG to SVG\n",
        "    def gen_rgba(rbga):\n",
        "        (_r, _g, _b, _raw_a) = rbga\n",
        "        _a = _raw_a / 255\n",
        "        return f'rgba({_r}, {_g}, {_b}, {_a})'\n",
        "\n",
        "    def gen_gridsquare(row_num, col_num, pixel):\n",
        "        _rgba = gen_rgba(pixel)\n",
        "        _id = f'box{row_num}-{col_num}'\n",
        "        return f'\\t<rect width=\"1\" height=\"1\" x=\"{row_num}\" y=\"{col_num}\" fill=\"{_rgba}\" id=\"{_id}\"/>\\n'\n",
        "\n",
        "    def gen_apriltag_svg(width, height, pixel_array, size):\n",
        "        svg_text = '<?xml version=\"1.0\" standalone=\"yes\"?>\\n'\n",
        "        svg_text += f'<svg width=\"{size}\" height=\"{size}\" viewBox=\"0,0,{width},{height}\" xmlns=\"http://www.w3.org/2000/svg\">\\n'\n",
        "        for _y in range(height):\n",
        "            for _x in range(width):\n",
        "                svg_text += gen_gridsquare(_x, _y, pixel_array[_x, _y])\n",
        "        svg_text += '</svg>\\n'\n",
        "        return svg_text\n",
        "\n",
        "    with Image.open(filename, 'r') as im:\n",
        "        width, height = im.size\n",
        "        pix_vals = im.load()\n",
        "        svg_text = gen_apriltag_svg(width, height, pix_vals, f\"{size_mm}mm\")\n",
        "\n",
        "    with open(svg_filename, 'w') as fp:\n",
        "        fp.write(svg_text)\n",
        "\n",
        "    if os.path.exists(svg_filename):\n",
        "        display(SVG(filename=svg_filename))\n",
        "    else:\n",
        "        raise FileNotFoundError(f\"{svg_filename} not generated.\")\n",
        "\n",
        "    \n",
        "generate_apriltag_svg(tag, tag_family)"
      ]
    },
    {
      "cell_type": "markdown",
      "id": "6cfad905",
      "metadata": {
        "id": "6cfad905"
      },
      "source": [
        "You can convert the generated PDF file into a .png image and insert it into a document editor (e.g., Microsoft Word, Pages, or Google Docs) to adjust its printed size as needed.\n",
        "\n",
        "---"
      ]
    },
    {
      "cell_type": "markdown",
      "id": "280945a7",
      "metadata": {
        "id": "280945a7"
      },
      "source": [
        "## Camera Calibration"
      ]
    },
    {
      "cell_type": "markdown",
      "id": "8437dac9",
      "metadata": {
        "id": "8437dac9"
      },
      "source": [
        "### 1. Camera Calibration Photo Guide\n",
        "\n",
        "Camera calibration requires using the printed checkerboard and the camera you want to calibrate. Please follow the guidelines below when capturing images of the checkerboard:\n",
        "\n",
        "- Use the same printed checkerboard for all photos.\n",
        "- Place the checkerboard on a flat and rigid surface to avoid distortion.\n",
        "- Use even lighting and make sure the checkerboard is sharp, unobstructed, and fully within the frame。\n",
        "- Capture checkerboard images from a variety of positions, distances, and angles to improve calibration accuracy.\n",
        "- Capture at least 10 images, ideally 15–20, from different angles and distances.\n",
        "- Save all images in a consistent format such as .jpg or .png, and ensure that all images have the same resolution.\n",
        "\n",
        "After calibration, store all images in one folder.\n",
        "\n",
        "We provide a set of hard-coded checkerboard images in a [ZIP file](checkerboard_images.zip), manually captured for camera calibration purposes. Below are two sample images from the set:\n",
        "<p align=\"center\">\n",
        "  <img src=\"https://images.weserv.nl/?url=drive.google.com/uc?id=1zcOI8qm66jzLp7icGdK0QkAoDe6242LN\" width=\"500\"/>\n",
        "  <img src=\"https://images.weserv.nl/?url=drive.google.com/uc?id=1VQm7praOF-hAJWy9hWhg3dnKDokBXhug\" width=\"500\"/>\n",
        "</p>\n",
        "\n",
        "\n",
        "\n"
      ]
    },
    {
      "cell_type": "markdown",
      "id": "79190b90",
      "metadata": {
        "id": "79190b90"
      },
      "source": [
        "### 2. Run Camera Calibration with Checkerboard Images"
      ]
    },
    {
      "cell_type": "markdown",
      "id": "a9e2d0f8",
      "metadata": {},
      "source": [
        "Run the cell below to either upload your own checkerboard images or use the pre-supplied ones."
      ]
    },
    {
      "cell_type": "code",
      "execution_count": null,
      "id": "4bd6ad75",
      "metadata": {},
      "outputs": [],
      "source": [
        "# @title Get Checkerboard Images\n",
        "# @markdown Upload your own checkerboard images or use the pre-supplied one if `test` mode is enabled.\n",
        "\n",
        "import os\n",
        "from google.colab import files\n",
        "\n",
        "image_dir = \"/content/checkerboard_images\"\n",
        "os.makedirs(image_dir, exist_ok=True)\n",
        "\n",
        "if test:\n",
        "    !wget -O checkerboard_images.zip https://raw.githubusercontent.com/AccelerationConsortium/ac-training-lab/apriltag_demo/src/ac_training_lab/apriltag_demo/checkerboard_images.zip\n",
        "    !unzip -o -j checkerboard_images.zip -d {image_dir}\n",
        "else:\n",
        "    uploaded = files.upload()\n",
        "    for name in uploaded.keys():\n",
        "        os.rename(name, os.path.join(image_dir, name))\n",
        "\n",
        "image_paths = [\n",
        "    os.path.join(image_dir, f)\n",
        "    for f in sorted(os.listdir(image_dir))\n",
        "    if f.lower().endswith(('.jpg', '.png'))\n",
        "]\n"
      ]
    },
    {
      "cell_type": "markdown",
      "id": "4de15e4e",
      "metadata": {},
      "source": [
        "You should modify the following four parameters to calibrate your camera.\n",
        "\n",
        "- rows: the number of inner corners in the vertical direction.\n",
        "\n",
        "- cols: the number of inner corners in the horizontal direction.\n",
        "\n",
        "> Note: These refer to the number of corner intersections, not the number of squares.\n",
        "\n",
        "- size: the length of one square on the checkerboard, in millimeters."
      ]
    },
    {
      "cell_type": "code",
      "execution_count": null,
      "id": "a12766b5",
      "metadata": {
        "colab": {
          "base_uri": "https://localhost:8080/",
          "height": 211
        },
        "id": "a12766b5",
        "outputId": "2d0b3614-99b1-463a-f2f1-276590f6ac95"
      },
      "outputs": [],
      "source": [
        "# @title Calibrate Camera\n",
        "rows = 6  # @param {type:\"integer\"}\n",
        "cols = 9  # @param {type:\"integer\"}\n",
        "square_size = 23  # @param {type:\"number\"}\n",
        "\n",
        "import numpy as np\n",
        "import cv2\n",
        "from google.colab.patches import cv2_imshow\n",
        "from typing import List, Tuple\n",
        "import matplotlib.pyplot as plt\n",
        "\n",
        "def calibrate_camera_from_images(\n",
        "    image_paths: List[str],\n",
        "    rows: int,\n",
        "    cols: int,\n",
        "    square_size: float,\n",
        "    show_detections: bool = False,\n",
        "    save_path: str = None\n",
        ") -> Tuple[np.ndarray, Tuple[float, float, float, float]]:\n",
        "    pattern_size = (cols, rows) if rows < cols else (rows, cols)\n",
        "    \n",
        "    x = np.arange(pattern_size[0]) * square_size\n",
        "    y = np.arange(pattern_size[1]) * square_size\n",
        "    xgrid, ygrid = np.meshgrid(x, y)\n",
        "    zgrid = np.zeros_like(xgrid)\n",
        "    opoints = np.dstack((xgrid, ygrid, zgrid)).reshape((-1, 1, 3)).astype(np.float32)\n",
        "\n",
        "    imagesize = None\n",
        "    ipoints = []\n",
        "\n",
        "    for filename in image_paths:\n",
        "        rgb = cv2.imread(filename)\n",
        "        if rgb is None:\n",
        "            print(f'Error loading {filename}, skipping.')\n",
        "            continue\n",
        "\n",
        "        if imagesize is None:\n",
        "            imagesize = (rgb.shape[1], rgb.shape[0])\n",
        "        else:\n",
        "            assert imagesize == (rgb.shape[1], rgb.shape[0]), \"Inconsistent image sizes.\"\n",
        "\n",
        "        gray = cv2.cvtColor(rgb, cv2.COLOR_RGB2GRAY) if len(rgb.shape) == 3 else rgb\n",
        "        found, corners = cv2.findChessboardCorners(gray, pattern_size)\n",
        "\n",
        "        if show_detections:\n",
        "            display_img = cv2.cvtColor(gray, cv2.COLOR_GRAY2BGR)\n",
        "            cv2.drawChessboardCorners(display_img, pattern_size, corners, found)\n",
        "            cv2_imshow(display_img)\n",
        "            plt.close('all') \n",
        "\n",
        "        if found:\n",
        "            ipoints.append(corners)\n",
        "        else:\n",
        "            print(f'No corners found in {filename}, skipping.')\n",
        "\n",
        "    if len(ipoints) < 1:\n",
        "        raise ValueError(\"No valid images with detected corners found.\")\n",
        "\n",
        "    flags = (cv2.CALIB_ZERO_TANGENT_DIST |\n",
        "             cv2.CALIB_FIX_K1 |\n",
        "             cv2.CALIB_FIX_K2 |\n",
        "             cv2.CALIB_FIX_K3 |\n",
        "             cv2.CALIB_FIX_K4 |\n",
        "             cv2.CALIB_FIX_K5 |\n",
        "             cv2.CALIB_FIX_K6)\n",
        "\n",
        "    retval, K, dcoeffs, rvecs, tvecs = cv2.calibrateCamera(\n",
        "        [opoints] * len(ipoints),\n",
        "        ipoints,\n",
        "        imagesize,\n",
        "        cameraMatrix=None,\n",
        "        distCoeffs=np.zeros(5),\n",
        "        flags=flags\n",
        "    )\n",
        "\n",
        "    fx, fy, cx, cy = K[0,0], K[1,1], K[0,2], K[1,2]\n",
        "    if save_path:\n",
        "        np.save(save_path, np.array([fx, fy, cx, cy]))\n",
        "        print(f'Saved camera parameters to {save_path}')\n",
        "\n",
        "    print(\"\\nCamera intrinsics (units: pixels):\")\n",
        "    print(f\"  fx = {fx:.3f}\")\n",
        "    print(f\"  fy = {fy:.3f}\")\n",
        "    print(f\"  cx = {cx:.3f}\")\n",
        "    print(f\"  cy = {cy:.3f}\")\n",
        "    print(f\"\\nPython copy-paste: fx, fy, cx, cy = {(fx, fy, cx, cy)}\")\n",
        "\n",
        "    return K, (fx, fy, cx, cy)\n",
        "\n",
        "K, (fx, fy, cx, cy) = calibrate_camera_from_images(\n",
        "    image_paths=image_paths,\n",
        "    rows=rows,\n",
        "    cols=cols,\n",
        "    square_size=square_size,\n",
        "    show_detections=True,\n",
        "    save_path=\"/content/camera_params.npy\"\n",
        ")"
      ]
    },
    {
      "cell_type": "markdown",
      "id": "dd4f194a",
      "metadata": {
        "id": "dd4f194a"
      },
      "source": [
        "---\n",
        "\n",
        "## AprilTag Detection"
      ]
    },
    {
      "cell_type": "markdown",
      "id": "a44aafce",
      "metadata": {},
      "source": [
        "Run the cell below to either upload your own AprilTag image or use the pre-supplied ones."
      ]
    },
    {
      "cell_type": "code",
      "execution_count": null,
      "id": "5941337f",
      "metadata": {},
      "outputs": [],
      "source": [
        "# @title Get AprilTag Image\n",
        "# @markdown Upload your own AprilTag image or use the pre-supplied one if `test` mode is enabled.\n",
        "\n",
        "if test:\n",
        "    !wget -O apriltag_example.jpg https://raw.githubusercontent.com/AccelerationConsortium/ac-training-lab/apriltag_demo/src/ac_training_lab/apriltag_demo/apriltag_test/apriltag_test.jpg\n",
        "    apriltag_path = \"/content/apriltag_test.jpg\"\n",
        "else:\n",
        "    uploaded = files.upload()\n",
        "    if len(uploaded) == 0:\n",
        "        raise ValueError(\"No image uploaded.\")\n",
        "    apriltag_filename = next(iter(uploaded))\n",
        "    apriltag_path = os.path.join(\"/content\", apriltag_filename)"
      ]
    },
    {
      "cell_type": "markdown",
      "id": "48ee4b58",
      "metadata": {
        "id": "48ee4b58"
      },
      "source": [
        "\n",
        "You should modify the following three parameters to recongnize the apriltag.  \n",
        "\n",
        "- `families`: the tag family the AprilTag belongs to (e.g., `tag16h5`, `tagStandard41h12`, `tag36h11`, etc.).\n",
        "\n",
        "- `tagsize`: The size of the tag in centimeters. \n",
        "\n",
        "> Note: \"Each tag design has a black border and a white border, but some designs have the white border on the inside and some have the black border on the inside. The tagsize is thus measured from where the two borders meet, see the figure below for an example. The tag size should not be measured from the outside of the tag. The tag size is defined as the distance between the detection corners, or alternately, the length of the edge between the white border and the black border. The following illustration marks the detection corners with red Xs and the tag size with a red arrow for a tag from the 48h12Custom tag family.\"\n",
        "\n",
        "— *Source: [AprilTag GitHub README – Pose Estimation](https://github.com/AprilRobotics/apriltag?tab=readme-ov-file#pose-estimation)*\n",
        "<p align=\"center\">\n",
        "  <img src=\"https://raw.githubusercontent.com/AprilRobotics/apriltag/master/tag_size_48h12.png\" alt=\"AprilTag Example\" width=\"400\">\n",
        "</p>"
      ]
    },
    {
      "cell_type": "markdown",
      "id": "6caf452f",
      "metadata": {},
      "source": [
        "We provide an example AprilTag image [here](apriltag_test\\apriltag_test.jpg)"
      ]
    },
    {
      "cell_type": "code",
      "execution_count": null,
      "id": "57f9f8e1",
      "metadata": {
        "id": "57f9f8e1",
        "outputId": "ead75a28-06cc-4fde-d4a3-fd4435f27991"
      },
      "outputs": [],
      "source": [
        "# @title AprilTag Detection\n",
        "# @markdown Configure detection parameters and run detection on the image.\n",
        "\n",
        "families = \"tagStandard41h12\"  # @param [\"tag16h5\", \"tag25h9\", \"tag36h11\", \"tagCircle21h7\", \"tagCircle49h12\", \"tagCustom48h12\", \"tagStandard41h12\", \"tagStandard52h13\"]\n",
        "tagsize = 4.5 # @param {type:\"number\"}\n",
        "\n",
        "import cv2\n",
        "import numpy as np\n",
        "from pupil_apriltags import Detector\n",
        "from scipy.spatial.transform import Rotation as R\n",
        "import matplotlib.pyplot as plt\n",
        "\n",
        "image = cv2.imread(apriltag_path, cv2.IMREAD_GRAYSCALE)\n",
        "if image is None:\n",
        "    raise ValueError(f\"Failed to load image at {apriltag_path}\")\n",
        "\n",
        "camera_params = np.load(\"/content/camera_params.npy\")\n",
        "\n",
        "at_detector = Detector(\n",
        "    families=families,\n",
        "    nthreads=1,\n",
        "    quad_decimate=1.0,\n",
        "    quad_sigma=0.0,\n",
        "    refine_edges=1,\n",
        "    decode_sharpening=0.25,\n",
        "    debug=0\n",
        ")\n",
        "\n",
        "detections = at_detector.detect(\n",
        "    image,\n",
        "    estimate_tag_pose=True,\n",
        "    camera_params=camera_params,\n",
        "    tag_size=tagsize\n",
        ")\n",
        "\n",
        "print(f\"Found {len(detections)} tags\")\n",
        "\n",
        "for det in detections:\n",
        "    tag_id = det.tag_id\n",
        "    center = det.center\n",
        "    corners = det.corners.astype(int)\n",
        "\n",
        "    cv2.polylines(image, [corners], True, 255, 2)\n",
        "    cx, cy = map(int, center)\n",
        "    cv2.circle(image, (cx, cy), 4, 255, -1)\n",
        "    cv2.putText(image, str(tag_id), (cx, cy - 10), cv2.FONT_HERSHEY_SIMPLEX, 0.5, 255, 1)\n",
        "\n",
        "    print(f\"\\nTag ID: {tag_id}\")\n",
        "    print(f\"  Center: {center}\")\n",
        "    print(f\"  Corners: {det.corners}\")\n",
        "\n",
        "    if det.pose_t is not None:\n",
        "        t = det.pose_t.flatten()\n",
        "        print(f\"  Translation (x, y, z): {t}\")\n",
        "        print(f\"  Distance from camera: {np.linalg.norm(t):.2f} meters\")\n",
        "\n",
        "        euler = R.from_matrix(det.pose_R).as_euler('xyz', degrees=True)\n",
        "        roll, pitch, yaw = euler\n",
        "        print(f\"  Roll: {roll:.2f}°, Pitch: {pitch:.2f}°, Yaw: {yaw:.2f}°\")\n",
        "    else:\n",
        "        print(\"No pose estimated (pose_t is None)\")\n",
        "\n",
        "plt.imshow(image, cmap='gray')\n",
        "plt.title(\"AprilTag Detection\")\n",
        "plt.show()"
      ]
    },
    {
      "cell_type": "markdown",
      "id": "b057e155",
      "metadata": {
        "id": "b057e155"
      },
      "source": [
        "### Output Field Explanation\n",
        "\n",
        "- **Tag ID**: The unique identifier of the detected AprilTag.\n",
        "\n",
        "- **Center**: The (x, y) pixel coordinates of the tag's center in the image.\n",
        "\n",
        "- **Corners**: The pixel coordinates of the tag’s four corners, typically ordered counterclockwise.\n",
        "\n",
        "The camera coordinate system follows OpenCV's default convention:\n",
        "\n",
        "- x-axis: right  \n",
        "- y-axis: down  \n",
        "- z-axis: forward (into the scene)\n",
        "\n",
        "- **Translation (x, y, z)**: The tag’s 3D position relative to the camera, in centimeters:\n",
        "  - x: horizontal offset (left/right)\n",
        "  - y: vertical offset (up/down)\n",
        "  - z: distance from the camera (depth)\n",
        "\n",
        "- **Distance from camera**: The Euclidean distance between the camera and the tag’s center in 3D space.\n",
        "\n",
        "- **Roll, Pitch, Yaw**: The tag’s rotation angles relative to the camera, in degrees:\n",
        "  - Roll: rotation around the x-axis\n",
        "  - Pitch: rotation around the y-axis\n",
        "  - Yaw: rotation around the z-axis\n"
      ]
    }
  ],
  "metadata": {
    "colab": {
      "provenance": [],
      "toc_visible": true
    },
    "kernelspec": {
      "display_name": "Python 3",
      "language": "python",
      "name": "python3"
    },
    "language_info": {
      "codemirror_mode": {
        "name": "ipython",
        "version": 3
      },
      "file_extension": ".py",
      "mimetype": "text/x-python",
      "name": "python",
      "nbconvert_exporter": "python",
      "pygments_lexer": "ipython3",
      "version": "3.11.7"
    }
  },
  "nbformat": 4,
  "nbformat_minor": 5
}
