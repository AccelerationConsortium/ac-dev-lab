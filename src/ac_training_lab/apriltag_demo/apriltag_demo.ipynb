{
  "cells": [
    {
      "cell_type": "markdown",
      "id": "84093c81",
      "metadata": {
        "id": "84093c81"
      },
      "source": [
        "# Self-contained Demos of AprilTag Usage"
      ]
    },
    {
      "cell_type": "markdown",
      "id": "37eb7451",
      "metadata": {
        "id": "37eb7451"
      },
      "source": [
        "This Jupyter Notebook provides a complete guide to AprilTag recognition using computer vision techniques. It covers how to print an AprilTag, perform camera calibration with `OpenCV`, and detect tags in captured images. The notebook demonstrates how to retrieve each tag’s ID as well as its relative position and orientation using the `pupil-apriltags` library, enabling accurate spatial understanding from visual input."
      ]
    },
    {
      "cell_type": "markdown",
      "id": "9f056727",
      "metadata": {
        "id": "9f056727"
      },
      "source": [
        "## Requirements"
      ]
    },
    {
      "cell_type": "markdown",
      "id": "9270ab83",
      "metadata": {
        "id": "9270ab83"
      },
      "source": [
        "1. This notebook requires the following files located in `src/ac_training_lab/apriltag_demo` for camera calibration. To download them, we use `git sparse-checkout` to clone only that specific directory from the repository:"
      ]
    },
    {
      "cell_type": "code",
      "execution_count": 1,
      "id": "88661849",
      "metadata": {
        "colab": {
          "base_uri": "https://localhost:8080/"
        },
        "id": "88661849",
        "outputId": "a1e764cc-19de-4c56-e6ef-2c96577ca586"
      },
      "outputs": [
        {
          "name": "stdout",
          "output_type": "stream",
          "text": [
            "Cloning into 'ac-training-lab'...\n",
            "remote: Enumerating objects: 75, done.\u001b[K\n",
            "remote: Counting objects: 100% (75/75), done.\u001b[K\n",
            "remote: Compressing objects: 100% (61/61), done.\u001b[K\n",
            "remote: Total 75 (delta 1), reused 45 (delta 1), pack-reused 0 (from 0)\u001b[K\n",
            "Receiving objects: 100% (75/75), 17.87 KiB | 1016.00 KiB/s, done.\n",
            "Resolving deltas: 100% (1/1), done.\n",
            "remote: Enumerating objects: 17, done.\u001b[K\n",
            "remote: Counting objects: 100% (17/17), done.\u001b[K\n",
            "remote: Compressing objects: 100% (17/17), done.\u001b[K\n",
            "remote: Total 17 (delta 0), reused 11 (delta 0), pack-reused 0 (from 0)\u001b[K\n",
            "Receiving objects: 100% (17/17), 15.19 KiB | 3.80 MiB/s, done.\n",
            "/content/ac-training-lab\n",
            "remote: Enumerating objects: 1, done.\u001b[K\n",
            "remote: Counting objects: 100% (1/1), done.\u001b[K\n",
            "remote: Total 1 (delta 0), reused 0 (delta 0), pack-reused 0 (from 0)\u001b[K\n",
            "Receiving objects: 100% (1/1), 83 bytes | 83.00 KiB/s, done.\n"
          ]
        }
      ],
      "source": [
        "!git clone --depth 1 --filter=blob:none --sparse https://github.com/AccelerationConsortium/ac-training-lab.git\n",
        "%cd ac-training-lab\n",
        "!git sparse-checkout set src/ac_training_lab/apriltag_demo"
      ]
    },
    {
      "cell_type": "markdown",
      "id": "cfb33efc",
      "metadata": {
        "id": "cfb33efc"
      },
      "source": [
        "2. This notebook uses the following Python libraries:"
      ]
    },
    {
      "cell_type": "markdown",
      "id": "76906809",
      "metadata": {
        "id": "76906809"
      },
      "source": [
        "- `pupil-apriltags` — for AprilTag detection and pose estimation\n",
        "- `opencv-python` — for camera calibration and image processing\n",
        "- `numpy`, `matplotlib` — for math and visualization"
      ]
    },
    {
      "cell_type": "code",
      "execution_count": 2,
      "id": "47c0fd55",
      "metadata": {
        "colab": {
          "base_uri": "https://localhost:8080/"
        },
        "id": "47c0fd55",
        "outputId": "b0f5df98-7851-40d2-dc91-75bb023c0bbf"
      },
      "outputs": [
        {
          "name": "stdout",
          "output_type": "stream",
          "text": [
            "Installing pupil-apriltags ...\n",
            "Collecting pupil-apriltags\n",
            "  Downloading pupil_apriltags-1.0.4.post11-cp311-cp311-manylinux_2_17_x86_64.manylinux2014_x86_64.whl.metadata (4.4 kB)\n",
            "Requirement already satisfied: numpy in /usr/local/lib/python3.11/dist-packages (from pupil-apriltags) (2.0.2)\n",
            "Downloading pupil_apriltags-1.0.4.post11-cp311-cp311-manylinux_2_17_x86_64.manylinux2014_x86_64.whl (4.9 MB)\n",
            "\u001b[2K   \u001b[90m━━━━━━━━━━━━━━━━━━━━━━━━━━━━━━━━━━━━━━━━\u001b[0m \u001b[32m4.9/4.9 MB\u001b[0m \u001b[31m2.2 MB/s\u001b[0m eta \u001b[36m0:00:00\u001b[0m\n",
            "\u001b[?25hInstalling collected packages: pupil-apriltags\n",
            "Successfully installed pupil-apriltags-1.0.4.post11\n"
          ]
        }
      ],
      "source": [
        "import importlib\n",
        "import sys\n",
        "\n",
        "for pkg in [\"pupil-apriltags\", \"opencv-python\", \"numpy\", \"matplotlib\"]:\n",
        "    try:\n",
        "        importlib.import_module(pkg if pkg != \"opencv-python\" else \"cv2\")\n",
        "    except ImportError:\n",
        "        print(f\"Installing {pkg} ...\")\n",
        "        get_ipython().run_line_magic('pip', f'install {pkg}')"
      ]
    },
    {
      "cell_type": "markdown",
      "id": "b49b282d",
      "metadata": {
        "id": "b49b282d"
      },
      "source": [
        "## Hardware Preparation"
      ]
    },
    {
      "cell_type": "markdown",
      "id": "2da90207",
      "metadata": {
        "id": "2da90207"
      },
      "source": [
        "### 1. Print a Checkerboard Pattern\n",
        "\n",
        "To calibrate your camera, you will need a printed checkerboard pattern. You can download a standard A4 checkerboard from [here](https://github.com/opencv/opencv/blob/master/doc/pattern.png) or [this PDF version](https://calib.io/pages/camera-calibration-pattern-generator). Print it out and attach it to a flat surface.\n"
      ]
    },
    {
      "cell_type": "markdown",
      "id": "155994bb",
      "metadata": {
        "id": "155994bb"
      },
      "source": [
        "### 2. Get AprilTag Images\n",
        "You can download an example AprilTag [here](https://github.com/AccelerationConsortium/ac-training-lab/tree/main/src/ac_training_lab/apriltag_demo/tag41_12_00110.pdf), or follow the steps below to generate a custom tag with your desired size and family. If you choose to use the example tag, you can jump to Camera Calibration\n"
      ]
    },
    {
      "cell_type": "markdown",
      "id": "18690901",
      "metadata": {
        "id": "18690901"
      },
      "source": [
        "#### Select AprilTag images\n",
        "\n",
        "You can find the images for the tags in the [apriltag-imgs repo](https://github.com/AprilRobotics/apriltag-imgs). For the vast majority of applications, the tagStandard41h12 family will be the correct choice. Scale up the images in your favorite editor and print them out or use the helper function below to automatically generate a printable SVG version of the tag at your desired size.\n",
        "\n",
        "Some heuristics for when to choose other tag families:\n",
        "\n",
        "1. If you need more tags, use tagStandard52h13\n",
        "2. If you need to maximize the use of space on a small circular object, use tagCircle49h12 (or tagCircle21h7).\n",
        "3. If you want to make a recursive tag use tagCustom48h12.\n",
        "4. If you want compatibility with the ArUcO detector use tag36h11\n",
        "\n",
        "If none of these fit your needs, generate your own custom tag family [here](https://github.com/AprilRobotics/apriltag-generation)."
      ]
    },
    {
      "cell_type": "markdown",
      "id": "fce93c7f",
      "metadata": {
        "id": "fce93c7f"
      },
      "source": [
        "#### Get printable AprilTags\n",
        "\n",
        "This is a helper function for generating a scalable SVG version of an AprilTag from a PNG image."
      ]
    },
    {
      "cell_type": "code",
      "execution_count": 3,
      "id": "9a0aaffb",
      "metadata": {
        "id": "9a0aaffb"
      },
      "outputs": [],
      "source": [
        "import os\n",
        "import requests\n",
        "from IPython.display import SVG, display\n",
        "\n",
        "def generate_apriltag_svg(tag_name: str, tag_family: str = \"tagStandard42h12\", size_mm: int = 60):\n",
        "    filename = f\"{tag_name}.png\"\n",
        "    svg_filename = f\"{tag_name}_{size_mm}mm.svg\"\n",
        "    png_url = f\"https://raw.githubusercontent.com/AprilRobotics/apriltag-imgs/master/{tag_family}/{filename}\"\n",
        "\n",
        "    if not os.path.exists(filename):\n",
        "        r = requests.get(png_url)\n",
        "        if r.status_code == 200:\n",
        "            with open(filename, \"wb\") as f:\n",
        "                f.write(r.content)\n",
        "        else:\n",
        "            raise ValueError(f\"Failed to download image. Status code: {r.status_code}\")\n",
        "\n",
        "    os.system(f\"python tag_to_svg.py {filename} {svg_filename} --size={size_mm}mm\")\n",
        "\n",
        "    if os.path.exists(svg_filename):\n",
        "        display(SVG(filename=svg_filename))\n",
        "    else:\n",
        "        raise FileNotFoundError(f\"{svg_filename} not generated.\")"
      ]
    },
    {
      "cell_type": "markdown",
      "id": "a755dfa2",
      "metadata": {
        "id": "a755dfa2"
      },
      "source": [
        "To generate a printable SVG of an AprilTag, use the function below by specifying the full tag name (e.g., \"tag41_12_00110\") and its tag family (e.g., \"tagStandard41h12\")."
      ]
    },
    {
      "cell_type": "code",
      "execution_count": null,
      "id": "96c1a9d7",
      "metadata": {
        "colab": {
          "base_uri": "https://localhost:8080/",
          "height": 228
        },
        "id": "96c1a9d7",
        "outputId": "25a2c6b1-da3d-428b-d594-1bdcd62c32e4"
      },
      "outputs": [],
      "source": [
        "generate_apriltag_svg(\"tag41_12_00110\", tag_family=\"tagStandard41h12\")"
      ]
    },
    {
      "cell_type": "markdown",
      "id": "6cfad905",
      "metadata": {
        "id": "6cfad905"
      },
      "source": [
        "You can convert the generated PDF file into a .png image and insert it into a document editor (e.g., Microsoft Word, Pages, or Google Docs) to adjust its printed size as needed."
      ]
    },
    {
      "cell_type": "markdown",
      "id": "280945a7",
      "metadata": {
        "id": "280945a7"
      },
      "source": [
        "## Camera Calibration"
      ]
    },
    {
      "cell_type": "markdown",
      "id": "8437dac9",
      "metadata": {
        "id": "8437dac9"
      },
      "source": [
        "### 1. Camera Calibration Photo Guide\n",
        "\n",
        "Camera calibration requires using the printed checkerboard and the camera you want to calibrate. Please follow the guidelines below when capturing images of the checkerboard:\n",
        "\n",
        "- Use the same printed checkerboard for all photos.\n",
        "- Capture at least 10 images, ideally 15–20, from different angles and distances.\n",
        "- Make sure the checkerboard is fully visible and in focus in every image.\n",
        "- Ensure that either the checkerboard or the camera remains fixed during the image capture process — only one of them should move\n",
        "- Move and tilt the checkerboard to cover various positions in the frame (center, corners, edges).\n",
        "- Vary the distance when taking photos — include close-up, mid-range, and far shots to improve calibration accuracy.\n",
        "- Capture photos from different perspectives: front, top-down, angled from the sides.\n",
        "- Ensure even lighting to avoid glare, shadows, or reflections.\n",
        "- Place the checkerboard on a flat and rigid surface to avoid distortion.\n",
        "- Save all images in a consistent format such as .jpg or .png, and ensure that all images have the same resolution.\n",
        "\n",
        "After calibration, store all images in one folder."
      ]
    },
    {
      "cell_type": "markdown",
      "id": "79190b90",
      "metadata": {
        "id": "79190b90"
      },
      "source": [
        "### 2. Run Camera Calibration with Checkerboard Images\n",
        "\n",
        "You should modify the following four parameters to calibrate your camera.  \n",
        "Here is the explanation of each parameter:\n",
        "\n",
        "- `rows`: the number of inner corners in the **vertical** direction.  \n",
        "- `cols`: the number of inner corners in the **horizontal** direction.  \n",
        "  > Note: These refer to the number of **corner intersections**, not the number of squares.\n",
        "\n",
        "- `size`: the length of one square on the checkerboard, in **millimeters**.  \n",
        "- `image_dir`: the path to the folder that contains your calibration images.\n"
      ]
    },
    {
      "cell_type": "code",
      "execution_count": 5,
      "id": "4028adc6",
      "metadata": {
        "id": "4028adc6"
      },
      "outputs": [],
      "source": [
        "rows = 6\n",
        "cols = 9\n",
        "size = 23\n",
        "image_dir = 'src/ac_training_lab/apriltag_demo/checkerboard_images'"
      ]
    },
    {
      "cell_type": "markdown",
      "id": "df21ad0f",
      "metadata": {
        "id": "df21ad0f"
      },
      "source": [
        "Now run the script to calibrate your camera. It will automatically process all images in the given directory using the specified checkerboard settings."
      ]
    },
    {
      "cell_type": "code",
      "execution_count": null,
      "id": "a12766b5",
      "metadata": {
        "colab": {
          "base_uri": "https://localhost:8080/",
          "height": 211
        },
        "id": "a12766b5",
        "outputId": "2d0b3614-99b1-463a-f2f1-276590f6ac95"
      },
      "outputs": [],
      "source": [
        "import os\n",
        "\n",
        "image_paths = [\n",
        "    os.path.join(image_dir, f)\n",
        "    for f in sorted(os.listdir(image_dir))\n",
        "    if f.lower().endswith(('.jpg', '.png'))\n",
        "]\n",
        "\n",
        "args = f\"-r {rows} -c {cols} -s {size} -d \" + ' '.join(f'\"{path}\"' for path in image_paths)\n",
        "\n",
        "cmd = f\"calibrate_camera.py {args}\"\n",
        "print(\">> run:\\n%run\", cmd)\n",
        "\n",
        "get_ipython().run_line_magic(\"run\", cmd)\n",
        "camera_params = np.load(\"camera_params.npy\")\n"
      ]
    },
    {
      "cell_type": "markdown",
      "id": "dd4f194a",
      "metadata": {
        "id": "dd4f194a"
      },
      "source": [
        "## AprilTag Detection"
      ]
    },
    {
      "cell_type": "markdown",
      "id": "48ee4b58",
      "metadata": {
        "id": "48ee4b58"
      },
      "source": [
        "\n",
        "You should modify the following three parameters to recongnize the apriltag.  \n",
        "Here is the explanation of each parameter:\n",
        "- `apriltag_path`: the path to the image containing the AprilTag\n",
        "- `families`: the tag family the AprilTag belongs to (e.g., `tag16h5`, `tagStandard41h12`, `tag36h11`, etc.).\n",
        "- `tagsize`: The size of the tag in centimeters. Each tag design has a black border and a white border, but some designs have the white border on the inside and some have the black border on the inside. The tagsize is thus measured from where the two borders meet, see the figure below for an example.\n",
        "\n",
        "> Note: The tag size should not be measured from the outside of the tag. The tag size is defined as the distance between the detection corners, or alternately, the length of the edge between the white border and the black border. The following illustration marks the detection corners with red Xs and the tag size with a red arrow for a tag from the 48h12Custom tag family.\n",
        "\n",
        "<p align=\"center\">\n",
        "  <img src=\"https://raw.githubusercontent.com/AprilRobotics/apriltag/master/tag_size_48h12.png\" alt=\"AprilTag Example\" width=\"400\">\n",
        "</p>"
      ]
    },
    {
      "cell_type": "code",
      "execution_count": null,
      "id": "3bac056b",
      "metadata": {
        "id": "3bac056b"
      },
      "outputs": [],
      "source": [
        "apriltag_path = 'src/ac_training_lab/apriltag_demo/apriltag_images/apriltag_test.jpg'\n",
        "families = \"tagStandard41h12\"\n",
        "tagsize = 4.5"
      ]
    },
    {
      "cell_type": "markdown",
      "id": "96feffde",
      "metadata": {
        "id": "96feffde"
      },
      "source": [
        "Now, run the following code to recognize the AprilTag."
      ]
    },
    {
      "cell_type": "code",
      "execution_count": null,
      "id": "57f9f8e1",
      "metadata": {
        "id": "57f9f8e1",
        "outputId": "ead75a28-06cc-4fde-d4a3-fd4435f27991"
      },
      "outputs": [
        {
          "name": "stdout",
          "output_type": "stream",
          "text": [
            "Found 1 tags\n",
            "\n",
            "Tag ID: 110\n",
            "  Center: [614.0852433 339.5371153]\n",
            "  Corners: [[555.03686523 399.08496094]\n",
            " [673.36199951 398.90393066]\n",
            " [672.22766113 280.90289307]\n",
            " [554.46936035 279.83065796]]\n",
            "  Translation (x, y, z): [ 1.16738126 -1.50948291 36.79969538]\n",
            "  Distance from camera: 36.85 meters\n",
            "  Roll: -2.83°, Pitch: -4.92°, Yaw: -0.03°\n"
          ]
        },
        {
          "data": {
            "image/png": "[encoded data removed]",
            "text/plain": [
              "<Figure size 640x480 with 1 Axes>"
            ]
          },
          "metadata": {},
          "output_type": "display_data"
        }
      ],
      "source": [
        "import cv2\n",
        "import numpy as np\n",
        "from pupil_apriltags import Detector\n",
        "from scipy.spatial.transform import Rotation as R\n",
        "import matplotlib.pyplot as plt\n",
        "\n",
        "image = cv2.imread(apriltag_path, cv2.IMREAD_GRAYSCALE)\n",
        "\n",
        "at_detector = Detector(\n",
        "    families=families,\n",
        "    nthreads=1,\n",
        "    quad_decimate=1.0,\n",
        "    quad_sigma=0.0,\n",
        "    refine_edges=1,\n",
        "    decode_sharpening=0.25,\n",
        "    debug=0\n",
        ")\n",
        "\n",
        "detections = at_detector.detect(\n",
        "    image,\n",
        "    estimate_tag_pose=True,\n",
        "    camera_params=camera_params,\n",
        "    tag_size=tagsize\n",
        ")\n",
        "\n",
        "print(f\"Found {len(detections)} tags\")\n",
        "\n",
        "for det in detections:\n",
        "    tag_id = det.tag_id\n",
        "    center = det.center\n",
        "    corners = det.corners.astype(int)\n",
        "\n",
        "    cv2.polylines(image, [corners], True, 255, 2)\n",
        "    cx, cy = map(int, center)\n",
        "    cv2.circle(image, (cx, cy), 4, 255, -1)\n",
        "    cv2.putText(image, str(tag_id), (cx, cy - 10), cv2.FONT_HERSHEY_SIMPLEX, 0.5, 255, 1)\n",
        "\n",
        "    print(f\"\\nTag ID: {tag_id}\")\n",
        "    print(f\"  Center: {center}\")\n",
        "    print(f\"  Corners: {det.corners}\")\n",
        "\n",
        "    if det.pose_t is not None:\n",
        "        t = det.pose_t.flatten()\n",
        "        print(f\"  Translation (x, y, z): {t}\")\n",
        "        print(f\"  Distance from camera: {np.linalg.norm(t):.2f} meters\")\n",
        "\n",
        "        euler = R.from_matrix(det.pose_R).as_euler('xyz', degrees=True)\n",
        "        roll, pitch, yaw = euler\n",
        "        print(f\"  Roll: {roll:.2f}°, Pitch: {pitch:.2f}°, Yaw: {yaw:.2f}°\")\n",
        "    else:\n",
        "        print(\"No pose estimated (pose_t is None)\")\n",
        "\n",
        "plt.imshow(image, cmap='gray')\n",
        "plt.title(\"AprilTag Detection\")\n",
        "plt.show()\n",
        "\n"
      ]
    },
    {
      "cell_type": "markdown",
      "id": "b057e155",
      "metadata": {
        "id": "b057e155"
      },
      "source": [
        "### Output Field Explanation\n",
        "\n",
        "- **Tag ID**: The unique identifier of the detected AprilTag.\n",
        "\n",
        "- **Center**: The (x, y) pixel coordinates of the tag's center in the image.\n",
        "\n",
        "- **Corners**: The pixel coordinates of the tag’s four corners, typically ordered counterclockwise.\n",
        "\n",
        "The camera coordinate system follows OpenCV's default convention:\n",
        "\n",
        "- x-axis: right  \n",
        "- y-axis: down  \n",
        "- z-axis: forward (into the scene)\n",
        "\n",
        "- **Translation (x, y, z)**: The tag’s 3D position relative to the camera, in centimeters:\n",
        "  - x: horizontal offset (left/right)\n",
        "  - y: vertical offset (up/down)\n",
        "  - z: distance from the camera (depth)\n",
        "\n",
        "- **Distance from camera**: The Euclidean distance between the camera and the tag’s center in 3D space.\n",
        "\n",
        "- **Roll, Pitch, Yaw**: The tag’s rotation angles relative to the camera, in degrees:\n",
        "  - Roll: rotation around the x-axis\n",
        "  - Pitch: rotation around the y-axis\n",
        "  - Yaw: rotation around the z-axis\n"
      ]
    }
  ],
  "metadata": {
    "colab": {
      "provenance": [],
      "toc_visible": true
    },
    "kernelspec": {
      "display_name": "Python 3",
      "language": "python",
      "name": "python3"
    },
    "language_info": {
      "codemirror_mode": {
        "name": "ipython",
        "version": 3
      },
      "file_extension": ".py",
      "mimetype": "text/x-python",
      "name": "python",
      "nbconvert_exporter": "python",
      "pygments_lexer": "ipython3",
      "version": "3.11.7"
    }
  },
  "nbformat": 4,
  "nbformat_minor": 5
}
