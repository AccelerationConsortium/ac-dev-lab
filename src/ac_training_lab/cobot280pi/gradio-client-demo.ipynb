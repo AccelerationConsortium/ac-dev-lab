{
 "cells": [
  {
   "cell_type": "markdown",
   "metadata": {},
   "source": [
    "# MyCobot 280 Pi Gradio API Usage demo"
   ]
  },
  {
   "cell_type": "markdown",
   "metadata": {},
   "source": [
    "This notebook contains a demo for using the Gradio API to access the MyCobot 280 Pi. It functions in the same way as the Hugging Face Space [here](https://huggingface.co/spaces/AccelerationConsortium/cobot280pi-gradio), allowing for programmatic access to the same functions.\n",
    "\n",
    "This notebook explains the usage of all of the API endpoints. For more information, head to the Hugging Face Space, scroll all the way to the bottom and click the tiny \"Use via API\" button at the bottom of the screen.\n",
    "\n",
    "### Links:\n",
    "[MyCobot 280 Pi - Hugging Face space](https://huggingface.co/spaces/AccelerationConsortium/cobot280pi-gradio) <br>\n",
    "[Device Setup Guide](#TODO Add device page link here)"
   ]
  },
  {
   "cell_type": "code",
   "execution_count": null,
   "metadata": {},
   "outputs": [],
   "source": [
    "%pip install gradio_client"
   ]
  },
  {
   "cell_type": "code",
   "execution_count": 1,
   "metadata": {},
   "outputs": [
    {
     "name": "stderr",
     "output_type": "stream",
     "text": [
      "/Users/gursi/miniforge3/envs/mqtt/lib/python3.12/site-packages/tqdm/auto.py:21: TqdmWarning: IProgress not found. Please update jupyter and ipywidgets. See https://ipywidgets.readthedocs.io/en/stable/user_install.html\n",
      "  from .autonotebook import tqdm as notebook_tqdm\n"
     ]
    }
   ],
   "source": [
    "from gradio_client import Client \n",
    "import matplotlib.pyplot as plt\n",
    "from PIL import Image\n",
    "import json\n",
    "import uuid"
   ]
  },
  {
   "cell_type": "markdown",
   "metadata": {},
   "source": [
    "First we define some helper functions for formatting the return values and images from the gradio API"
   ]
  },
  {
   "cell_type": "code",
   "execution_count": 9,
   "metadata": {},
   "outputs": [],
   "source": [
    "def display_image(image_path):\n",
    "\ttry:\n",
    "\t\timg = Image.open(image_path).convert(\"RGB\")\n",
    "\t\tplt.imshow(img)\n",
    "\t\tplt.title(\"Cobot view\")\n",
    "\t\tplt.show()\n",
    "\texcept Exception as e:\n",
    "\t\tprint(f\"An error occurred: {e}\")\n",
    "\n",
    "def display_result(result):\n",
    "\tprint(f\"queue status: {result[-1].replace(\"\\n\", \" \")}\")\n",
    "\tprint(f\"response json: {None if result[0] is None else json.loads(result[0])}\")\n",
    "\tif len(result) == 3:\n",
    "\t\tif result[1] is None:\n",
    "\t\t\treturn\n",
    "\t\tdisplay_image(result[1]['value'])"
   ]
  },
  {
   "cell_type": "markdown",
   "metadata": {},
   "source": [
    "Now enter a unique user id in the cell below! You can also use the default generated UUID."
   ]
  },
  {
   "cell_type": "code",
   "execution_count": 3,
   "metadata": {},
   "outputs": [
    {
     "name": "stdout",
     "output_type": "stream",
     "text": [
      "Your user id: e0a97d05-1143-44ea-8d24-a88f01a2e666\n",
      "Loaded as API: https://accelerationconsortium-cobot280pi-gradio.hf.space ✔\n"
     ]
    }
   ],
   "source": [
    "USER_ID = str(uuid.uuid4()) #@param {type:\"string\"}\n",
    "print(f\"Your user id: {USER_ID}\")\n",
    "client = Client(\"AccelerationConsortium/cobot280pi-gradio\")"
   ]
  },
  {
   "cell_type": "markdown",
   "metadata": {},
   "source": [
    "Now, we can join the queue for access to the Cobot. Each user is allocated 2 minutes before the queue moves on to the next user. Executing the cell below will place you on the queue and display the wait time (if any).\n",
    "\n",
    "When it is your turn to execute commands, the printed output of the cell below will indicate so."
   ]
  },
  {
   "cell_type": "code",
   "execution_count": 20,
   "metadata": {},
   "outputs": [
    {
     "name": "stdout",
     "output_type": "stream",
     "text": [
      "Your turn!\n",
      "Time remaining: 76.13 seconds.\n"
     ]
    }
   ],
   "source": [
    "print(client.predict(\n",
    "\tuser_id=USER_ID,\n",
    "\tapi_name=\"/enter_queue\"\n",
    "))"
   ]
  },
  {
   "cell_type": "markdown",
   "metadata": {},
   "source": [
    "Now, we are ready to look at each of the functions that the cobot can execute!"
   ]
  },
  {
   "cell_type": "markdown",
   "metadata": {},
   "source": [
    "## Query functions"
   ]
  },
  {
   "cell_type": "markdown",
   "metadata": {},
   "source": [
    "This cell queries the current joint angles of 6 joints on the cobot. "
   ]
  },
  {
   "cell_type": "code",
   "execution_count": 21,
   "metadata": {},
   "outputs": [
    {
     "name": "stdout",
     "output_type": "stream",
     "text": [
      "queue status: Your turn! Time remaining: 75.73 seconds.\n",
      "response json: {'success': True, 'angles': [0, 0, 0, 0, 0, 0], 'command': 'query/angles'}\n"
     ]
    }
   ],
   "source": [
    "result = client.predict(\n",
    "\tuser_id=USER_ID,\n",
    "\tapi_name=\"/query_angles\"\n",
    ")\n",
    "display_result(result)"
   ]
  },
  {
   "cell_type": "markdown",
   "metadata": {},
   "source": [
    "This cell queries the current coordinates of the cobot in 3D space. These are structured in the [6-DoF format](https://en.wikipedia.org/wiki/Six_degrees_of_freedom) as (x, y, z, roll, pitch, yaw)."
   ]
  },
  {
   "cell_type": "code",
   "execution_count": 22,
   "metadata": {},
   "outputs": [
    {
     "name": "stdout",
     "output_type": "stream",
     "text": [
      "queue status: Your turn! Time remaining: 74.96 seconds.\n",
      "response json: {'success': True, 'coords': [0, 0, 0, 0, 0, 0], 'command': 'query/coords'}\n"
     ]
    }
   ],
   "source": [
    "result = client.predict(\n",
    "\tuser_id=USER_ID,\n",
    "\tapi_name=\"/query_coords\"\n",
    ")\n",
    "display_result(result)"
   ]
  },
  {
   "cell_type": "markdown",
   "metadata": {},
   "source": [
    "This cell queries the current gripper position of the cobot, taking a value from 0 - 100."
   ]
  },
  {
   "cell_type": "code",
   "execution_count": 23,
   "metadata": {},
   "outputs": [
    {
     "name": "stdout",
     "output_type": "stream",
     "text": [
      "queue status: Your turn! Time remaining: 71.66 seconds.\n",
      "response json: {'success': True, 'position': 0, 'command': 'query/gripper'}\n"
     ]
    }
   ],
   "source": [
    "result = client.predict(\n",
    "\tuser_id=USER_ID,\n",
    "\tapi_name=\"/query_gripper\"\n",
    ")\n",
    "display_result(result)"
   ]
  },
  {
   "cell_type": "markdown",
   "metadata": {},
   "source": [
    "This cell queries what the cobot can currently see through the onboard camera."
   ]
  },
  {
   "cell_type": "code",
   "execution_count": 24,
   "metadata": {},
   "outputs": [
    {
     "name": "stdout",
     "output_type": "stream",
     "text": [
      "queue status: Your turn! Time remaining: 68.44 seconds.\n",
      "response json: {'success': True, 'command': 'query/camera'}\n"
     ]
    },
    {
     "data": {
      "image/png": "[encoded data removed]",
      "text/plain": [
       "<Figure size 640x480 with 1 Axes>"
      ]
     },
     "metadata": {},
     "output_type": "display_data"
    }
   ],
   "source": [
    "result = client.predict(\n",
    "\tuser_id=USER_ID,\n",
    "\tapi_name=\"/query_camera\"\n",
    ")\n",
    "display_result(result)"
   ]
  },
  {
   "cell_type": "markdown",
   "metadata": {},
   "source": [
    "## Control functions"
   ]
  },
  {
   "cell_type": "markdown",
   "metadata": {},
   "source": [
    "This cell sends a set of 6 joint angles to the cobot. The cell prints out whether the command was sent successfully."
   ]
  },
  {
   "cell_type": "code",
   "execution_count": 25,
   "metadata": {},
   "outputs": [
    {
     "name": "stdout",
     "output_type": "stream",
     "text": [
      "queue status: Your turn! Time remaining: 64.15 seconds.\n",
      "response json: {'success': True, 'command': 'control/angles'}\n"
     ]
    }
   ],
   "source": [
    "result = client.predict(\n",
    "\tuser_id=USER_ID,\n",
    "\tangle0 = 0.0,\n",
    "\tangle1 = 0.0,\n",
    "\tangle2 = 0.0,\n",
    "\tangle3 = 0.0,\n",
    "\tangle4 = 0.0,\n",
    "\tangle5 = 0.0,\n",
    "\tmovement_speed = 100,\n",
    "\tapi_name=\"/control_angles\"\n",
    ")\n",
    "display_result(result)"
   ]
  },
  {
   "cell_type": "markdown",
   "metadata": {},
   "source": [
    "This cell sends a set of coordinates to the cobot. The cell prints out whether the command was sent successfully."
   ]
  },
  {
   "cell_type": "code",
   "execution_count": 26,
   "metadata": {},
   "outputs": [
    {
     "name": "stdout",
     "output_type": "stream",
     "text": [
      "queue status: Your turn! Time remaining: 61.71 seconds.\n",
      "response json: {'success': True, 'command': 'control/coords'}\n"
     ]
    }
   ],
   "source": [
    "result = client.predict(\n",
    "\tuser_id=USER_ID,\n",
    "\tx = 0.0,\n",
    "\ty = 0.0,\n",
    "\tz = 0.0,\n",
    "\troll = 0.0,\n",
    "\tpitch = 0.0,\n",
    "\tyaw = 0.0,\n",
    "\tmovement_speed = 100,\n",
    "\tapi_name=\"/control_coords\"\n",
    ")\n",
    "display_result(result)"
   ]
  },
  {
   "cell_type": "markdown",
   "metadata": {},
   "source": [
    "This cell sends a gripper position to the cobot. The cell prints out whether the command was sent successfully."
   ]
  },
  {
   "cell_type": "code",
   "execution_count": 27,
   "metadata": {},
   "outputs": [
    {
     "name": "stdout",
     "output_type": "stream",
     "text": [
      "queue status: Your turn! Time remaining: 58.51 seconds.\n",
      "response json: {'success': True, 'command': 'control/gripper'}\n"
     ]
    }
   ],
   "source": [
    "result = client.predict(\n",
    "\tuser_id=USER_ID,\n",
    "\tgripper_value = 100,\n",
    "\tmovement_speed = 100,\n",
    "\tapi_name=\"/control_gripper\"\n",
    ")\n",
    "display_result(result)"
   ]
  }
 ],
 "metadata": {
  "kernelspec": {
   "display_name": "mqtt",
   "language": "python",
   "name": "python3"
  },
  "language_info": {
   "codemirror_mode": {
    "name": "ipython",
    "version": 3
   },
   "file_extension": ".py",
   "mimetype": "text/x-python",
   "name": "python",
   "nbconvert_exporter": "python",
   "pygments_lexer": "ipython3",
   "version": "3.12.6"
  }
 },
 "nbformat": 4,
 "nbformat_minor": 2
}
