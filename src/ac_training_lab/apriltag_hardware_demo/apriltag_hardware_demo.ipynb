{
 "cells": [
  {
   "cell_type": "markdown",
   "id": "e4540c20",
   "metadata": {},
   "source": [
    "# AprilTag Minimal Working Example with Dedicated Hardware \n",
    "\n",
    "[![Open In Colab](https://colab.research.google.com/assets/colab-badge.svg)](https://colab.research.google.com/github/AccelerationConsortium/ac-training-lab/blob/main/src/ac_training_lab/apriltag_hardware_demo/apriltag_hardware_demo.ipynb)\n"
   ]
  },
  {
   "cell_type": "markdown",
   "id": "f13dbd57",
   "metadata": {},
   "source": [
    "## Introduction \n",
    "\n",
    "### What this system does\n",
    "\n",
    "This system uses a rotating turntable, AprilTag visual markers, and a MyCobot robotic arm to identify, localize, and manipulate vials. The robot can automatically pick up or place vials at specified positions on the turntable.\n",
    "\n",
    "### Why AprilTags are used\n",
    "\n",
    "AprilTags provide robust and accurate visual markers that enable the system to detect specific positions on the turntable. Since tags are attached to the turntable (not the vials), they help determine the vial’s location indirectly through a mapping. This allows the system to precisely stop the turntable at the right spot for pick-and-place operations.\n",
    "\n",
    "### How the workflow proceeds in steps\n",
    "1. After startup, the turntable rotates slowly.\n",
    "2. A fixed camera captures frames continuously to detect AprilTags.\n",
    "3. When the target tag is found, the turntable stops and the corresponding vial is aligned for interaction.\n",
    "4. The tag’s position is recalculated and converted into robot coordinates using a pre-calibrated transformation matrix.\n",
    "5. The robot arm grabs or places the vial from the side."
   ]
  },
  {
   "cell_type": "markdown",
   "id": "017f7699",
   "metadata": {},
   "source": [
    "## Configuration\n",
    "\n",
    "To explore the demo with default files and settings, enable test mode below. If test mode is enabled, you can skip all parameter modifications in this demo."
   ]
  },
  {
   "cell_type": "code",
   "execution_count": 7,
   "id": "d1f839cb",
   "metadata": {},
   "outputs": [],
   "source": [
    "# @markdown Set `test = True` to use default files and parameters.\n",
    "test = True  # @param {type:\"boolean\"}"
   ]
  },
  {
   "cell_type": "markdown",
   "id": "986f6ed5",
   "metadata": {},
   "source": [
    "## Requirements\n",
    "\n",
    "This notebook requires the following files and libraries. "
   ]
  },
  {
   "cell_type": "code",
   "execution_count": 1,
   "id": "6069e0c6",
   "metadata": {},
   "outputs": [],
   "source": [
    "# only install if we are running in colab\n",
    "import sys\n",
    "IN_COLAB = 'google.colab' in sys.modules\n",
    "if IN_COLAB:\n",
    "    %pip install --upgrade gradio_client"
   ]
  },
  {
   "cell_type": "markdown",
   "id": "b65f5845",
   "metadata": {},
   "source": [
    "## Live Stream\n",
    "\n",
    "##### Watch the live demo here: https://www.youtube.com/playlist?list=PL8uZlc2CEpelrYXunUzUOMJC17wEhiP6Q\n",
    "\n",
    "This live stream shows the dedicated hardware in action, giving you a real-time view of what’s happening in the lab.\n",
    "You’ll see the AprilTags, turntable, and cobot working together to complete the workflow.\n",
    "As you run the notebook, each step is mirrored by real-world motion.\n",
    "\n",
    "> Tips: For a smoother experience, use Picture-in-Picture mode to keep the live stream visible while interacting with the notebook (right-click the video twice in Google Chrome or Microsoft Edge), or consider using split screen to view the notebook and stream side by side.\n"
   ]
  },
  {
   "cell_type": "markdown",
   "id": "91d1876e",
   "metadata": {},
   "source": [
    "## Static configuration\n",
    "\n",
    "Predefined system parameters, determined by the hardware setup and relative positioning.\n",
    "\n",
    "#### **⚠ Do not modify any of them.**"
   ]
  },
  {
   "cell_type": "markdown",
   "id": "0390f708",
   "metadata": {},
   "source": [
    "\n",
    "### Tracking vials in turntable\n",
    "To track each specific vial and its current position, as well as whether a turntable position is occupied, we maintain two bidirectional mappings in the program:\n",
    "\n",
    "- Turntable ID ↔ AprilTag ID\n",
    "- Turntable ID ↔ Vial ID\n",
    "\n",
    "This allows the program to identify the corresponding AprilTag and vial for each position, so users can assign a specific vial to a specific slot.\n",
    "\n",
    "> Note:  You can refer to the livestream to visually confirm the mapping. The key in the vial_to_turntable dictionary is the vial ID, and the value is the turntable position ID.\n"
   ]
  },
  {
   "cell_type": "code",
   "execution_count": null,
   "id": "c13ff37f",
   "metadata": {},
   "outputs": [],
   "source": [
    "# Static configuration\n",
    "# Only positions currently occupied by vials\n",
    "vial_to_turntable = {\n",
    "    'vial_1': 3, # vial_1 is currently placed at turntable position 3\n",
    "    'vial_2': 1,\n",
    "    'vial_3': 5,\n",
    "}\n",
    "\n",
    "# All turntable positions and their associated AprilTags\n",
    "turntable_to_tag = {\n",
    "    1: 'tag_01', # turntable position 1 is labeled by tag_01\n",
    "    2: 'tag_02',\n",
    "    3: 'tag_03',\n",
    "    4: 'tag_04',\n",
    "    5: 'tag_05',\n",
    "    6: 'tag_06',\n",
    "    7: 'tag_07',\n",
    "    8: 'tag_08',\n",
    "    \n",
    "}\n",
    "\n",
    "# Generate reverse mappings\n",
    "tag_to_turntable = {v: k for k, v in turntable_to_tag.items()}\n",
    "turntable_to_vial = {v: k for k, v in vial_to_turntable.items()}"
   ]
  },
  {
   "cell_type": "markdown",
   "id": "77554b10",
   "metadata": {},
   "source": [
    "### Camera Intrinsics\n",
    "\n",
    "Camera intrinsics obtained from camera calibration, including camera matrix and distortion coefficients. Used for AprilTag detection and pose estimation."
   ]
  },
  {
   "cell_type": "code",
   "execution_count": 227,
   "id": "31395062",
   "metadata": {},
   "outputs": [
    {
     "name": "stdout",
     "output_type": "stream",
     "text": [
      "(array([[500.60538814,   0.        , 322.65468596],\n",
      "       [  0.        , 500.61877387, 235.38114207],\n",
      "       [  0.        ,   0.        ,   1.        ]]), array([[ 0.06654223, -0.07953492,  0.00053151,  0.00130237, -0.04796668]]))\n"
     ]
    }
   ],
   "source": [
    "# @title Load Camera Calibration (DO NOT MODIFY)\n",
    "import os\n",
    "import numpy as np\n",
    "\n",
    "current_dir = os.getcwd()  # already in apriltag_hardware_demo/\n",
    "camera_params_path = os.path.join(current_dir, \"camera_params.npy\")\n",
    "\n",
    "camera_params = np.load(camera_params_path, allow_pickle=True).item()\n",
    "K = camera_params[\"camera_matrix\"]\n",
    "dist = camera_params[\"dist_coeff\"]\n",
    "\n",
    "camera_intrinsics = (K, dist)\n",
    "print(camera_intrinsics)"
   ]
  },
  {
   "cell_type": "markdown",
   "id": "71a1b1c9",
   "metadata": {},
   "source": [
    "\n",
    "### Hand-Eye Calibration Result\n",
    "\n",
    "Camera intrinsics obtained from camera calibration, including camera matrix and distortion coefficients. Used for predicting vial positions and performing grasping."
   ]
  },
  {
   "cell_type": "code",
   "execution_count": null,
   "id": "902c6941",
   "metadata": {},
   "outputs": [
    {
     "name": "stdout",
     "output_type": "stream",
     "text": [
      "(array([[ 0.92519356,  0.37280399,  0.07095108],\n",
      "       [-0.37192152,  0.92790661, -0.02576258],\n",
      "       [-0.07544037, -0.00255286,  0.99714705]]), array([113.04272428, -71.81648255, 327.28608914]))\n"
     ]
    },
    {
     "ename": "",
     "evalue": "",
     "output_type": "error",
     "traceback": [
      "\u001b[1;31mThe Kernel crashed while executing code in the current cell or a previous cell. \n",
      "\u001b[1;31mPlease review the code in the cell(s) to identify a possible cause of the failure. \n",
      "\u001b[1;31mClick <a href='https://aka.ms/vscodeJupyterKernelCrash'>here</a> for more info. \n",
      "\u001b[1;31mView Jupyter <a href='command:jupyter.viewOutput'>log</a> for further details."
     ]
    }
   ],
   "source": [
    "# @title Load Hand-Eye Calibration (DO NOT MODIFY)\n",
    "import os\n",
    "import numpy as np\n",
    "\n",
    "# Assume current working directory is apriltag_hardware_demo\n",
    "current_dir = os.getcwd()\n",
    "hand_eye_path = os.path.join(current_dir, \"hand_eye_calibration.npy\")\n",
    "\n",
    "hand_eye_params = np.load(hand_eye_path, allow_pickle=True).item()\n",
    "rotation_matrix = hand_eye_params[\"rotation_matrix\"]\n",
    "translation_vector = hand_eye_params[\"translation_vector\"].flatten() * 1000 \n",
    "\n",
    "hand_eye_calibration = (rotation_matrix, translation_vector)\n",
    "print(hand_eye_calibration)\n",
    "\n",
    "R_tool_cam = np.array([\n",
    "    [1,  0,  0],   # X_cam → X_tool\n",
    "    [0, -1,  0],   # Y_cam → -Y_tool\n",
    "    [0,  0, -1]    # Z_cam → -Z_tool\n",
    "])\n",
    "\n",
    "t_tool_cam = np.array([0, -100, 40])  # 单位：mm\n",
    "\n",
    "# 转为 T_cam_tool（convert 函数用的是 T_cam_tool）\n",
    "R_cam_tool = R_tool_cam.T\n",
    "t_cam_tool = -R_cam_tool @ t_tool_cam\n",
    "\n",
    "hand_eye_calibration = (R_cam_tool, t_cam_tool)"
   ]
  },
  {
   "cell_type": "markdown",
   "id": "532c5679",
   "metadata": {},
   "source": [
    "### Default Positions\n",
    "\n",
    "- **Initial Home Pose**: Moves the cobot to all-zero joint angles as the home or reset position.\n",
    "- **Default Detection Pose**: Moves the cobot to a pre-defined joint configuration for AprilTag detection."
   ]
  },
  {
   "cell_type": "code",
   "execution_count": 6,
   "id": "bd04c3ec",
   "metadata": {},
   "outputs": [],
   "source": [
    "# @title Default Detection Pose and Initial Home Pose Configuration (DO NOT MODIFY)\n",
    "\n",
    "INITIAL_HOME_POSE = {\n",
    "    \"angle0\": 0,\n",
    "    \"angle1\": 0,\n",
    "    \"angle2\": 0,\n",
    "    \"angle3\": 0,\n",
    "    \"angle4\": 0,\n",
    "    \"angle5\": 0,\n",
    "    \"movement_speed\": 50\n",
    "}\n",
    "\n",
    "DEFAULT_DETECTION_POSE = {\n",
    "    \"angle0\": 37.7,\n",
    "    \"angle1\": -132.97,\n",
    "    \"angle2\": 101.6,\n",
    "    \"angle3\": 15.99,\n",
    "    \"angle4\": 3.69,\n",
    "    \"angle5\": 131.66,\n",
    "    \"movement_speed\": 50\n",
    "}"
   ]
  },
  {
   "cell_type": "markdown",
   "id": "19dff57c",
   "metadata": {},
   "source": [
    "### Grasp Offset\n",
    "\n",
    "Fixed offset from the AprilTag center to the vial position behind it, defined in the tag's coordinate frame."
   ]
  },
  {
   "cell_type": "code",
   "execution_count": null,
   "id": "afb2e1d1",
   "metadata": {},
   "outputs": [],
   "source": [
    "# @title Grasp Offset Configuration (DO NOT MODIFY)\n",
    "\n",
    "VIAL_OFFSET_IN_TAG = np.array([0.0, -15.0, 25.0])  # in millimeters"
   ]
  },
  {
   "cell_type": "markdown",
   "id": "efcea399",
   "metadata": {},
   "source": [
    "## Helper functions"
   ]
  },
  {
   "cell_type": "markdown",
   "id": "f3a11cb8",
   "metadata": {},
   "source": [
    "### `detect_apriltags`\n",
    "This is a helper function for detecting AprilTags.\n",
    "- When `only_ID=True`, it returns only the tag IDs, which is useful for identifying the correct AprilTag while the turntable is rotating.\n",
    "- When `only_ID=False`, it returns both the position and orientation of each tag, which is used by the cobot to place or pick up a vial after the turntable has stopped."
   ]
  },
  {
   "cell_type": "code",
   "execution_count": 8,
   "id": "768be88e",
   "metadata": {},
   "outputs": [],
   "source": [
    "import cv2\n",
    "import numpy as np\n",
    "from pupil_apriltags import Detector\n",
    "from scipy.spatial.transform import Rotation as R\n",
    "import matplotlib.pyplot as plt\n",
    "\n",
    "def detect_apriltags(image_path, camera_matrix, dist_coeffs, tag_size_meters, families=\"tagStandard41h12\", only_ID=True, show_image=False):\n",
    "    \"\"\"\n",
    "    AprilTag detection function with built-in undistortion.\n",
    "    \"\"\"\n",
    "    # Load grayscale image\n",
    "    image = cv2.imread(image_path, cv2.IMREAD_GRAYSCALE)\n",
    "    if image is None:\n",
    "        raise ValueError(f\"Failed to load image at {image_path}\")\n",
    "\n",
    "    # Undistort image first\n",
    "    undistorted_image = cv2.undistort(image, camera_matrix, dist_coeffs)\n",
    "\n",
    "    # Extract fx, fy, cx, cy for pupil_apriltags input\n",
    "    fx, fy = camera_matrix[0,0], camera_matrix[1,1]\n",
    "    cx, cy = camera_matrix[0,2], camera_matrix[1,2]\n",
    "    pupil_camera_params = [fx, fy, cx, cy]\n",
    "\n",
    "    # Initialize detector\n",
    "    at_detector = Detector(\n",
    "        families=families,\n",
    "        nthreads=1,\n",
    "        quad_decimate=1.0,\n",
    "        quad_sigma=0.0,\n",
    "        refine_edges=1,\n",
    "        decode_sharpening=0.25,\n",
    "        debug=0\n",
    "    )\n",
    "\n",
    "    detections = at_detector.detect(\n",
    "        undistorted_image,\n",
    "        estimate_tag_pose=True,\n",
    "        camera_params=pupil_camera_params,\n",
    "        tag_size=tag_size_meters\n",
    "    )\n",
    "\n",
    "    if only_ID:\n",
    "        return [det.tag_id for det in detections]\n",
    "\n",
    "    print(f\"Found {len(detections)} tags\")\n",
    "    for det in detections:\n",
    "        tag_id = det.tag_id\n",
    "        center = det.center\n",
    "        corners = det.corners.astype(int)\n",
    "\n",
    "        cv2.polylines(undistorted_image, [corners], True, 255, 2)\n",
    "        cx, cy = map(int, center)\n",
    "        cv2.circle(undistorted_image, (cx, cy), 4, 255, -1)\n",
    "        cv2.putText(undistorted_image, str(tag_id), (cx, cy - 10), cv2.FONT_HERSHEY_SIMPLEX, 0.5, 255, 1)\n",
    "\n",
    "        print(f\"\\nTag ID: {tag_id}\")\n",
    "        print(f\"  Center: {center}\")\n",
    "        print(f\"  Corners: {det.corners}\")\n",
    "\n",
    "        if det.pose_t is not None:\n",
    "            t = det.pose_t.flatten()\n",
    "            print(f\"  Translation (x, y, z): {t}\")\n",
    "\n",
    "            distance_cm = np.linalg.norm(t) * 100\n",
    "            print(f\"  Distance from camera: {distance_cm:.2f} centimeters\")\n",
    "\n",
    "            euler = R.from_matrix(det.pose_R).as_euler('xyz', degrees=True)\n",
    "            roll, pitch, yaw = euler\n",
    "            print(f\"  Roll: {roll:.2f}°, Pitch: {pitch:.2f}°, Yaw: {yaw:.2f}°\")\n",
    "        else:\n",
    "            print(\"  No pose estimated (pose_t is None)\")\n",
    "\n",
    "    if show_image:\n",
    "        plt.imshow(undistorted_image, cmap='gray')\n",
    "        plt.title(\"AprilTag Detection (Undistorted)\")\n",
    "        plt.show()\n",
    "\n",
    "    return detections\n",
    "\n"
   ]
  },
  {
   "cell_type": "markdown",
   "id": "fd93892a",
   "metadata": {},
   "source": [
    "### `display_image` and `display_result`\n",
    "\n",
    "- `display_image(image_path)`: Displays the image at the given path (used to check camera view or results).\n",
    "- `display_result(result)`: Parses and prints server response, shows queue status and detection results, and displays image if available."
   ]
  },
  {
   "cell_type": "code",
   "execution_count": 9,
   "id": "4203ec9b",
   "metadata": {},
   "outputs": [],
   "source": [
    "import matplotlib.pyplot as plt\n",
    "from PIL import Image\n",
    "import json\n",
    "\n",
    "def display_image(image_path):\n",
    "\ttry:\n",
    "\t\timg = Image.open(image_path).convert(\"RGB\")\n",
    "\t\tplt.imshow(img)\n",
    "\t\tplt.title(\"Cobot view\")\n",
    "\t\tplt.show()\n",
    "\texcept Exception as e:\n",
    "\t\tprint(f\"An error occurred: {e}\")\n",
    "\n",
    "def display_result(result):\n",
    "\tqueue_status_str = result[-1].replace('\\n', ' ')\n",
    "\tprint(f\"queue status: {queue_status_str}\")\n",
    "\tprint(f\"response json: {None if result[0] is None else json.loads(result[0])}\")\n",
    "\tif len(result) == 3:\n",
    "\t\tif result[1] is None:\n",
    "\t\t\treturn\n",
    "\t\tdisplay_image(result[1]['value'])"
   ]
  },
  {
   "cell_type": "markdown",
   "id": "f08c9dbb",
   "metadata": {},
   "source": [
    "### `decompose_transform` and `convert`\n",
    "\n",
    "- `decompose_transform(matrix)`: Decomposes a 4x4 homogeneous transformation matrix into translation and Euler angles (rx, ry, rz). Used to extract position and orientation from computed poses.\n",
    "- `convert(x, y, z, rx, ry, rz, x1, y1, z1, rx1, ry1, rz1, hand_eye_calibration)`: Computes the object pose in the robot base frame by chaining the robot's end-effector pose, the detected object pose from camera, and the hand-eye calibration result."
   ]
  },
  {
   "cell_type": "code",
   "execution_count": 108,
   "id": "ec36f970",
   "metadata": {},
   "outputs": [],
   "source": [
    "from scipy.spatial.transform import Rotation as R\n",
    "import numpy as np\n",
    "\n",
    "def decompose_transform(matrix):\n",
    "    \"\"\"\n",
    "    Decompose homogeneous matrix to translation + euler angles (xyz)\n",
    "    \"\"\"\n",
    "    translation = matrix[:3, 3]\n",
    "    rotation = matrix[:3, :3]\n",
    "\n",
    "    # Convert rotation matrix to euler angles\n",
    "    sy = np.sqrt(rotation[0, 0] ** 2 + rotation[1, 0] ** 2)\n",
    "    singular = sy < 1e-6\n",
    "\n",
    "    if not singular:\n",
    "        rx = np.arctan2(rotation[2, 1], rotation[2, 2])\n",
    "        ry = np.arctan2(-rotation[2, 0], sy)\n",
    "        rz = np.arctan2(rotation[1, 0], rotation[0, 0])\n",
    "    else:\n",
    "        rx = np.arctan2(-rotation[1, 2], rotation[1, 1])\n",
    "        ry = np.arctan2(-rotation[2, 0], sy)\n",
    "        rz = 0\n",
    "\n",
    "    return translation, rx, ry, rz\n",
    "\n",
    "\n",
    "def convert(x, y, z, rx, ry, rz, x1, y1, z1, rx1, ry1, rz1, hand_eye_calibration):\n",
    "    \"\"\"\n",
    "    Compute object pose in robot base frame using hand-eye calibration.\n",
    "    All positions are in millimeters, all rotations in radians.\n",
    "    \"\"\"\n",
    "\n",
    "    # === 1. Unpack and invert hand-eye calibration (T_cam_to_tool -> T_tool_to_cam) ===\n",
    "    R_cam_tool, t_cam_tool = hand_eye_calibration  # T_cam_to_tool\n",
    "\n",
    "    R_tool_cam = R_cam_tool.T\n",
    "    t_tool_cam = -R_tool_cam @ t_cam_tool\n",
    "\n",
    "    T_tool_to_camera = np.eye(4)\n",
    "    T_tool_to_camera[:3, :3] = R_tool_cam\n",
    "    T_tool_to_camera[:3, 3] = t_tool_cam\n",
    "\n",
    "    # === 2. Robot end-effector pose in base frame ===\n",
    "    position = np.array([x, y, z])  # in mm\n",
    "    orientation = R.from_euler('xyz', [rx, ry, rz], degrees=False).as_matrix()\n",
    "\n",
    "    T_end_to_base = np.eye(4)\n",
    "    T_end_to_base[:3, :3] = orientation\n",
    "    T_end_to_base[:3, 3] = position\n",
    "\n",
    "    # === 3. Object pose in camera frame (from AprilTag) ===\n",
    "    position2 = np.array([x1, y1, z1])  # in mm\n",
    "    orientation2 = R.from_euler('xyz', [rx1, ry1, rz1], degrees=False).as_matrix()\n",
    "\n",
    "    T_object_to_camera = np.eye(4)\n",
    "    T_object_to_camera[:3, :3] = orientation2\n",
    "    T_object_to_camera[:3, 3] = position2\n",
    "\n",
    "    # === 4. Compose full transform: T_base_obj = T_base_tool * T_tool_cam * T_cam_obj ===\n",
    "    T_object_in_tool = T_tool_to_camera @ T_object_to_camera\n",
    "    T_object_in_base = T_end_to_base @ T_object_in_tool\n",
    "\n",
    "    # === 5. Decompose result ===\n",
    "    return decompose_transform(T_object_in_base)"
   ]
  },
  {
   "cell_type": "markdown",
   "id": "38d13157",
   "metadata": {},
   "source": [
    "### `move_to_pose`\n",
    "\n",
    "- Used to move the robot directly to the computed grasping position."
   ]
  },
  {
   "cell_type": "code",
   "execution_count": 34,
   "id": "32ec6e60",
   "metadata": {},
   "outputs": [],
   "source": [
    "def move_to_pose(result_pose, movement_speed=50):\n",
    "    position, rx, ry, rz = result_pose\n",
    "\n",
    "    x_mm, y_mm, z_mm = [round(float(val), 2) for val in position]\n",
    "    roll_deg = round(np.degrees(rx), 2)\n",
    "    pitch_deg = round(np.degrees(ry), 2)\n",
    "    yaw_deg = round(np.degrees(rz), 2)\n",
    "\n",
    "    print(\"Sending coords (mm, deg):\", x_mm, y_mm, z_mm, roll_deg, pitch_deg, yaw_deg)\n",
    "\n",
    "    result = client.predict(\n",
    "        user_id=USER_ID,\n",
    "        x=x_mm,\n",
    "        y=y_mm,\n",
    "        z=z_mm,\n",
    "        roll=roll_deg,\n",
    "        pitch=pitch_deg,\n",
    "        yaw=yaw_deg,\n",
    "        movement_speed=movement_speed,\n",
    "        api_name=\"/control_coords\"\n",
    "    )\n",
    "    display_result(result)\n",
    "\n"
   ]
  },
  {
   "cell_type": "markdown",
   "id": "50ef46b5",
   "metadata": {},
   "source": [
    "### `move_relative`\n",
    "\n",
    "- Move the cobot by a relative offset (in mm) along X, Y, Z directions based on current pose.\n",
    "- The orientation remains unchanged."
   ]
  },
  {
   "cell_type": "code",
   "execution_count": 12,
   "id": "359d55b2",
   "metadata": {},
   "outputs": [],
   "source": [
    "def move_relative(dx=0.0, dy=0.0, dz=0.0, movement_speed=50):\n",
    "    \"\"\"\n",
    "    Move the cobot relative to its current position along X, Y, Z axes (in mm).\n",
    "    \"\"\"\n",
    "    # Get current coordinates\n",
    "    result = client.predict(user_id=USER_ID, api_name=\"/query_coords\")\n",
    "    coords = json.loads(result[0])[\"coords\"]\n",
    "    \n",
    "    # Extract current position and orientation\n",
    "    x_curr, y_curr, z_curr = coords[0], coords[1], coords[2]\n",
    "    roll, pitch, yaw = coords[3], coords[4], coords[5]\n",
    "    \n",
    "    # Compute new position\n",
    "    x_new = x_curr + dx\n",
    "    y_new = y_curr + dy\n",
    "    z_new = z_curr + dz\n",
    "\n",
    "    # Send new command\n",
    "    result = client.predict(\n",
    "        user_id=USER_ID,\n",
    "        x=x_new,\n",
    "        y=y_new,\n",
    "        z=z_new,\n",
    "        roll=roll,\n",
    "        pitch=pitch,\n",
    "        yaw=yaw,\n",
    "        movement_speed=movement_speed,\n",
    "        api_name=\"/control_coords\"\n",
    "    )\n",
    "    display_result(result)"
   ]
  },
  {
   "cell_type": "markdown",
   "id": "0de7c939",
   "metadata": {},
   "source": [
    "## Connecting to the Cobot\n",
    "\n",
    "### Initialize Gradio Client\n",
    "\n",
    "- Create a unique `USER_ID` for the current session.\n",
    "- Connect to the remote Gradio server (`cobot280pi-gradio-g9sv`) using Hugging Face token.\n",
    "- `client.view_api()` lists available API endpoints for interaction."
   ]
  },
  {
   "cell_type": "code",
   "execution_count": 13,
   "id": "72a990b1",
   "metadata": {},
   "outputs": [
    {
     "name": "stdout",
     "output_type": "stream",
     "text": [
      "Your user id: d7d81fef-9ab8-4b96-826d-43dab1f25eaf\n",
      "Loaded as API: https://accelerationconsortium-cobot280pi-gradio-g9sv.hf.space ✔\n",
      "Client.predict() Usage Info\n",
      "---------------------------\n",
      "Named API endpoints: 15\n",
      "\n",
      " - predict(user_id, api_name=\"/query_angles\") -> (response, queue_status)\n",
      "    Parameters:\n",
      "     - [Textbox] user_id: str (required)  \n",
      "    Returns:\n",
      "     - [Textbox] response: str \n",
      "     - [Textbox] queue_status: str \n",
      "\n",
      " - predict(user_id, api_name=\"/query_coords\") -> (response, queue_status)\n",
      "    Parameters:\n",
      "     - [Textbox] user_id: str (required)  \n",
      "    Returns:\n",
      "     - [Textbox] response: str \n",
      "     - [Textbox] queue_status: str \n",
      "\n",
      " - predict(user_id, api_name=\"/query_gripper\") -> (response, queue_status)\n",
      "    Parameters:\n",
      "     - [Textbox] user_id: str (required)  \n",
      "    Returns:\n",
      "     - [Textbox] response: str \n",
      "     - [Textbox] queue_status: str \n",
      "\n",
      " - predict(user_id, api_name=\"/query_camera\") -> (response, value_72, queue_status)\n",
      "    Parameters:\n",
      "     - [Textbox] user_id: str (required)  \n",
      "    Returns:\n",
      "     - [Textbox] response: str \n",
      "     - [Image] value_72: dict(path: str | None (Path to a local file), url: str | None (Publicly available url or base64 encoded image), size: int | None (Size of image in bytes), orig_name: str | None (Original filename), mime_type: str | None (mime type of image), is_stream: bool (Can always be set to False), meta: dict(str, Any)) \n",
      "     - [Textbox] queue_status: str \n",
      "\n",
      " - predict(user_id, gripper_value, movement_speed, api_name=\"/control_gripper\") -> (response, queue_status)\n",
      "    Parameters:\n",
      "     - [Textbox] user_id: str (required)  \n",
      "     - [Slider] gripper_value: float (not required, defaults to:   0.0)  \n",
      "     - [Slider] movement_speed: float (not required, defaults to:   50.0)  \n",
      "    Returns:\n",
      "     - [Textbox] response: str \n",
      "     - [Textbox] queue_status: str \n",
      "\n",
      " - predict(user_id, angle0, angle1, angle2, angle3, angle4, angle5, movement_speed, api_name=\"/control_angles\") -> (response, queue_status)\n",
      "    Parameters:\n",
      "     - [Textbox] user_id: str (required)  \n",
      "     - [Slider] angle0: float (not required, defaults to:   0.0)  \n",
      "     - [Slider] angle1: float (not required, defaults to:   0.0)  \n",
      "     - [Slider] angle2: float (not required, defaults to:   0.0)  \n",
      "     - [Slider] angle3: float (not required, defaults to:   0.0)  \n",
      "     - [Slider] angle4: float (not required, defaults to:   0.0)  \n",
      "     - [Slider] angle5: float (not required, defaults to:   0.0)  \n",
      "     - [Slider] movement_speed: float (not required, defaults to:   50.0)  \n",
      "    Returns:\n",
      "     - [Textbox] response: str \n",
      "     - [Textbox] queue_status: str \n",
      "\n",
      " - predict(user_id, x, y, z, roll, pitch, yaw, movement_speed, api_name=\"/control_coords\") -> (response, queue_status)\n",
      "    Parameters:\n",
      "     - [Textbox] user_id: str (required)  \n",
      "     - [Slider] x: float (not required, defaults to:   0.0)  \n",
      "     - [Slider] y: float (not required, defaults to:   0.0)  \n",
      "     - [Slider] z: float (not required, defaults to:   0.0)  \n",
      "     - [Slider] roll: float (not required, defaults to:   0.0)  \n",
      "     - [Slider] pitch: float (not required, defaults to:   0.0)  \n",
      "     - [Slider] yaw: float (not required, defaults to:   0.0)  \n",
      "     - [Slider] movement_speed: float (not required, defaults to:   50.0)  \n",
      "    Returns:\n",
      "     - [Textbox] response: str \n",
      "     - [Textbox] queue_status: str \n",
      "\n",
      " - predict(user_id, api_name=\"/set_coords_to_current\") -> (x_coordinate, y_coordinate, z_coordinate, roll, pitch, yaw, queue_status)\n",
      "    Parameters:\n",
      "     - [Textbox] user_id: str (required)  \n",
      "    Returns:\n",
      "     - [Slider] x_coordinate: float (numeric value between -350 and 350) \n",
      "     - [Slider] y_coordinate: float (numeric value between -350 and 350) \n",
      "     - [Slider] z_coordinate: float (numeric value between -70 and 523) \n",
      "     - [Slider] roll: float (numeric value between -180 and 180) \n",
      "     - [Slider] pitch: float (numeric value between -180 and 180) \n",
      "     - [Slider] yaw: float (numeric value between -180 and 180) \n",
      "     - [Textbox] queue_status: str \n",
      "\n",
      " - predict(user_id, api_name=\"/set_angles_to_current\") -> (angle_1, angle_2, angle_3, angle_4, angle_5, angle_6, queue_status)\n",
      "    Parameters:\n",
      "     - [Textbox] user_id: str (required)  \n",
      "    Returns:\n",
      "     - [Slider] angle_1: float (numeric value between -168 and 168) \n",
      "     - [Slider] angle_2: float (numeric value between -145 and 145) \n",
      "     - [Slider] angle_3: float (numeric value between -135 and 135) \n",
      "     - [Slider] angle_4: float (numeric value between -165 and 165) \n",
      "     - [Slider] angle_5: float (numeric value between -150 and 150) \n",
      "     - [Slider] angle_6: float (numeric value between -180 and 180) \n",
      "     - [Textbox] queue_status: str \n",
      "\n",
      " - predict(api_name=\"/reset\") -> (angle_1, angle_2, angle_3, angle_4, angle_5, angle_6, movement_speed)\n",
      "    Parameters:\n",
      "     - None\n",
      "    Returns:\n",
      "     - [Slider] angle_1: float (numeric value between -168 and 168) \n",
      "     - [Slider] angle_2: float (numeric value between -145 and 145) \n",
      "     - [Slider] angle_3: float (numeric value between -135 and 135) \n",
      "     - [Slider] angle_4: float (numeric value between -165 and 165) \n",
      "     - [Slider] angle_5: float (numeric value between -150 and 150) \n",
      "     - [Slider] angle_6: float (numeric value between -180 and 180) \n",
      "     - [Slider] movement_speed: float (numeric value between 0.0 and 100.0) \n",
      "\n",
      " - predict(api_name=\"/reset_1\") -> (x_coordinate, y_coordinate, z_coordinate, roll, pitch, yaw, movement_speed)\n",
      "    Parameters:\n",
      "     - None\n",
      "    Returns:\n",
      "     - [Slider] x_coordinate: float (numeric value between -350 and 350) \n",
      "     - [Slider] y_coordinate: float (numeric value between -350 and 350) \n",
      "     - [Slider] z_coordinate: float (numeric value between -70 and 523) \n",
      "     - [Slider] roll: float (numeric value between -180 and 180) \n",
      "     - [Slider] pitch: float (numeric value between -180 and 180) \n",
      "     - [Slider] yaw: float (numeric value between -180 and 180) \n",
      "     - [Slider] movement_speed: float (numeric value between 0.0 and 100.0) \n",
      "\n",
      " - predict(user_id, api_name=\"/enter_queue\") -> queue_status\n",
      "    Parameters:\n",
      "     - [Textbox] user_id: str (required)  \n",
      "    Returns:\n",
      "     - [Textbox] queue_status: str \n",
      "\n",
      " - predict(user_id, api_name=\"/release_servos\") -> (response, queue_status)\n",
      "    Parameters:\n",
      "     - [Textbox] user_id: str (required)  \n",
      "    Returns:\n",
      "     - [Textbox] response: str \n",
      "     - [Textbox] queue_status: str \n",
      "\n",
      " - predict(api_name=\"/get_random_name\") -> user_id\n",
      "    Parameters:\n",
      "     - None\n",
      "    Returns:\n",
      "     - [Textbox] user_id: str \n",
      "\n",
      " - predict(api_name=\"/queue_size\") -> queue_status\n",
      "    Parameters:\n",
      "     - None\n",
      "    Returns:\n",
      "     - [Textbox] queue_status: str \n",
      "\n",
      "Your turn!\n",
      "Time remaining: 120.00 seconds.\n"
     ]
    }
   ],
   "source": [
    "from gradio_client import Client\n",
    "import uuid\n",
    "import getpass  \n",
    "\n",
    "USER_ID = str(uuid.uuid4())\n",
    "print(f\"Your user id: {USER_ID}\")\n",
    "\n",
    "hf_token = getpass.getpass(\"Enter your Hugging Face Token:\")\n",
    "\n",
    "client = Client(\n",
    "    \"AccelerationConsortium/cobot280pi-gradio-g9sv\",\n",
    "    hf_token=hf_token\n",
    ")\n",
    "\n",
    "client.view_api()\n",
    "\n",
    "result = client.predict(\n",
    "    user_id=USER_ID,\n",
    "    api_name=\"/enter_queue\"\n",
    ")\n",
    "\n",
    "print(result)\n"
   ]
  },
  {
   "cell_type": "markdown",
   "id": "68f9f090",
   "metadata": {},
   "source": [
    "### Enter Queue\n",
    "\n",
    "- Call `/enter_queue` API to join the task queue.\n",
    "- The server assigns a queue position and returns status info."
   ]
  },
  {
   "cell_type": "code",
   "execution_count": 14,
   "id": "ce56dc34",
   "metadata": {},
   "outputs": [
    {
     "name": "stdout",
     "output_type": "stream",
     "text": [
      "Your turn!\n",
      "Time remaining: 116.12 seconds.\n"
     ]
    }
   ],
   "source": [
    "result = client.predict(\n",
    "    user_id=USER_ID,\n",
    "    api_name=\"/enter_queue\"\n",
    ")\n",
    "\n",
    "print(result)"
   ]
  },
  {
   "cell_type": "markdown",
   "id": "543d5e1c",
   "metadata": {},
   "source": [
    "## Cobot Vial Pick-and-Place Workflow"
   ]
  },
  {
   "cell_type": "markdown",
   "id": "2dba1fc2",
   "metadata": {},
   "source": [
    "First, move the cobot to the default place to detect apriltag"
   ]
  },
  {
   "cell_type": "code",
   "execution_count": 219,
   "id": "f2d64a4c",
   "metadata": {},
   "outputs": [
    {
     "name": "stdout",
     "output_type": "stream",
     "text": [
      "queue status: Your turn! Time remaining: 83.90 seconds.\n",
      "response json: {'success': True, 'command': 'control/angles'}\n"
     ]
    }
   ],
   "source": [
    "result = client.predict(\n",
    "    user_id=USER_ID,\n",
    "    **DEFAULT_DETECTION_POSE, \n",
    "    api_name=\"/control_angles\"\n",
    ")\n",
    "display_result(result)"
   ]
  },
  {
   "cell_type": "code",
   "execution_count": 110,
   "id": "a1b33ecd",
   "metadata": {},
   "outputs": [
    {
     "name": "stdout",
     "output_type": "stream",
     "text": [
      "queue status: Your turn! Time remaining: 116.22 seconds.\n",
      "response json: {'success': True, 'coords': [193.6, 73.4, 201.9, 114.32, 44.75, 149.4], 'command': 'query/coords'}\n"
     ]
    }
   ],
   "source": [
    "result = client.predict(\n",
    "\tuser_id=USER_ID,\n",
    "\tapi_name=\"/query_coords\"\n",
    ")\n",
    "display_result(result)"
   ]
  },
  {
   "cell_type": "markdown",
   "id": "6339f776",
   "metadata": {},
   "source": [
    "Then detect the AprilTag. If no tag is detected, retry several times."
   ]
  },
  {
   "cell_type": "code",
   "execution_count": 210,
   "id": "688e9e9b",
   "metadata": {},
   "outputs": [
    {
     "name": "stdout",
     "output_type": "stream",
     "text": [
      "('{\\n    \"success\": true,\\n    \"command\": \"query/camera\"\\n}', {'visible': True, 'value': 'C:\\\\Users\\\\86173\\\\AppData\\\\Local\\\\Temp\\\\gradio\\\\440ab124153b311d77835a7970895a95076352f366b5c64520aa3952996ad0e2\\\\image.webp', '__type__': 'update'}, 'Your turn!\\nTime remaining: 52.43 seconds.')\n",
      "queue status: Your turn! Time remaining: 52.43 seconds.\n",
      "response json: {'success': True, 'command': 'query/camera'}\n"
     ]
    },
    {
     "data": {
      "image/png": "[encoded data removed]",
      "text/plain": [
       "<Figure size 640x480 with 1 Axes>"
      ]
     },
     "metadata": {},
     "output_type": "display_data"
    },
    {
     "name": "stdout",
     "output_type": "stream",
     "text": [
      "Found 2 tags\n",
      "\n",
      "Tag ID: 3\n",
      "  Center: [249.66257962 130.03764352]\n",
      "  Corners: [[240.04223633 124.20635986]\n",
      " [224.68069458 137.69680786]\n",
      " [259.74551392 136.14932251]\n",
      " [272.60324097 123.00429535]]\n",
      "  Translation (x, y, z): [-0.02547578 -0.03629033  0.17547742]\n",
      "  Distance from camera: 18.10 centimeters\n",
      "  Roll: 30.16°, Pitch: 53.94°, Yaw: 116.60°\n",
      "\n",
      "Tag ID: 6\n",
      "  Center: [196.18028172 280.28240225]\n",
      "  Corners: [[177.99925232 256.81072998]\n",
      " [172.71546936 303.87536621]\n",
      " [215.27049255 304.92782593]\n",
      " [219.94659424 256.3862915 ]]\n",
      "  Translation (x, y, z): [-0.03399716  0.01264745  0.13527503]\n",
      "  Distance from camera: 14.01 centimeters\n",
      "  Roll: 17.88°, Pitch: 12.87°, Yaw: 92.81°\n",
      "Aligned pose_t (mm): [-33.99716343  12.64745283 135.27503162]\n",
      "Euler angles: 0.312134134022813 0.22469352032110268 1.6198196422727311\n"
     ]
    }
   ],
   "source": [
    "result = client.predict(\n",
    "\tuser_id=USER_ID,\n",
    "\tapi_name=\"/query_camera\"\n",
    ")\n",
    "print(result)\n",
    "display_result(result)\n",
    "image_path = result[1][\"value\"]\n",
    "\n",
    "import numpy as np\n",
    "\n",
    "camera_params = np.load(\"camera_params.npy\", allow_pickle=True).item()\n",
    "\n",
    "detections = detect_apriltags(\n",
    "    image_path,\n",
    "    camera_matrix=camera_params['camera_matrix'],\n",
    "    dist_coeffs=camera_params['dist_coeff'],\n",
    "    tag_size_meters=0.013,\n",
    "    families=\"tagStandard52h13\",\n",
    "    only_ID=False\n",
    ")\n",
    "\n",
    "det = min(detections, key=lambda d: np.linalg.norm(d.pose_t))\n",
    "\n",
    "pose_t = det.pose_t.flatten()\n",
    "\n",
    "# Convert to mm\n",
    "pose_t_mm = pose_t * 1000\n",
    "x1, y1, z1 = pose_t_mm\n",
    "\n",
    "pose_R = det.pose_R                    # shape (3, 3)\n",
    "rx1, ry1, rz1 = R.from_matrix(pose_R).as_euler('xyz', degrees=False)\n",
    "\n",
    "print(\"Aligned pose_t (mm):\", pose_t_mm)\n",
    "print(\"Euler angles:\", rx1, ry1, rz1)"
   ]
  },
  {
   "cell_type": "code",
   "execution_count": null,
   "id": "50223f1d",
   "metadata": {},
   "outputs": [],
   "source": [
    "# TODO: Implement turntable logic to rotate the turntable to the target position and grasp the specific vial."
   ]
  },
  {
   "cell_type": "markdown",
   "id": "2f750255",
   "metadata": {},
   "source": [
    "Query coordinate result from the cobot, then compute object pose in the robot base frame using end-effector pose, AprilTag detection, and hand-eye calibration.\n",
    "\n",
    "If there is an error when querying coordinates, try running the cells a few more times."
   ]
  },
  {
   "cell_type": "code",
   "execution_count": 225,
   "id": "d8da1f6a",
   "metadata": {},
   "outputs": [
    {
     "name": "stdout",
     "output_type": "stream",
     "text": [
      "queue status: You are next! Wait time: 36.25 seconds.\n",
      "response json: None\n"
     ]
    },
    {
     "ename": "TypeError",
     "evalue": "the JSON object must be str, bytes or bytearray, not NoneType",
     "output_type": "error",
     "traceback": [
      "\u001b[31m---------------------------------------------------------------------------\u001b[39m",
      "\u001b[31mTypeError\u001b[39m                                 Traceback (most recent call last)",
      "\u001b[36mCell\u001b[39m\u001b[36m \u001b[39m\u001b[32mIn[225]\u001b[39m\u001b[32m, line 6\u001b[39m\n\u001b[32m      1\u001b[39m result = client.predict(\n\u001b[32m      2\u001b[39m \tuser_id=USER_ID,\n\u001b[32m      3\u001b[39m \tapi_name=\u001b[33m\"\u001b[39m\u001b[33m/query_coords\u001b[39m\u001b[33m\"\u001b[39m\n\u001b[32m      4\u001b[39m )\n\u001b[32m      5\u001b[39m display_result(result)\n\u001b[32m----> \u001b[39m\u001b[32m6\u001b[39m coords = \u001b[43mjson\u001b[49m\u001b[43m.\u001b[49m\u001b[43mloads\u001b[49m\u001b[43m(\u001b[49m\u001b[43mresult\u001b[49m\u001b[43m[\u001b[49m\u001b[32;43m0\u001b[39;49m\u001b[43m]\u001b[49m\u001b[43m)\u001b[49m[\u001b[33m\"\u001b[39m\u001b[33mcoords\u001b[39m\u001b[33m\"\u001b[39m]\n",
      "\u001b[36mFile \u001b[39m\u001b[32mf:\\python\\Lib\\json\\__init__.py:339\u001b[39m, in \u001b[36mloads\u001b[39m\u001b[34m(s, cls, object_hook, parse_float, parse_int, parse_constant, object_pairs_hook, **kw)\u001b[39m\n\u001b[32m    337\u001b[39m \u001b[38;5;28;01melse\u001b[39;00m:\n\u001b[32m    338\u001b[39m     \u001b[38;5;28;01mif\u001b[39;00m \u001b[38;5;129;01mnot\u001b[39;00m \u001b[38;5;28misinstance\u001b[39m(s, (\u001b[38;5;28mbytes\u001b[39m, \u001b[38;5;28mbytearray\u001b[39m)):\n\u001b[32m--> \u001b[39m\u001b[32m339\u001b[39m         \u001b[38;5;28;01mraise\u001b[39;00m \u001b[38;5;167;01mTypeError\u001b[39;00m(\u001b[33mf\u001b[39m\u001b[33m'\u001b[39m\u001b[33mthe JSON object must be str, bytes or bytearray, \u001b[39m\u001b[33m'\u001b[39m\n\u001b[32m    340\u001b[39m                         \u001b[33mf\u001b[39m\u001b[33m'\u001b[39m\u001b[33mnot \u001b[39m\u001b[38;5;132;01m{\u001b[39;00ms.\u001b[34m__class__\u001b[39m.\u001b[34m__name__\u001b[39m\u001b[38;5;132;01m}\u001b[39;00m\u001b[33m'\u001b[39m)\n\u001b[32m    341\u001b[39m     s = s.decode(detect_encoding(s), \u001b[33m'\u001b[39m\u001b[33msurrogatepass\u001b[39m\u001b[33m'\u001b[39m)\n\u001b[32m    343\u001b[39m \u001b[38;5;28;01mif\u001b[39;00m (\u001b[38;5;28mcls\u001b[39m \u001b[38;5;129;01mis\u001b[39;00m \u001b[38;5;28;01mNone\u001b[39;00m \u001b[38;5;129;01mand\u001b[39;00m object_hook \u001b[38;5;129;01mis\u001b[39;00m \u001b[38;5;28;01mNone\u001b[39;00m \u001b[38;5;129;01mand\u001b[39;00m\n\u001b[32m    344\u001b[39m         parse_int \u001b[38;5;129;01mis\u001b[39;00m \u001b[38;5;28;01mNone\u001b[39;00m \u001b[38;5;129;01mand\u001b[39;00m parse_float \u001b[38;5;129;01mis\u001b[39;00m \u001b[38;5;28;01mNone\u001b[39;00m \u001b[38;5;129;01mand\u001b[39;00m\n\u001b[32m    345\u001b[39m         parse_constant \u001b[38;5;129;01mis\u001b[39;00m \u001b[38;5;28;01mNone\u001b[39;00m \u001b[38;5;129;01mand\u001b[39;00m object_pairs_hook \u001b[38;5;129;01mis\u001b[39;00m \u001b[38;5;28;01mNone\u001b[39;00m \u001b[38;5;129;01mand\u001b[39;00m \u001b[38;5;129;01mnot\u001b[39;00m kw):\n",
      "\u001b[31mTypeError\u001b[39m: the JSON object must be str, bytes or bytearray, not NoneType"
     ]
    }
   ],
   "source": [
    "result = client.predict(\n",
    "\tuser_id=USER_ID,\n",
    "\tapi_name=\"/query_coords\"\n",
    ")\n",
    "display_result(result)\n",
    "coords = json.loads(result[0])[\"coords\"]\n"
   ]
  },
  {
   "cell_type": "code",
   "execution_count": 223,
   "id": "3b983a8e",
   "metadata": {},
   "outputs": [
    {
     "name": "stdout",
     "output_type": "stream",
     "text": [
      "Target pose in robot base frame:\n",
      "Position: [278.02351376 114.30844143  83.0240277 ]\n",
      "Rotation (Euler angles): 2.8222664284171524 0.7404461323620225 1.8920647835805229\n",
      "Robot coords: [194.2, 72.3, 201.9, 114.18, 44.39, 148.46]\n",
      "AprilTag pose (mm): [-33.99716343  12.64745283 135.27503162]\n",
      "AprilTag euler angles: 0.312134134022813 0.22469352032110268 1.6198196422727311\n",
      "Result in base frame: (array([278.02351376, 114.30844143,  83.0240277 ]), 2.8222664284171524, 0.7404461323620225, 1.8920647835805229)\n"
     ]
    }
   ],
   "source": [
    "result_pose = convert(\n",
    "    coords[0], coords[1], coords[2], coords[3], coords[4], coords[5], \n",
    "    x1, y1, z1, rx1, ry1, rz1,                                         \n",
    "    hand_eye_calibration                                                \n",
    ")\n",
    "\n",
    "position, rx, ry, rz = result_pose\n",
    "print(\"Target pose in robot base frame:\")\n",
    "print(\"Position:\", position)\n",
    "print(\"Rotation (Euler angles):\", rx, ry, rz)\n",
    "print(\"Robot coords:\", coords)\n",
    "print(\"AprilTag pose (mm):\", pose_t_mm)\n",
    "print(\"AprilTag euler angles:\", rx1, ry1, rz1)\n",
    "print(\"Result in base frame:\", result_pose)"
   ]
  },
  {
   "cell_type": "markdown",
   "id": "6cb534b4",
   "metadata": {},
   "source": [
    "Open gripper"
   ]
  },
  {
   "cell_type": "code",
   "execution_count": 215,
   "id": "1253e698",
   "metadata": {},
   "outputs": [
    {
     "name": "stdout",
     "output_type": "stream",
     "text": [
      "queue status: Your turn! Time remaining: 120.00 seconds.\n",
      "response json: {'success': True, 'command': 'control/gripper'}\n"
     ]
    }
   ],
   "source": [
    "result = client.predict(\n",
    "\tuser_id=USER_ID,\n",
    "\tgripper_value = 100,\n",
    "\tmovement_speed = 100,\n",
    "\tapi_name=\"/control_gripper\"\n",
    ")\n",
    "display_result(result)"
   ]
  },
  {
   "cell_type": "markdown",
   "id": "44abf3dc",
   "metadata": {},
   "source": [
    "Move cobot to target position"
   ]
  },
  {
   "cell_type": "code",
   "execution_count": 220,
   "id": "444b8b72",
   "metadata": {},
   "outputs": [
    {
     "name": "stdout",
     "output_type": "stream",
     "text": [
      "pose_t (from AprilTag): [-33.99716343  12.64745283 135.27503162]\n",
      "corrected_pose_t: [134.97907866 -14.9730718  -33.65668855]\n",
      "position before convert(): [194.2, 72.3, 201.9]\n",
      "final converted position: [278.02351376 114.30844143  83.0240277 ]\n",
      "Sending coords (mm, deg): 278.02 114.31 83.02 161.7 42.42 108.41\n",
      "queue status: Your turn! Time remaining: 73.87 seconds.\n",
      "response json: {'success': True, 'command': 'control/coords'}\n"
     ]
    }
   ],
   "source": [
    "print(\"pose_t (from AprilTag):\", pose_t_mm)\n",
    "print(\"corrected_pose_t:\", corrected_pose_t)\n",
    "print(\"position before convert():\", coords[:3])\n",
    "print(\"final converted position:\", result_pose[0])\n",
    "move_to_pose(result_pose)"
   ]
  },
  {
   "cell_type": "markdown",
   "id": "f9fc5f68",
   "metadata": {},
   "source": [
    "Close gripper"
   ]
  },
  {
   "cell_type": "code",
   "execution_count": 17,
   "id": "2bd48193",
   "metadata": {},
   "outputs": [
    {
     "name": "stdout",
     "output_type": "stream",
     "text": [
      "queue status: Your turn! Time remaining: 56.75 seconds.\n",
      "response json: {'success': True, 'command': 'control/gripper'}\n"
     ]
    }
   ],
   "source": [
    "result = client.predict(\n",
    "\tuser_id=USER_ID,\n",
    "\tgripper_value = 100,\n",
    "\tmovement_speed = 100,\n",
    "\tapi_name=\"/control_gripper\"\n",
    ")\n",
    "display_result(result)"
   ]
  },
  {
   "cell_type": "markdown",
   "id": "b0734c9e",
   "metadata": {},
   "source": [
    "Lift the vial after grab"
   ]
  },
  {
   "cell_type": "code",
   "execution_count": null,
   "id": "0f58a872",
   "metadata": {},
   "outputs": [],
   "source": [
    "move_relative(dz=50)"
   ]
  },
  {
   "cell_type": "markdown",
   "id": "280bd1da",
   "metadata": {},
   "source": [
    "Move back to default place to detect apriltag"
   ]
  },
  {
   "cell_type": "code",
   "execution_count": null,
   "id": "6177b34c",
   "metadata": {},
   "outputs": [],
   "source": [
    "result = client.predict(\n",
    "    user_id=USER_ID,\n",
    "    **DEFAULT_DETECTION_POSE, \n",
    "    api_name=\"/control_angles\"\n",
    ")\n",
    "display_result(result)"
   ]
  },
  {
   "cell_type": "code",
   "execution_count": null,
   "id": "f7e8bc9b",
   "metadata": {},
   "outputs": [],
   "source": [
    "# TODO: Implement turntable logic to rotate the turntable to the target position and put the specific vial."
   ]
  },
  {
   "cell_type": "markdown",
   "id": "3fd861ba",
   "metadata": {},
   "source": [
    "Detect the AprilTag at the target slot. Retry if no tag is detected."
   ]
  },
  {
   "cell_type": "code",
   "execution_count": null,
   "id": "0f1956e1",
   "metadata": {},
   "outputs": [],
   "source": [
    "result = client.predict(\n",
    "\tuser_id=USER_ID,\n",
    "\tapi_name=\"/query_camera\"\n",
    ")\n",
    "print(result)\n",
    "display_result(result)\n",
    "image_path = result[1][\"value\"]\n",
    "\n",
    "import numpy as np\n",
    "\n",
    "camera_params = np.load(\"camera_params.npy\", allow_pickle=True).item()\n",
    "\n",
    "detections = detect_apriltags(\n",
    "    image_path,\n",
    "    camera_matrix=camera_params['camera_matrix'],\n",
    "    dist_coeffs=camera_params['dist_coeff'],\n",
    "    tag_size_meters=0.013,\n",
    "    families=\"tagStandard52h13\",\n",
    "    only_ID=False\n",
    ")\n",
    "\n",
    "det = detections[0]\n",
    "\n",
    "pose_t = det.pose_t.flatten()\n",
    "pose_R = det.pose_R\n",
    "\n",
    "# Transform offset to camera frame\n",
    "offset_in_camera = pose_R @ VIAL_OFFSET_IN_TAG\n",
    "\n",
    "# Apply offset\n",
    "corrected_pose_t = pose_t + offset_in_camera\n",
    "\n",
    "x1, y1, z1 = corrected_pose_t\n",
    "euler = R.from_matrix(pose_R).as_euler('xyz', degrees=False)\n",
    "rx1, ry1, rz1 = euler"
   ]
  },
  {
   "cell_type": "markdown",
   "id": "f2976ebe",
   "metadata": {},
   "source": [
    "Query coordinate result from the cobot, then compute object pose in the robot base frame using end-effector pose, AprilTag detection, and hand-eye calibration."
   ]
  },
  {
   "cell_type": "code",
   "execution_count": null,
   "id": "234d5fbc",
   "metadata": {},
   "outputs": [],
   "source": [
    "result = client.predict(\n",
    "\tuser_id=USER_ID,\n",
    "\tapi_name=\"/query_coords\"\n",
    ")\n",
    "display_result(result)\n",
    "coords = json.loads(result[0])[\"coords\"]\n",
    "\n",
    "result_pose = convert(\n",
    "    coords[0], coords[1], coords[2], coords[3], coords[4], coords[5], \n",
    "    x1, y1, z1, rx1, ry1, rz1,                                         \n",
    "    hand_eye_calibration                                                \n",
    ")\n",
    "\n",
    "position, rx, ry, rz = result_pose\n",
    "print(\"Target pose in robot base frame:\")\n",
    "print(\"Position:\", position)\n",
    "print(\"Rotation (Euler angles):\", rx, ry, rz)"
   ]
  },
  {
   "cell_type": "markdown",
   "id": "696c28fd",
   "metadata": {},
   "source": [
    "Move down to place the vial"
   ]
  },
  {
   "cell_type": "code",
   "execution_count": null,
   "id": "4c84e272",
   "metadata": {},
   "outputs": [],
   "source": [
    "move_relative(dz=-30)"
   ]
  },
  {
   "cell_type": "markdown",
   "id": "26455716",
   "metadata": {},
   "source": [
    "Open gripper"
   ]
  },
  {
   "cell_type": "code",
   "execution_count": 19,
   "id": "58897b10",
   "metadata": {},
   "outputs": [
    {
     "name": "stdout",
     "output_type": "stream",
     "text": [
      "queue status: Your turn! Time remaining: 41.50 seconds.\n",
      "response json: {'success': True, 'command': 'control/gripper'}\n"
     ]
    }
   ],
   "source": [
    "result = client.predict(\n",
    "\tuser_id=USER_ID,\n",
    "\tgripper_value = 100,\n",
    "\tmovement_speed = 100,\n",
    "\tapi_name=\"/control_gripper\"\n",
    ")\n",
    "display_result(result)"
   ]
  },
  {
   "cell_type": "markdown",
   "id": "dc4fad89",
   "metadata": {},
   "source": [
    "Finally, move the cobot to the home palce"
   ]
  },
  {
   "cell_type": "code",
   "execution_count": 1,
   "id": "64a455c4",
   "metadata": {},
   "outputs": [
    {
     "ename": "NameError",
     "evalue": "name 'client' is not defined",
     "output_type": "error",
     "traceback": [
      "\u001b[31m---------------------------------------------------------------------------\u001b[39m",
      "\u001b[31mNameError\u001b[39m                                 Traceback (most recent call last)",
      "\u001b[36mCell\u001b[39m\u001b[36m \u001b[39m\u001b[32mIn[1]\u001b[39m\u001b[32m, line 1\u001b[39m\n\u001b[32m----> \u001b[39m\u001b[32m1\u001b[39m result = \u001b[43mclient\u001b[49m.predict(\n\u001b[32m      2\u001b[39m     user_id=USER_ID,\n\u001b[32m      3\u001b[39m     **INITIAL_HOME_POSE, \n\u001b[32m      4\u001b[39m     api_name=\u001b[33m\"\u001b[39m\u001b[33m/control_angles\u001b[39m\u001b[33m\"\u001b[39m\n\u001b[32m      5\u001b[39m )\n\u001b[32m      6\u001b[39m display_result(result)\n",
      "\u001b[31mNameError\u001b[39m: name 'client' is not defined"
     ]
    }
   ],
   "source": [
    "result = client.predict(\n",
    "    user_id=USER_ID,\n",
    "    **INITIAL_HOME_POSE, \n",
    "    api_name=\"/control_angles\"\n",
    ")\n",
    "display_result(result)"
   ]
  }
 ],
 "metadata": {
  "kernelspec": {
   "display_name": "Python 3",
   "language": "python",
   "name": "python3"
  },
  "language_info": {
   "codemirror_mode": {
    "name": "ipython",
    "version": 3
   },
   "file_extension": ".py",
   "mimetype": "text/x-python",
   "name": "python",
   "nbconvert_exporter": "python",
   "pygments_lexer": "ipython3",
   "version": "3.11.7"
  }
 },
 "nbformat": 4,
 "nbformat_minor": 5
}
