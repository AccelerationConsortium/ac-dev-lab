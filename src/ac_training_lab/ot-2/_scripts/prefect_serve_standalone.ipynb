{
  "nbformat": 4,
  "nbformat_minor": 0,
  "metadata": {
    "colab": {
      "provenance": []
    },
    "kernelspec": {
      "name": "python3",
      "display_name": "Python 3"
    },
    "language_info": {
      "name": "python"
    }
  },
  "cells": [
    {
      "cell_type": "code",
      "source": [
        "%pip install -U \"anyio>=4.2\" > /dev/null"
      ],
      "metadata": {
        "id": "zw0s1ahA-NaX"
      },
      "execution_count": 16,
      "outputs": []
    },
    {
      "cell_type": "code",
      "source": [
        "%pip install opentrons"
      ],
      "metadata": {
        "colab": {
          "base_uri": "https://localhost:8080/"
        },
        "id": "GLDV0IEQ0iN3",
        "outputId": "6fb3bdfd-3a51-4679-f0e5-4da743c5b5c3"
      },
      "execution_count": 1,
      "outputs": [
        {
          "output_type": "stream",
          "name": "stdout",
          "text": [
            "Requirement already satisfied: opentrons in /usr/local/lib/python3.11/dist-packages (8.5.1)\n",
            "Requirement already satisfied: opentrons-shared-data==8.5.1 in /usr/local/lib/python3.11/dist-packages (from opentrons) (8.5.1)\n",
            "Requirement already satisfied: aionotify==0.3.1 in /usr/local/lib/python3.11/dist-packages (from opentrons) (0.3.1)\n",
            "Requirement already satisfied: anyio<4.0.0,>=3.6.1 in /usr/local/lib/python3.11/dist-packages (from opentrons) (3.7.1)\n",
            "Requirement already satisfied: jsonschema<4.18.0,>=3.0.1 in /usr/local/lib/python3.11/dist-packages (from opentrons) (4.17.3)\n",
            "Requirement already satisfied: numpy<2,>=1.20.0 in /usr/local/lib/python3.11/dist-packages (from opentrons) (1.26.4)\n",
            "Requirement already satisfied: pydantic<3,>=2.0.0 in /usr/local/lib/python3.11/dist-packages (from opentrons) (2.11.7)\n",
            "Requirement already satisfied: pydantic-settings<3,>=2 in /usr/local/lib/python3.11/dist-packages (from opentrons) (2.10.1)\n",
            "Requirement already satisfied: pyserial>=3.5 in /usr/local/lib/python3.11/dist-packages (from opentrons) (3.5)\n",
            "Requirement already satisfied: typing-extensions<5,>=4.0.0 in /usr/local/lib/python3.11/dist-packages (from opentrons) (4.14.1)\n",
            "Requirement already satisfied: click<9,>=8.0.0 in /usr/local/lib/python3.11/dist-packages (from opentrons) (8.1.8)\n",
            "Requirement already satisfied: pyusb==1.2.1 in /usr/local/lib/python3.11/dist-packages (from opentrons) (1.2.1)\n",
            "Requirement already satisfied: packaging>=21.0 in /usr/local/lib/python3.11/dist-packages (from opentrons) (25.0)\n",
            "Requirement already satisfied: idna>=2.8 in /usr/local/lib/python3.11/dist-packages (from anyio<4.0.0,>=3.6.1->opentrons) (3.10)\n",
            "Requirement already satisfied: sniffio>=1.1 in /usr/local/lib/python3.11/dist-packages (from anyio<4.0.0,>=3.6.1->opentrons) (1.3.1)\n",
            "Requirement already satisfied: attrs>=17.4.0 in /usr/local/lib/python3.11/dist-packages (from jsonschema<4.18.0,>=3.0.1->opentrons) (25.3.0)\n",
            "Requirement already satisfied: pyrsistent!=0.17.0,!=0.17.1,!=0.17.2,>=0.14.0 in /usr/local/lib/python3.11/dist-packages (from jsonschema<4.18.0,>=3.0.1->opentrons) (0.20.0)\n",
            "Requirement already satisfied: annotated-types>=0.6.0 in /usr/local/lib/python3.11/dist-packages (from pydantic<3,>=2.0.0->opentrons) (0.7.0)\n",
            "Requirement already satisfied: pydantic-core==2.33.2 in /usr/local/lib/python3.11/dist-packages (from pydantic<3,>=2.0.0->opentrons) (2.33.2)\n",
            "Requirement already satisfied: typing-inspection>=0.4.0 in /usr/local/lib/python3.11/dist-packages (from pydantic<3,>=2.0.0->opentrons) (0.4.1)\n",
            "Requirement already satisfied: python-dotenv>=0.21.0 in /usr/local/lib/python3.11/dist-packages (from pydantic-settings<3,>=2->opentrons) (1.1.1)\n"
          ]
        }
      ]
    },
    {
      "cell_type": "code",
      "source": [
        "%pip install prefect"
      ],
      "metadata": {
        "colab": {
          "base_uri": "https://localhost:8080/"
        },
        "id": "0Em6Nm4Sz4Dl",
        "outputId": "23317214-f1c9-4739-ff6a-32fb0828f286"
      },
      "execution_count": 1,
      "outputs": [
        {
          "output_type": "stream",
          "name": "stdout",
          "text": [
            "Requirement already satisfied: prefect in /usr/local/lib/python3.11/dist-packages (3.4.11)\n",
            "Requirement already satisfied: aiosqlite<1.0.0,>=0.17.0 in /usr/local/lib/python3.11/dist-packages (from prefect) (0.21.0)\n",
            "Requirement already satisfied: alembic<2.0.0,>=1.7.5 in /usr/local/lib/python3.11/dist-packages (from prefect) (1.16.4)\n",
            "Requirement already satisfied: anyio<5.0.0,>=4.4.0 in /usr/local/lib/python3.11/dist-packages (from prefect) (4.10.0)\n",
            "Requirement already satisfied: apprise<2.0.0,>=1.1.0 in /usr/local/lib/python3.11/dist-packages (from prefect) (1.9.4)\n",
            "Requirement already satisfied: asgi-lifespan<3.0,>=1.0 in /usr/local/lib/python3.11/dist-packages (from prefect) (2.1.0)\n",
            "Requirement already satisfied: asyncpg<1.0.0,>=0.23 in /usr/local/lib/python3.11/dist-packages (from prefect) (0.30.0)\n",
            "Requirement already satisfied: cachetools<7.0,>=5.3 in /usr/local/lib/python3.11/dist-packages (from prefect) (5.5.2)\n",
            "Requirement already satisfied: click<8.2,>=8.0 in /usr/local/lib/python3.11/dist-packages (from prefect) (8.1.8)\n",
            "Requirement already satisfied: cloudpickle<4.0,>=2.0 in /usr/local/lib/python3.11/dist-packages (from prefect) (3.1.1)\n",
            "Requirement already satisfied: coolname<3.0.0,>=1.0.4 in /usr/local/lib/python3.11/dist-packages (from prefect) (2.2.0)\n",
            "Requirement already satisfied: cryptography>=36.0.1 in /usr/local/lib/python3.11/dist-packages (from prefect) (43.0.3)\n",
            "Requirement already satisfied: dateparser<2.0.0,>=1.1.1 in /usr/local/lib/python3.11/dist-packages (from prefect) (1.2.2)\n",
            "Requirement already satisfied: docker<8.0,>=4.0 in /usr/local/lib/python3.11/dist-packages (from prefect) (7.1.0)\n",
            "Requirement already satisfied: exceptiongroup>=1.0.0 in /usr/local/lib/python3.11/dist-packages (from prefect) (1.3.0)\n",
            "Requirement already satisfied: fastapi<1.0.0,>=0.111.0 in /usr/local/lib/python3.11/dist-packages (from prefect) (0.116.1)\n",
            "Requirement already satisfied: fsspec>=2022.5.0 in /usr/local/lib/python3.11/dist-packages (from prefect) (2025.3.0)\n",
            "Requirement already satisfied: graphviz>=0.20.1 in /usr/local/lib/python3.11/dist-packages (from prefect) (0.21)\n",
            "Requirement already satisfied: griffe<2.0.0,>=0.49.0 in /usr/local/lib/python3.11/dist-packages (from prefect) (1.10.0)\n",
            "Requirement already satisfied: httpcore<2.0.0,>=1.0.5 in /usr/local/lib/python3.11/dist-packages (from prefect) (1.0.9)\n",
            "Requirement already satisfied: httpx!=0.23.2,>=0.23 in /usr/local/lib/python3.11/dist-packages (from httpx[http2]!=0.23.2,>=0.23->prefect) (0.28.1)\n",
            "Requirement already satisfied: humanize<5.0.0,>=4.9.0 in /usr/local/lib/python3.11/dist-packages (from prefect) (4.12.3)\n",
            "Requirement already satisfied: jinja2-humanize-extension>=0.4.0 in /usr/local/lib/python3.11/dist-packages (from prefect) (0.4.0)\n",
            "Requirement already satisfied: jinja2<4.0.0,>=3.1.6 in /usr/local/lib/python3.11/dist-packages (from prefect) (3.1.6)\n",
            "Requirement already satisfied: jsonpatch<2.0,>=1.32 in /usr/local/lib/python3.11/dist-packages (from prefect) (1.33)\n",
            "Requirement already satisfied: jsonschema<5.0.0,>=4.18.0 in /usr/local/lib/python3.11/dist-packages (from prefect) (4.25.0)\n",
            "Requirement already satisfied: opentelemetry-api<2.0.0,>=1.27.0 in /usr/local/lib/python3.11/dist-packages (from prefect) (1.36.0)\n",
            "Requirement already satisfied: orjson<4.0,>=3.7 in /usr/local/lib/python3.11/dist-packages (from prefect) (3.11.1)\n",
            "Requirement already satisfied: packaging<25.1,>=21.3 in /usr/local/lib/python3.11/dist-packages (from prefect) (25.0)\n",
            "Requirement already satisfied: pathspec>=0.8.0 in /usr/local/lib/python3.11/dist-packages (from prefect) (0.12.1)\n",
            "Requirement already satisfied: pendulum<4,>=3.0.0 in /usr/local/lib/python3.11/dist-packages (from prefect) (3.1.0)\n",
            "Requirement already satisfied: prometheus-client>=0.20.0 in /usr/local/lib/python3.11/dist-packages (from prefect) (0.22.1)\n",
            "Requirement already satisfied: pydantic!=2.11.0,!=2.11.1,!=2.11.2,!=2.11.3,!=2.11.4,<3.0.0,>=2.10.1 in /usr/local/lib/python3.11/dist-packages (from prefect) (2.11.7)\n",
            "Requirement already satisfied: pydantic-core<3.0.0,>=2.12.0 in /usr/local/lib/python3.11/dist-packages (from prefect) (2.33.2)\n",
            "Requirement already satisfied: pydantic-extra-types<3.0.0,>=2.8.2 in /usr/local/lib/python3.11/dist-packages (from prefect) (2.10.5)\n",
            "Requirement already satisfied: pydantic-settings!=2.9.0,<3.0.0,>2.2.1 in /usr/local/lib/python3.11/dist-packages (from prefect) (2.10.1)\n",
            "Requirement already satisfied: python-dateutil<3.0.0,>=2.8.2 in /usr/local/lib/python3.11/dist-packages (from prefect) (2.9.0.post0)\n",
            "Requirement already satisfied: python-slugify<9.0,>=5.0 in /usr/local/lib/python3.11/dist-packages (from prefect) (8.0.4)\n",
            "Requirement already satisfied: python-socks<3.0,>=2.5.3 in /usr/local/lib/python3.11/dist-packages (from python-socks[asyncio]<3.0,>=2.5.3->prefect) (2.7.2)\n",
            "Requirement already satisfied: pytz<2026,>=2021.1 in /usr/local/lib/python3.11/dist-packages (from prefect) (2025.2)\n",
            "Requirement already satisfied: pyyaml<7.0.0,>=5.4.1 in /usr/local/lib/python3.11/dist-packages (from prefect) (6.0.2)\n",
            "Requirement already satisfied: readchar<5.0.0,>=4.0.0 in /usr/local/lib/python3.11/dist-packages (from prefect) (4.2.1)\n",
            "Requirement already satisfied: rfc3339-validator<0.2.0,>=0.1.4 in /usr/local/lib/python3.11/dist-packages (from prefect) (0.1.4)\n",
            "Requirement already satisfied: rich<15.0,>=11.0 in /usr/local/lib/python3.11/dist-packages (from prefect) (13.9.4)\n",
            "Requirement already satisfied: ruamel-yaml>=0.17.0 in /usr/local/lib/python3.11/dist-packages (from prefect) (0.18.14)\n",
            "Requirement already satisfied: semver>=3.0.4 in /usr/local/lib/python3.11/dist-packages (from prefect) (3.0.4)\n",
            "Requirement already satisfied: sniffio<2.0.0,>=1.3.0 in /usr/local/lib/python3.11/dist-packages (from prefect) (1.3.1)\n",
            "Requirement already satisfied: sqlalchemy<3.0.0,>=2.0 in /usr/local/lib/python3.11/dist-packages (from sqlalchemy[asyncio]<3.0.0,>=2.0->prefect) (2.0.42)\n",
            "Requirement already satisfied: toml>=0.10.0 in /usr/local/lib/python3.11/dist-packages (from prefect) (0.10.2)\n",
            "Requirement already satisfied: typer!=0.12.2,<0.17.0,>=0.12.0 in /usr/local/lib/python3.11/dist-packages (from prefect) (0.16.0)\n",
            "Requirement already satisfied: typing-extensions<5.0.0,>=4.10.0 in /usr/local/lib/python3.11/dist-packages (from prefect) (4.14.1)\n",
            "Requirement already satisfied: uv>=0.6.0 in /usr/local/lib/python3.11/dist-packages (from prefect) (0.8.5)\n",
            "Requirement already satisfied: uvicorn!=0.29.0,>=0.14.0 in /usr/local/lib/python3.11/dist-packages (from prefect) (0.35.0)\n",
            "Requirement already satisfied: websockets<16.0,>=13.0 in /usr/local/lib/python3.11/dist-packages (from prefect) (15.0.1)\n",
            "Requirement already satisfied: Mako in /usr/lib/python3/dist-packages (from alembic<2.0.0,>=1.7.5->prefect) (1.1.3)\n",
            "Requirement already satisfied: idna>=2.8 in /usr/local/lib/python3.11/dist-packages (from anyio<5.0.0,>=4.4.0->prefect) (3.10)\n",
            "Requirement already satisfied: requests in /usr/local/lib/python3.11/dist-packages (from apprise<2.0.0,>=1.1.0->prefect) (2.32.3)\n",
            "Requirement already satisfied: requests-oauthlib in /usr/local/lib/python3.11/dist-packages (from apprise<2.0.0,>=1.1.0->prefect) (2.0.0)\n",
            "Requirement already satisfied: markdown in /usr/local/lib/python3.11/dist-packages (from apprise<2.0.0,>=1.1.0->prefect) (3.8.2)\n",
            "Requirement already satisfied: certifi in /usr/local/lib/python3.11/dist-packages (from apprise<2.0.0,>=1.1.0->prefect) (2025.7.14)\n",
            "Requirement already satisfied: cffi>=1.12 in /usr/local/lib/python3.11/dist-packages (from cryptography>=36.0.1->prefect) (1.17.1)\n",
            "Requirement already satisfied: regex>=2024.9.11 in /usr/local/lib/python3.11/dist-packages (from dateparser<2.0.0,>=1.1.1->prefect) (2024.11.6)\n",
            "Requirement already satisfied: tzlocal>=0.2 in /usr/local/lib/python3.11/dist-packages (from dateparser<2.0.0,>=1.1.1->prefect) (5.3.1)\n",
            "Requirement already satisfied: urllib3>=1.26.0 in /usr/local/lib/python3.11/dist-packages (from docker<8.0,>=4.0->prefect) (2.5.0)\n",
            "Requirement already satisfied: starlette<0.48.0,>=0.40.0 in /usr/local/lib/python3.11/dist-packages (from fastapi<1.0.0,>=0.111.0->prefect) (0.47.2)\n",
            "Requirement already satisfied: colorama>=0.4 in /usr/local/lib/python3.11/dist-packages (from griffe<2.0.0,>=0.49.0->prefect) (0.4.6)\n",
            "Requirement already satisfied: h11>=0.16 in /usr/local/lib/python3.11/dist-packages (from httpcore<2.0.0,>=1.0.5->prefect) (0.16.0)\n",
            "Requirement already satisfied: h2<5,>=3 in /usr/local/lib/python3.11/dist-packages (from httpx[http2]!=0.23.2,>=0.23->prefect) (4.2.0)\n",
            "Requirement already satisfied: MarkupSafe>=2.0 in /usr/local/lib/python3.11/dist-packages (from jinja2<4.0.0,>=3.1.6->prefect) (3.0.2)\n",
            "Requirement already satisfied: jsonpointer>=1.9 in /usr/local/lib/python3.11/dist-packages (from jsonpatch<2.0,>=1.32->prefect) (3.0.0)\n",
            "Requirement already satisfied: attrs>=22.2.0 in /usr/local/lib/python3.11/dist-packages (from jsonschema<5.0.0,>=4.18.0->prefect) (25.3.0)\n",
            "Requirement already satisfied: jsonschema-specifications>=2023.03.6 in /usr/local/lib/python3.11/dist-packages (from jsonschema<5.0.0,>=4.18.0->prefect) (2025.4.1)\n",
            "Requirement already satisfied: referencing>=0.28.4 in /usr/local/lib/python3.11/dist-packages (from jsonschema<5.0.0,>=4.18.0->prefect) (0.36.2)\n",
            "Requirement already satisfied: rpds-py>=0.7.1 in /usr/local/lib/python3.11/dist-packages (from jsonschema<5.0.0,>=4.18.0->prefect) (0.26.0)\n",
            "Requirement already satisfied: importlib-metadata<8.8.0,>=6.0 in /usr/local/lib/python3.11/dist-packages (from opentelemetry-api<2.0.0,>=1.27.0->prefect) (8.7.0)\n",
            "Requirement already satisfied: tzdata>=2020.1 in /usr/local/lib/python3.11/dist-packages (from pendulum<4,>=3.0.0->prefect) (2025.2)\n",
            "Requirement already satisfied: annotated-types>=0.6.0 in /usr/local/lib/python3.11/dist-packages (from pydantic!=2.11.0,!=2.11.1,!=2.11.2,!=2.11.3,!=2.11.4,<3.0.0,>=2.10.1->prefect) (0.7.0)\n",
            "Requirement already satisfied: typing-inspection>=0.4.0 in /usr/local/lib/python3.11/dist-packages (from pydantic!=2.11.0,!=2.11.1,!=2.11.2,!=2.11.3,!=2.11.4,<3.0.0,>=2.10.1->prefect) (0.4.1)\n",
            "Requirement already satisfied: python-dotenv>=0.21.0 in /usr/local/lib/python3.11/dist-packages (from pydantic-settings!=2.9.0,<3.0.0,>2.2.1->prefect) (1.1.1)\n",
            "Requirement already satisfied: six>=1.5 in /usr/local/lib/python3.11/dist-packages (from python-dateutil<3.0.0,>=2.8.2->prefect) (1.17.0)\n",
            "Requirement already satisfied: text-unidecode>=1.3 in /usr/local/lib/python3.11/dist-packages (from python-slugify<9.0,>=5.0->prefect) (1.3)\n",
            "Requirement already satisfied: markdown-it-py>=2.2.0 in /usr/local/lib/python3.11/dist-packages (from rich<15.0,>=11.0->prefect) (3.0.0)\n",
            "Requirement already satisfied: pygments<3.0.0,>=2.13.0 in /usr/local/lib/python3.11/dist-packages (from rich<15.0,>=11.0->prefect) (2.19.2)\n",
            "Requirement already satisfied: ruamel.yaml.clib>=0.2.7 in /usr/local/lib/python3.11/dist-packages (from ruamel-yaml>=0.17.0->prefect) (0.2.12)\n",
            "Requirement already satisfied: greenlet>=1 in /usr/local/lib/python3.11/dist-packages (from sqlalchemy<3.0.0,>=2.0->sqlalchemy[asyncio]<3.0.0,>=2.0->prefect) (3.2.3)\n",
            "Requirement already satisfied: shellingham>=1.3.0 in /usr/local/lib/python3.11/dist-packages (from typer!=0.12.2,<0.17.0,>=0.12.0->prefect) (1.5.4)\n",
            "Requirement already satisfied: pycparser in /usr/local/lib/python3.11/dist-packages (from cffi>=1.12->cryptography>=36.0.1->prefect) (2.22)\n",
            "Requirement already satisfied: hyperframe<7,>=6.1 in /usr/local/lib/python3.11/dist-packages (from h2<5,>=3->httpx[http2]!=0.23.2,>=0.23->prefect) (6.1.0)\n",
            "Requirement already satisfied: hpack<5,>=4.1 in /usr/local/lib/python3.11/dist-packages (from h2<5,>=3->httpx[http2]!=0.23.2,>=0.23->prefect) (4.1.0)\n",
            "Requirement already satisfied: zipp>=3.20 in /usr/local/lib/python3.11/dist-packages (from importlib-metadata<8.8.0,>=6.0->opentelemetry-api<2.0.0,>=1.27.0->prefect) (3.23.0)\n",
            "Requirement already satisfied: mdurl~=0.1 in /usr/local/lib/python3.11/dist-packages (from markdown-it-py>=2.2.0->rich<15.0,>=11.0->prefect) (0.1.2)\n",
            "Requirement already satisfied: charset-normalizer<4,>=2 in /usr/local/lib/python3.11/dist-packages (from requests->apprise<2.0.0,>=1.1.0->prefect) (3.4.2)\n",
            "Requirement already satisfied: oauthlib>=3.0.0 in /usr/local/lib/python3.11/dist-packages (from requests-oauthlib->apprise<2.0.0,>=1.1.0->prefect) (3.3.1)\n"
          ]
        }
      ]
    },
    {
      "cell_type": "code",
      "source": [
        "!git clone https://github.com/AccelerationConsortium/ac-training-lab.git"
      ],
      "metadata": {
        "id": "NZiJLmRU7rlY"
      },
      "execution_count": null,
      "outputs": []
    },
    {
      "cell_type": "markdown",
      "source": [
        "## Prefect Cloud Login Required\n",
        "\n",
        "Before running the cells below, please log in to Prefect Cloud.\n",
        "\n",
        "The following parameters should be the same as those used in the **ot2_orchestrator_prefect notebook**.\n",
        "\n",
        "### How to get your API Key:\n",
        "1. Go to [Prefect Cloud](https://app.prefect.cloud)\n",
        "2. Click the workspace name in the top-left (e.g., `default`)\n",
        "3. Select **API Keys** from the menu\n",
        "4. Click the + icon to create a new key\n",
        "5. Copy the key and paste it into the input box below\n",
        "\n",
        "### How to get your API URL:\n",
        "1. Open your workspace\n",
        "2. Copy the URL from your browser — it looks like:\n",
        "https://app.prefect.cloud/account/.../workspace/...\n",
        "\n",
        "3. Then convert it to the following format (keep the content after the colons unchanged): https://api.prefect.cloud/api/accounts/.../workspaces/...\n",
        "\n",
        "(e.g. https://api.prefect.cloud/api/accounts/12345678-abcd-1234-abcd-1234567890ab/workspaces/abcdef12-3456-7890-abcd-abcdef123456)"
      ],
      "metadata": {
        "id": "jxqZxYXDD_59"
      }
    },
    {
      "cell_type": "code",
      "source": [
        "# @title Prefect Cloud Authentication\n",
        "import os\n",
        "from prefect.deployments import run_deployment\n",
        "\n",
        "PREFECT_API_KEY = \"\" # @param {type:\"string\"}\n",
        "PREFECT_API_URL = \"https://api.prefect.cloud/api/accounts/.../workspaces/...\" # @param {type:\"string\"}\n",
        "\n",
        "os.environ[\"PREFECT_API_KEY\"] = PREFECT_API_KEY\n",
        "os.environ[\"PREFECT_API_URL\"] = PREFECT_API_URL\n",
        "\n",
        "!prefect deployment ls"
      ],
      "metadata": {
        "colab": {
          "base_uri": "https://localhost:8080/"
        },
        "id": "PbUNM2RDASdX",
        "outputId": "ef3f4042-555c-418b-f7c1-423b5139ec8f"
      },
      "execution_count": 6,
      "outputs": [
        {
          "output_type": "stream",
          "name": "stdout",
          "text": [
            "\u001b[3m                                  Deployments                                   \u001b[0m\n",
            "┏━━━━━━━━━━━━━━━━━━━━━━━━━━━━━━━┳━━━━━━━━━━━━━━━━━━━━━━━━━━━━━━┳━━━━━━━━━━━━━━━┓\n",
            "┃\u001b[1m \u001b[0m\u001b[1mName                         \u001b[0m\u001b[1m \u001b[0m┃\u001b[1m \u001b[0m\u001b[1mID                          \u001b[0m\u001b[1m \u001b[0m┃\u001b[1m \u001b[0m\u001b[1mWork Pool    \u001b[0m\u001b[1m \u001b[0m┃\n",
            "┡━━━━━━━━━━━━━━━━━━━━━━━━━━━━━━━╇━━━━━━━━━━━━━━━━━━━━━━━━━━━━━━╇━━━━━━━━━━━━━━━┩\n",
            "│\u001b[34m \u001b[0m\u001b[34mmix-color/\u001b[0m\u001b[1;34mmix-color\u001b[0m\u001b[34m          \u001b[0m\u001b[34m \u001b[0m│\u001b[36m \u001b[0m\u001b[36mdc972dfb-2cdc-411b-8096-ec1…\u001b[0m\u001b[36m \u001b[0m│\u001b[32m \u001b[0m\u001b[32m             \u001b[0m\u001b[32m \u001b[0m│\n",
            "│\u001b[34m \u001b[0m\u001b[34mmove-sensor-back/\u001b[0m\u001b[1;34mmove-sensor…\u001b[0m\u001b[34m \u001b[0m│\u001b[36m \u001b[0m\u001b[36m9835a1f2-6b19-4837-86fa-fcb…\u001b[0m\u001b[36m \u001b[0m│\u001b[32m \u001b[0m\u001b[32m             \u001b[0m\u001b[32m \u001b[0m│\n",
            "│\u001b[34m \u001b[0m\u001b[34mmove-sensor-to-measurement-p…\u001b[0m\u001b[34m \u001b[0m│\u001b[36m \u001b[0m\u001b[36mad982977-d6fb-412a-b14b-513…\u001b[0m\u001b[36m \u001b[0m│\u001b[32m \u001b[0m\u001b[32m             \u001b[0m\u001b[32m \u001b[0m│\n",
            "└───────────────────────────────┴──────────────────────────────┴───────────────┘\n"
          ]
        }
      ]
    },
    {
      "cell_type": "code",
      "execution_count": 4,
      "metadata": {
        "colab": {
          "base_uri": "https://localhost:8080/"
        },
        "id": "eadGP9r7zw2U",
        "outputId": "8be256d1-145a-4dd7-fd01-ad9b3ed3f9e1"
      },
      "outputs": [
        {
          "output_type": "stream",
          "name": "stdout",
          "text": [
            "Overwriting device.py\n"
          ]
        }
      ],
      "source": [
        "%%writefile device.py\n",
        "import json\n",
        "import opentrons.simulate\n",
        "from prefect import flow, serve\n",
        "import os\n",
        "\n",
        "# ------------------- OT-2 Setup -------------------\n",
        "protocol = opentrons.simulate.get_protocol_api(\"2.12\")\n",
        "protocol.home()\n",
        "\n",
        "# Load Labware\n",
        "with open(\"/content/ac-training-lab/src/ac_training_lab/ot-2/_scripts/ac_color_sensor_charging_port.json\", encoding=\"utf-8\") as f1:\n",
        "    labware_def1 = json.load(f1)\n",
        "    tiprack_2 = protocol.load_labware_from_definition(labware_def1, 10)\n",
        "\n",
        "with open(\"/content/ac-training-lab/src/ac_training_lab/ot-2/_scripts/ac_6_tuberack_15000ul.json\", encoding=\"utf-8\") as f2:\n",
        "    labware_def2 = json.load(f2)\n",
        "    reservoir = protocol.load_labware_from_definition(labware_def2, 3)\n",
        "\n",
        "plate = protocol.load_labware(\"corning_96_wellplate_360ul_flat\", location=1)\n",
        "tiprack_1 = protocol.load_labware(\"opentrons_96_tiprack_300ul\", location=9)\n",
        "\n",
        "p300 = protocol.load_instrument(\n",
        "    instrument_name=\"p300_single_gen2\", mount=\"right\", tip_racks=[tiprack_1]\n",
        ")\n",
        "p300.well_bottom_clearance.dispense = 8\n",
        "\n",
        "print(\"Labwares loaded\")\n",
        "\n",
        "# ------------------- Prefect Tasks -------------------\n",
        "@flow\n",
        "def mix_color(R, Y, B, mix_well):\n",
        "    total = R + Y + B\n",
        "    if total > 300:\n",
        "        raise ValueError(\"The sum of the proportions must be <= 300\")\n",
        "\n",
        "    position = [\"B1\", \"B2\", \"B3\"]\n",
        "    portion = {\"B1\": R, \"B2\": Y, \"B3\": B}\n",
        "    color_volume = {\"B1\": R, \"B2\": Y, \"B3\": B}\n",
        "\n",
        "    assert (\n",
        "        p300 is not None\n",
        "        and tiprack_1 is not None\n",
        "        and reservoir is not None\n",
        "        and plate is not None\n",
        "    )\n",
        "\n",
        "    for pos in position:\n",
        "        if float(portion[pos]) != 0.0:\n",
        "            p300.pick_up_tip(tiprack_1[pos])\n",
        "            p300.aspirate(color_volume[pos], reservoir[pos])\n",
        "            p300.dispense(color_volume[pos], plate[mix_well])\n",
        "            p300.default_speed = 100\n",
        "            p300.blow_out(reservoir[\"A1\"].top(z=-5))\n",
        "            p300.default_speed = 400\n",
        "            p300.drop_tip(tiprack_1[pos])\n",
        "\n",
        "    print(f\"Mixed R:{R}, Y:{Y}, B:{B} in well {mix_well}\")\n",
        "\n",
        "@flow\n",
        "def move_sensor_to_measurement_position(mix_well):\n",
        "    assert p300 is not None and tiprack_2 is not None and plate is not None\n",
        "    p300.pick_up_tip(tiprack_2[\"A2\"])\n",
        "    p300.move_to(plate[mix_well].top(z=-1.3))\n",
        "    print(\"Sensor is now in position for measurement\")\n",
        "\n",
        "@flow\n",
        "def move_sensor_back():\n",
        "    assert p300 is not None and tiprack_2 is not None\n",
        "    p300.drop_tip(tiprack_2[\"A2\"].top(z=-80))\n",
        "    print(\"Sensor moved back to charging position\")\n",
        "\n",
        "if __name__ == \"__main__\":\n",
        "\n",
        "    serve(\n",
        "        mix_color.to_deployment(\"mix-color\"),\n",
        "        move_sensor_to_measurement_position.to_deployment(\"move-sensor-to-measurement-position\"),\n",
        "        move_sensor_back.to_deployment(\"move-sensor-back\"),\n",
        "    )\n"
      ]
    },
    {
      "cell_type": "code",
      "source": [
        "!python device.py"
      ],
      "metadata": {
        "colab": {
          "base_uri": "https://localhost:8080/"
        },
        "id": "ILb2ML-dz0kk",
        "outputId": "81ce411d-0f34-4d5c-b5e8-e3c87b06c313"
      },
      "execution_count": 7,
      "outputs": [
        {
          "output_type": "stream",
          "name": "stdout",
          "text": [
            "06:57:01.170 | \u001b[93mWARNING\u001b[0m | opentrons.config.robot_configs - /root/.opentrons/robot_settings.json not found. Loading defaults\n",
            "06:57:01.172 | \u001b[93mWARNING\u001b[0m | opentrons.calibration_storage.ot2.deck_attitude - Deck calibration not found.\n",
            "06:57:01.172 | \u001b[93mWARNING\u001b[0m | opentrons.config.robot_configs - /root/.opentrons/deck_calibration.json not found. Loading defaults\n",
            "Labwares loaded\n",
            "\u001b[32mYour deployments are being served and polling for scheduled runs!\u001b[0m\n",
            "\n",
            "\u001b[3m                                Deployments                                \u001b[0m\n",
            "┌─────────────────────────────────────────────────────────────────────────┐\n",
            "│\u001b[34m \u001b[0m\u001b[34mmix-color/mix-color                                                    \u001b[0m\u001b[34m \u001b[0m│\n",
            "│\u001b[34m \u001b[0m\u001b[34mmove-sensor-to-measurement-position/move-sensor-to-measurement-position\u001b[0m\u001b[34m \u001b[0m│\n",
            "│\u001b[34m \u001b[0m\u001b[34mmove-sensor-back/move-sensor-back                                      \u001b[0m\u001b[34m \u001b[0m│\n",
            "└─────────────────────────────────────────────────────────────────────────┘\n",
            "\n",
            "To trigger any of these deployments, use the following command:\n",
            "\n",
            "\u001b[34m        \u001b[0m\u001b[34m$ prefect deployment run \u001b[0m\u001b[1;34m[\u001b[0m\u001b[34mDEPLOYMENT_NAME\u001b[0m\u001b[1;34m]\u001b[0m\n",
            "\n",
            "You can also trigger your deployments via the Prefect UI: \u001b[4;34mhttps://app.prefect.cloud/account/9446605b-0d2b-4ca5-9d04-e6cb1dc932c2/workspace/24a8a1e4-5cf8-40d7-9ad7-c3e242390c4e/deployments\u001b[0m\n",
            "\n",
            "06:57:15.331 | \u001b[36mINFO\u001b[0m    | prefect.flow_runs.runner - Runner 'runner-5eae1a39-4a53-4d4c-a34d-ab7687656e10' submitting flow run\u001b[35m '068944e4-4ef9-7957-8000-ae7b15381aef'\u001b[0m\n",
            "06:57:15.523 | \u001b[36mINFO\u001b[0m    | prefect.flow_runs.runner - Opening process...\n",
            "06:57:15.542 | \u001b[36mINFO\u001b[0m    | prefect.flow_runs.runner - \u001b[32mCompleted\u001b[0m submission of flow run\u001b[35m '068944e4-4ef9-7957-8000-ae7b15381aef'\u001b[0m\n",
            "06:57:17.434 | INFO    | Flow run 'axiomatic-hamster' - Downloading flow code from storage at '.'\n",
            "06:57:18.951 | WARNING | opentrons.config.robot_configs - /root/.opentrons/robot_settings.json not found. Loading defaults\n",
            "06:57:18.951 | WARNING | opentrons.calibration_storage.ot2.deck_attitude - Deck calibration not found.\n",
            "06:57:18.952 | WARNING | opentrons.config.robot_configs - /root/.opentrons/deck_calibration.json not found. Loading defaults\n",
            "06:57:19.732 | INFO    | Flow run 'axiomatic-hamster' - Beginning flow run 'axiomatic-hamster' for flow 'mix-color'\n",
            "06:57:19.734 | INFO    | Flow run 'axiomatic-hamster' - View at https://app.prefect.cloud/account/9446605b-0d2b-4ca5-9d04-e6cb1dc932c2/workspace/24a8a1e4-5cf8-40d7-9ad7-c3e242390c4e/runs/flow-run/068944e4-4ef9-7957-8000-ae7b15381aef\n",
            "06:57:19.948 | INFO    | Flow run 'axiomatic-hamster' - Finished in state Completed()\n",
            "Labwares loaded\n",
            "Mixed R:120, Y:50, B:80 in well B2\n",
            "06:57:20.797 | \u001b[36mINFO\u001b[0m    | prefect.flow_runs.runner - Process for flow run\u001b[35m 'axiomatic-hamster'\u001b[0m exited cleanly.\n",
            "06:57:26.135 | \u001b[36mINFO\u001b[0m    | prefect.flow_runs.runner - Runner 'runner-5eae1a39-4a53-4d4c-a34d-ab7687656e10' submitting flow run\u001b[35m '068944e5-4e27-7e3a-8000-3016f798e397'\u001b[0m\n",
            "06:57:26.305 | \u001b[36mINFO\u001b[0m    | prefect.flow_runs.runner - Opening process...\n",
            "06:57:26.326 | \u001b[36mINFO\u001b[0m    | prefect.flow_runs.runner - \u001b[32mCompleted\u001b[0m submission of flow run\u001b[35m '068944e5-4e27-7e3a-8000-3016f798e397'\u001b[0m\n",
            "06:57:28.246 | INFO    | Flow run 'true-grebe' - Downloading flow code from storage at '.'\n",
            "06:57:29.847 | WARNING | opentrons.config.robot_configs - /root/.opentrons/robot_settings.json not found. Loading defaults\n",
            "06:57:29.848 | WARNING | opentrons.calibration_storage.ot2.deck_attitude - Deck calibration not found.\n",
            "06:57:29.848 | WARNING | opentrons.config.robot_configs - /root/.opentrons/deck_calibration.json not found. Loading defaults\n",
            "06:57:30.355 | INFO    | Flow run 'true-grebe' - Beginning flow run 'true-grebe' for flow 'move-sensor-to-measurement-position'\n",
            "06:57:30.356 | INFO    | Flow run 'true-grebe' - View at https://app.prefect.cloud/account/9446605b-0d2b-4ca5-9d04-e6cb1dc932c2/workspace/24a8a1e4-5cf8-40d7-9ad7-c3e242390c4e/runs/flow-run/068944e5-4e27-7e3a-8000-3016f798e397\n",
            "06:57:30.575 | INFO    | Flow run 'true-grebe' - Finished in state Completed()\n",
            "Labwares loaded\n",
            "Sensor is now in position for measurement\n",
            "06:57:31.365 | \u001b[36mINFO\u001b[0m    | prefect.flow_runs.runner - Process for flow run\u001b[35m 'true-grebe'\u001b[0m exited cleanly.\n",
            "06:57:45.489 | \u001b[36mINFO\u001b[0m    | prefect.flow_runs.runner - Runner 'runner-5eae1a39-4a53-4d4c-a34d-ab7687656e10' submitting flow run\u001b[35m '068944e5-fc22-7122-8000-28924a14d317'\u001b[0m\n",
            "06:57:45.666 | \u001b[36mINFO\u001b[0m    | prefect.flow_runs.runner - Opening process...\n",
            "06:57:45.686 | \u001b[36mINFO\u001b[0m    | prefect.flow_runs.runner - \u001b[32mCompleted\u001b[0m submission of flow run\u001b[35m '068944e5-fc22-7122-8000-28924a14d317'\u001b[0m\n",
            "06:57:47.540 | INFO    | Flow run 'versed-mongoose' - Downloading flow code from storage at '.'\n",
            "06:57:49.066 | WARNING | opentrons.config.robot_configs - /root/.opentrons/robot_settings.json not found. Loading defaults\n",
            "06:57:49.067 | WARNING | opentrons.calibration_storage.ot2.deck_attitude - Deck calibration not found.\n",
            "06:57:49.067 | WARNING | opentrons.config.robot_configs - /root/.opentrons/deck_calibration.json not found. Loading defaults\n",
            "06:57:49.595 | INFO    | Flow run 'versed-mongoose' - Beginning flow run 'versed-mongoose' for flow 'move-sensor-back'\n",
            "06:57:49.596 | INFO    | Flow run 'versed-mongoose' - View at https://app.prefect.cloud/account/9446605b-0d2b-4ca5-9d04-e6cb1dc932c2/workspace/24a8a1e4-5cf8-40d7-9ad7-c3e242390c4e/runs/flow-run/068944e5-fc22-7122-8000-28924a14d317\n",
            "06:57:49.599 | WARNING | opentrons.hardware_control.util - Out of bounds move: Z_R=(-9.45 motor controller, -9.45 deck) too low for limit 0\n",
            "06:57:49.600 | WARNING | opentrons.hardware_control.util - Out of bounds move: Z_R=(-9.45 motor controller, -9.45 deck) too low for limit 0\n",
            "06:57:49.600 | WARNING | opentrons.hardware_control.util - Out of bounds move: Z_R=(-9.45 motor controller, -9.45 deck) too low for limit 0\n",
            "06:57:49.601 | WARNING | opentrons.hardware_control.util - Out of bounds move: Z_R=(-9.45 motor controller, -9.45 deck) too low for limit 0\n",
            "06:57:49.602 | WARNING | opentrons.hardware_control.instruments.ot2.pipette_handler.InstrumentHandler.139842581580368 - detach tip called with no tip\n",
            "06:57:49.804 | INFO    | Flow run 'versed-mongoose' - Finished in state Completed()\n",
            "Labwares loaded\n",
            "Sensor moved back to charging position\n",
            "06:57:50.517 | \u001b[36mINFO\u001b[0m    | prefect.flow_runs.runner - Process for flow run\u001b[35m 'versed-mongoose'\u001b[0m exited cleanly.\n",
            "07:00:40.348 | \u001b[36mINFO\u001b[0m    | prefect.runner - Pausing all deployments...\n",
            "07:00:41.664 | \u001b[36mINFO\u001b[0m    | prefect.runner - All deployments have been paused!\n",
            "07:00:43.822 | \u001b[36mINFO\u001b[0m    | prefect.flows - Received KeyboardInterrupt, shutting down...\n"
          ]
        }
      ]
    }
  ]
}
