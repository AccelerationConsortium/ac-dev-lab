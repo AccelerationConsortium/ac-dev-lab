{
  "cells": [
    {
      "cell_type": "code",
      "execution_count": null,
      "metadata": {
        "id": "56p7nH_zuXu5"
      },
      "outputs": [],
      "source": [
        "from prefect.deployments import run_deployment\n",
        "\n",
        "await run_deployment(\n",
        "    name=\"mix-color/mix-color\",\n",
        "    parameters={\"R\": 120, \"Y\": 50, \"B\": 80, \"mix_well\": \"B2\"},\n",
        ")\n",
        "\n",
        "await run_deployment(\n",
        "    name=\"move-sensor-to-measurement-position/move-sensor-to-measurement-position\",\n",
        "    parameters={\"mix_well\": \"B2\"},\n",
        ")\n",
        "\n",
        "await run_deployment(name=\"move-sensor-back/move-sensor-back\")"
      ]
    }
  ],
  "metadata": {
    "colab": {
      "provenance": []
    },
    "kernelspec": {
      "display_name": "Python 3",
      "name": "python3"
    },
    "language_info": {
      "name": "python"
    }
  },
  "nbformat": 4,
  "nbformat_minor": 0
}
