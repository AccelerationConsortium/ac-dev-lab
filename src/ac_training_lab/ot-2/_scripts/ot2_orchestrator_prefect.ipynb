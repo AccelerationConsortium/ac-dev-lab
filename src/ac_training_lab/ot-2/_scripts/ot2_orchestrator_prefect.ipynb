{
  "nbformat": 4,
  "nbformat_minor": 0,
  "metadata": {
    "colab": {
      "provenance": []
    },
    "kernelspec": {
      "name": "python3",
      "display_name": "Python 3"
    },
    "language_info": {
      "name": "python"
    }
  },
  "cells": [
    {
      "cell_type": "code",
      "source": [
        "%pip install prefect"
      ],
      "metadata": {
        "colab": {
          "base_uri": "https://localhost:8080/"
        },
        "id": "VFkn0veivEB2",
        "outputId": "d58eb78d-6ab4-45b7-f17c-071bdab163e7"
      },
      "execution_count": 7,
      "outputs": [
        {
          "output_type": "stream",
          "name": "stdout",
          "text": [
            "Requirement already satisfied: prefect in /usr/local/lib/python3.11/dist-packages (3.4.11)\n",
            "Requirement already satisfied: aiosqlite<1.0.0,>=0.17.0 in /usr/local/lib/python3.11/dist-packages (from prefect) (0.21.0)\n",
            "Requirement already satisfied: alembic<2.0.0,>=1.7.5 in /usr/local/lib/python3.11/dist-packages (from prefect) (1.16.4)\n",
            "Requirement already satisfied: anyio<5.0.0,>=4.4.0 in /usr/local/lib/python3.11/dist-packages (from prefect) (4.9.0)\n",
            "Requirement already satisfied: apprise<2.0.0,>=1.1.0 in /usr/local/lib/python3.11/dist-packages (from prefect) (1.9.4)\n",
            "Requirement already satisfied: asgi-lifespan<3.0,>=1.0 in /usr/local/lib/python3.11/dist-packages (from prefect) (2.1.0)\n",
            "Requirement already satisfied: asyncpg<1.0.0,>=0.23 in /usr/local/lib/python3.11/dist-packages (from prefect) (0.30.0)\n",
            "Requirement already satisfied: cachetools<7.0,>=5.3 in /usr/local/lib/python3.11/dist-packages (from prefect) (5.5.2)\n",
            "Requirement already satisfied: click<8.2,>=8.0 in /usr/local/lib/python3.11/dist-packages (from prefect) (8.1.8)\n",
            "Requirement already satisfied: cloudpickle<4.0,>=2.0 in /usr/local/lib/python3.11/dist-packages (from prefect) (3.1.1)\n",
            "Requirement already satisfied: coolname<3.0.0,>=1.0.4 in /usr/local/lib/python3.11/dist-packages (from prefect) (2.2.0)\n",
            "Requirement already satisfied: cryptography>=36.0.1 in /usr/local/lib/python3.11/dist-packages (from prefect) (43.0.3)\n",
            "Requirement already satisfied: dateparser<2.0.0,>=1.1.1 in /usr/local/lib/python3.11/dist-packages (from prefect) (1.2.2)\n",
            "Requirement already satisfied: docker<8.0,>=4.0 in /usr/local/lib/python3.11/dist-packages (from prefect) (7.1.0)\n",
            "Requirement already satisfied: exceptiongroup>=1.0.0 in /usr/local/lib/python3.11/dist-packages (from prefect) (1.3.0)\n",
            "Requirement already satisfied: fastapi<1.0.0,>=0.111.0 in /usr/local/lib/python3.11/dist-packages (from prefect) (0.116.1)\n",
            "Requirement already satisfied: fsspec>=2022.5.0 in /usr/local/lib/python3.11/dist-packages (from prefect) (2025.3.0)\n",
            "Requirement already satisfied: graphviz>=0.20.1 in /usr/local/lib/python3.11/dist-packages (from prefect) (0.21)\n",
            "Requirement already satisfied: griffe<2.0.0,>=0.49.0 in /usr/local/lib/python3.11/dist-packages (from prefect) (1.10.0)\n",
            "Requirement already satisfied: httpcore<2.0.0,>=1.0.5 in /usr/local/lib/python3.11/dist-packages (from prefect) (1.0.9)\n",
            "Requirement already satisfied: httpx!=0.23.2,>=0.23 in /usr/local/lib/python3.11/dist-packages (from httpx[http2]!=0.23.2,>=0.23->prefect) (0.28.1)\n",
            "Requirement already satisfied: humanize<5.0.0,>=4.9.0 in /usr/local/lib/python3.11/dist-packages (from prefect) (4.12.3)\n",
            "Requirement already satisfied: jinja2-humanize-extension>=0.4.0 in /usr/local/lib/python3.11/dist-packages (from prefect) (0.4.0)\n",
            "Requirement already satisfied: jinja2<4.0.0,>=3.1.6 in /usr/local/lib/python3.11/dist-packages (from prefect) (3.1.6)\n",
            "Requirement already satisfied: jsonpatch<2.0,>=1.32 in /usr/local/lib/python3.11/dist-packages (from prefect) (1.33)\n",
            "Requirement already satisfied: jsonschema<5.0.0,>=4.18.0 in /usr/local/lib/python3.11/dist-packages (from prefect) (4.25.0)\n",
            "Requirement already satisfied: opentelemetry-api<2.0.0,>=1.27.0 in /usr/local/lib/python3.11/dist-packages (from prefect) (1.36.0)\n",
            "Requirement already satisfied: orjson<4.0,>=3.7 in /usr/local/lib/python3.11/dist-packages (from prefect) (3.11.1)\n",
            "Requirement already satisfied: packaging<25.1,>=21.3 in /usr/local/lib/python3.11/dist-packages (from prefect) (25.0)\n",
            "Requirement already satisfied: pathspec>=0.8.0 in /usr/local/lib/python3.11/dist-packages (from prefect) (0.12.1)\n",
            "Requirement already satisfied: pendulum<4,>=3.0.0 in /usr/local/lib/python3.11/dist-packages (from prefect) (3.1.0)\n",
            "Requirement already satisfied: prometheus-client>=0.20.0 in /usr/local/lib/python3.11/dist-packages (from prefect) (0.22.1)\n",
            "Requirement already satisfied: pydantic!=2.11.0,!=2.11.1,!=2.11.2,!=2.11.3,!=2.11.4,<3.0.0,>=2.10.1 in /usr/local/lib/python3.11/dist-packages (from prefect) (2.11.7)\n",
            "Requirement already satisfied: pydantic-core<3.0.0,>=2.12.0 in /usr/local/lib/python3.11/dist-packages (from prefect) (2.33.2)\n",
            "Requirement already satisfied: pydantic-extra-types<3.0.0,>=2.8.2 in /usr/local/lib/python3.11/dist-packages (from prefect) (2.10.5)\n",
            "Requirement already satisfied: pydantic-settings!=2.9.0,<3.0.0,>2.2.1 in /usr/local/lib/python3.11/dist-packages (from prefect) (2.10.1)\n",
            "Requirement already satisfied: python-dateutil<3.0.0,>=2.8.2 in /usr/local/lib/python3.11/dist-packages (from prefect) (2.9.0.post0)\n",
            "Requirement already satisfied: python-slugify<9.0,>=5.0 in /usr/local/lib/python3.11/dist-packages (from prefect) (8.0.4)\n",
            "Requirement already satisfied: python-socks<3.0,>=2.5.3 in /usr/local/lib/python3.11/dist-packages (from python-socks[asyncio]<3.0,>=2.5.3->prefect) (2.7.2)\n",
            "Requirement already satisfied: pytz<2026,>=2021.1 in /usr/local/lib/python3.11/dist-packages (from prefect) (2025.2)\n",
            "Requirement already satisfied: pyyaml<7.0.0,>=5.4.1 in /usr/local/lib/python3.11/dist-packages (from prefect) (6.0.2)\n",
            "Requirement already satisfied: readchar<5.0.0,>=4.0.0 in /usr/local/lib/python3.11/dist-packages (from prefect) (4.2.1)\n",
            "Requirement already satisfied: rfc3339-validator<0.2.0,>=0.1.4 in /usr/local/lib/python3.11/dist-packages (from prefect) (0.1.4)\n",
            "Requirement already satisfied: rich<15.0,>=11.0 in /usr/local/lib/python3.11/dist-packages (from prefect) (13.9.4)\n",
            "Requirement already satisfied: ruamel-yaml>=0.17.0 in /usr/local/lib/python3.11/dist-packages (from prefect) (0.18.14)\n",
            "Requirement already satisfied: semver>=3.0.4 in /usr/local/lib/python3.11/dist-packages (from prefect) (3.0.4)\n",
            "Requirement already satisfied: sniffio<2.0.0,>=1.3.0 in /usr/local/lib/python3.11/dist-packages (from prefect) (1.3.1)\n",
            "Requirement already satisfied: sqlalchemy<3.0.0,>=2.0 in /usr/local/lib/python3.11/dist-packages (from sqlalchemy[asyncio]<3.0.0,>=2.0->prefect) (2.0.42)\n",
            "Requirement already satisfied: toml>=0.10.0 in /usr/local/lib/python3.11/dist-packages (from prefect) (0.10.2)\n",
            "Requirement already satisfied: typer!=0.12.2,<0.17.0,>=0.12.0 in /usr/local/lib/python3.11/dist-packages (from prefect) (0.16.0)\n",
            "Requirement already satisfied: typing-extensions<5.0.0,>=4.10.0 in /usr/local/lib/python3.11/dist-packages (from prefect) (4.14.1)\n",
            "Requirement already satisfied: uv>=0.6.0 in /usr/local/lib/python3.11/dist-packages (from prefect) (0.8.5)\n",
            "Requirement already satisfied: uvicorn!=0.29.0,>=0.14.0 in /usr/local/lib/python3.11/dist-packages (from prefect) (0.35.0)\n",
            "Requirement already satisfied: websockets<16.0,>=13.0 in /usr/local/lib/python3.11/dist-packages (from prefect) (15.0.1)\n",
            "Requirement already satisfied: Mako in /usr/lib/python3/dist-packages (from alembic<2.0.0,>=1.7.5->prefect) (1.1.3)\n",
            "Requirement already satisfied: idna>=2.8 in /usr/local/lib/python3.11/dist-packages (from anyio<5.0.0,>=4.4.0->prefect) (3.10)\n",
            "Requirement already satisfied: requests in /usr/local/lib/python3.11/dist-packages (from apprise<2.0.0,>=1.1.0->prefect) (2.32.3)\n",
            "Requirement already satisfied: requests-oauthlib in /usr/local/lib/python3.11/dist-packages (from apprise<2.0.0,>=1.1.0->prefect) (2.0.0)\n",
            "Requirement already satisfied: markdown in /usr/local/lib/python3.11/dist-packages (from apprise<2.0.0,>=1.1.0->prefect) (3.8.2)\n",
            "Requirement already satisfied: certifi in /usr/local/lib/python3.11/dist-packages (from apprise<2.0.0,>=1.1.0->prefect) (2025.7.14)\n",
            "Requirement already satisfied: cffi>=1.12 in /usr/local/lib/python3.11/dist-packages (from cryptography>=36.0.1->prefect) (1.17.1)\n",
            "Requirement already satisfied: regex>=2024.9.11 in /usr/local/lib/python3.11/dist-packages (from dateparser<2.0.0,>=1.1.1->prefect) (2024.11.6)\n",
            "Requirement already satisfied: tzlocal>=0.2 in /usr/local/lib/python3.11/dist-packages (from dateparser<2.0.0,>=1.1.1->prefect) (5.3.1)\n",
            "Requirement already satisfied: urllib3>=1.26.0 in /usr/local/lib/python3.11/dist-packages (from docker<8.0,>=4.0->prefect) (2.5.0)\n",
            "Requirement already satisfied: starlette<0.48.0,>=0.40.0 in /usr/local/lib/python3.11/dist-packages (from fastapi<1.0.0,>=0.111.0->prefect) (0.47.2)\n",
            "Requirement already satisfied: colorama>=0.4 in /usr/local/lib/python3.11/dist-packages (from griffe<2.0.0,>=0.49.0->prefect) (0.4.6)\n",
            "Requirement already satisfied: h11>=0.16 in /usr/local/lib/python3.11/dist-packages (from httpcore<2.0.0,>=1.0.5->prefect) (0.16.0)\n",
            "Requirement already satisfied: h2<5,>=3 in /usr/local/lib/python3.11/dist-packages (from httpx[http2]!=0.23.2,>=0.23->prefect) (4.2.0)\n",
            "Requirement already satisfied: MarkupSafe>=2.0 in /usr/local/lib/python3.11/dist-packages (from jinja2<4.0.0,>=3.1.6->prefect) (3.0.2)\n",
            "Requirement already satisfied: jsonpointer>=1.9 in /usr/local/lib/python3.11/dist-packages (from jsonpatch<2.0,>=1.32->prefect) (3.0.0)\n",
            "Requirement already satisfied: attrs>=22.2.0 in /usr/local/lib/python3.11/dist-packages (from jsonschema<5.0.0,>=4.18.0->prefect) (25.3.0)\n",
            "Requirement already satisfied: jsonschema-specifications>=2023.03.6 in /usr/local/lib/python3.11/dist-packages (from jsonschema<5.0.0,>=4.18.0->prefect) (2025.4.1)\n",
            "Requirement already satisfied: referencing>=0.28.4 in /usr/local/lib/python3.11/dist-packages (from jsonschema<5.0.0,>=4.18.0->prefect) (0.36.2)\n",
            "Requirement already satisfied: rpds-py>=0.7.1 in /usr/local/lib/python3.11/dist-packages (from jsonschema<5.0.0,>=4.18.0->prefect) (0.26.0)\n",
            "Requirement already satisfied: importlib-metadata<8.8.0,>=6.0 in /usr/local/lib/python3.11/dist-packages (from opentelemetry-api<2.0.0,>=1.27.0->prefect) (8.7.0)\n",
            "Requirement already satisfied: tzdata>=2020.1 in /usr/local/lib/python3.11/dist-packages (from pendulum<4,>=3.0.0->prefect) (2025.2)\n",
            "Requirement already satisfied: annotated-types>=0.6.0 in /usr/local/lib/python3.11/dist-packages (from pydantic!=2.11.0,!=2.11.1,!=2.11.2,!=2.11.3,!=2.11.4,<3.0.0,>=2.10.1->prefect) (0.7.0)\n",
            "Requirement already satisfied: typing-inspection>=0.4.0 in /usr/local/lib/python3.11/dist-packages (from pydantic!=2.11.0,!=2.11.1,!=2.11.2,!=2.11.3,!=2.11.4,<3.0.0,>=2.10.1->prefect) (0.4.1)\n",
            "Requirement already satisfied: python-dotenv>=0.21.0 in /usr/local/lib/python3.11/dist-packages (from pydantic-settings!=2.9.0,<3.0.0,>2.2.1->prefect) (1.1.1)\n",
            "Requirement already satisfied: six>=1.5 in /usr/local/lib/python3.11/dist-packages (from python-dateutil<3.0.0,>=2.8.2->prefect) (1.17.0)\n",
            "Requirement already satisfied: text-unidecode>=1.3 in /usr/local/lib/python3.11/dist-packages (from python-slugify<9.0,>=5.0->prefect) (1.3)\n",
            "Requirement already satisfied: markdown-it-py>=2.2.0 in /usr/local/lib/python3.11/dist-packages (from rich<15.0,>=11.0->prefect) (3.0.0)\n",
            "Requirement already satisfied: pygments<3.0.0,>=2.13.0 in /usr/local/lib/python3.11/dist-packages (from rich<15.0,>=11.0->prefect) (2.19.2)\n",
            "Requirement already satisfied: ruamel.yaml.clib>=0.2.7 in /usr/local/lib/python3.11/dist-packages (from ruamel-yaml>=0.17.0->prefect) (0.2.12)\n",
            "Requirement already satisfied: greenlet>=1 in /usr/local/lib/python3.11/dist-packages (from sqlalchemy<3.0.0,>=2.0->sqlalchemy[asyncio]<3.0.0,>=2.0->prefect) (3.2.3)\n",
            "Requirement already satisfied: shellingham>=1.3.0 in /usr/local/lib/python3.11/dist-packages (from typer!=0.12.2,<0.17.0,>=0.12.0->prefect) (1.5.4)\n",
            "Requirement already satisfied: pycparser in /usr/local/lib/python3.11/dist-packages (from cffi>=1.12->cryptography>=36.0.1->prefect) (2.22)\n",
            "Requirement already satisfied: hyperframe<7,>=6.1 in /usr/local/lib/python3.11/dist-packages (from h2<5,>=3->httpx[http2]!=0.23.2,>=0.23->prefect) (6.1.0)\n",
            "Requirement already satisfied: hpack<5,>=4.1 in /usr/local/lib/python3.11/dist-packages (from h2<5,>=3->httpx[http2]!=0.23.2,>=0.23->prefect) (4.1.0)\n",
            "Requirement already satisfied: zipp>=3.20 in /usr/local/lib/python3.11/dist-packages (from importlib-metadata<8.8.0,>=6.0->opentelemetry-api<2.0.0,>=1.27.0->prefect) (3.23.0)\n",
            "Requirement already satisfied: mdurl~=0.1 in /usr/local/lib/python3.11/dist-packages (from markdown-it-py>=2.2.0->rich<15.0,>=11.0->prefect) (0.1.2)\n",
            "Requirement already satisfied: charset-normalizer<4,>=2 in /usr/local/lib/python3.11/dist-packages (from requests->apprise<2.0.0,>=1.1.0->prefect) (3.4.2)\n",
            "Requirement already satisfied: oauthlib>=3.0.0 in /usr/local/lib/python3.11/dist-packages (from requests-oauthlib->apprise<2.0.0,>=1.1.0->prefect) (3.3.1)\n"
          ]
        }
      ]
    },
    {
      "cell_type": "markdown",
      "source": [
        "## Prefect Cloud Login Required\n",
        "\n",
        "Before running the cells below, please log in to Prefect Cloud.\n",
        "\n",
        "The following parameters should be the same as those used in the **prefect_serve_standalone notebook**.\n",
        "### How to get your API Key:\n",
        "1. Go to [Prefect Cloud](https://app.prefect.cloud)\n",
        "2. Click the workspace name in the top-left (e.g., `default`)\n",
        "3. Select **API Keys** from the menu\n",
        "4. Click the + icon to create a new key\n",
        "5. Copy the key and paste it into the input box below\n",
        "\n",
        "### How to get your API URL:\n",
        "1. Open your workspace\n",
        "2. Copy the URL from your browser — it looks like:\n",
        "https://app.prefect.cloud/account/.../workspace/...\n",
        "3. Then convert it to the following format (keep the content after the colons unchanged): https://api.prefect.cloud/api/accounts/.../workspaces/...\n",
        "\n",
        "(e.g. https://api.prefect.cloud/api/accounts/12345678-abcd-1234-abcd-1234567890ab/workspaces/abcdef12-3456-7890-abcd-abcdef123456)"
      ],
      "metadata": {
        "id": "UL5cHxA4tJwb"
      }
    },
    {
      "cell_type": "code",
      "source": [
        "# @title Prefect Cloud Authentication\n",
        "import os\n",
        "from prefect.deployments import run_deployment\n",
        "\n",
        "PREFECT_API_KEY = \"\" # @param {type:\"string\"}\n",
        "PREFECT_API_URL = \"https://api.prefect.cloud/api/accounts/.../workspaces/..\" # @param {type:\"string\"}\n",
        "\n",
        "os.environ[\"PREFECT_API_KEY\"] = PREFECT_API_KEY\n",
        "os.environ[\"PREFECT_API_URL\"] = PREFECT_API_URL\n",
        "\n",
        "!prefect deployment ls"
      ],
      "metadata": {
        "colab": {
          "base_uri": "https://localhost:8080/"
        },
        "id": "9P6qwDE_Xzz_",
        "outputId": "372b32dd-9375-4da6-bfc7-12e40d708c0e"
      },
      "execution_count": 30,
      "outputs": [
        {
          "output_type": "stream",
          "name": "stdout",
          "text": [
            "\u001b[3m                                  Deployments                                   \u001b[0m\n",
            "┏━━━━━━━━━━━━━━━━━━━━━━━━━━━━━━━┳━━━━━━━━━━━━━━━━━━━━━━━━━━━━━━┳━━━━━━━━━━━━━━━┓\n",
            "┃\u001b[1m \u001b[0m\u001b[1mName                         \u001b[0m\u001b[1m \u001b[0m┃\u001b[1m \u001b[0m\u001b[1mID                          \u001b[0m\u001b[1m \u001b[0m┃\u001b[1m \u001b[0m\u001b[1mWork Pool    \u001b[0m\u001b[1m \u001b[0m┃\n",
            "┡━━━━━━━━━━━━━━━━━━━━━━━━━━━━━━━╇━━━━━━━━━━━━━━━━━━━━━━━━━━━━━━╇━━━━━━━━━━━━━━━┩\n",
            "│\u001b[34m \u001b[0m\u001b[34mmix-color/\u001b[0m\u001b[1;34mmix-color\u001b[0m\u001b[34m          \u001b[0m\u001b[34m \u001b[0m│\u001b[36m \u001b[0m\u001b[36mdc972dfb-2cdc-411b-8096-ec1…\u001b[0m\u001b[36m \u001b[0m│\u001b[32m \u001b[0m\u001b[32m             \u001b[0m\u001b[32m \u001b[0m│\n",
            "│\u001b[34m \u001b[0m\u001b[34mmove-sensor-back/\u001b[0m\u001b[1;34mmove-sensor…\u001b[0m\u001b[34m \u001b[0m│\u001b[36m \u001b[0m\u001b[36m9835a1f2-6b19-4837-86fa-fcb…\u001b[0m\u001b[36m \u001b[0m│\u001b[32m \u001b[0m\u001b[32m             \u001b[0m\u001b[32m \u001b[0m│\n",
            "│\u001b[34m \u001b[0m\u001b[34mmove-sensor-to-measurement-p…\u001b[0m\u001b[34m \u001b[0m│\u001b[36m \u001b[0m\u001b[36mad982977-d6fb-412a-b14b-513…\u001b[0m\u001b[36m \u001b[0m│\u001b[32m \u001b[0m\u001b[32m             \u001b[0m\u001b[32m \u001b[0m│\n",
            "└───────────────────────────────┴──────────────────────────────┴───────────────┘\n"
          ]
        }
      ]
    },
    {
      "cell_type": "markdown",
      "source": [
        "Checkout the prefect_serve_standalone notebook for output"
      ],
      "metadata": {
        "id": "hZy11PzrtyBN"
      }
    },
    {
      "cell_type": "code",
      "execution_count": 31,
      "metadata": {
        "id": "56p7nH_zuXu5"
      },
      "outputs": [],
      "source": [
        "from prefect.settings import temporary_settings, PREFECT_API_KEY, PREFECT_API_URL\n",
        "from prefect.deployments import run_deployment\n",
        "\n",
        "with temporary_settings(\n",
        "    {\n",
        "        PREFECT_API_KEY: os.environ[\"PREFECT_API_KEY\"],\n",
        "        PREFECT_API_URL: os.environ[\"PREFECT_API_URL\"]\n",
        "    }\n",
        "):\n",
        "\n",
        "  await run_deployment(\n",
        "      name=\"mix-color/mix-color\",\n",
        "      parameters={\"R\": 120, \"Y\": 50, \"B\": 80, \"mix_well\": \"B2\"},\n",
        "  )\n",
        "\n",
        "  await run_deployment(\n",
        "      name=\"move-sensor-to-measurement-position/move-sensor-to-measurement-position\",\n",
        "      parameters={\"mix_well\": \"B2\"},\n",
        "  )\n",
        "\n",
        "  await run_deployment(name=\"move-sensor-back/move-sensor-back\")"
      ]
    }
  ]
}
