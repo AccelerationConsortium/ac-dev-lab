{
  "cells": [
    {
      "cell_type": "code",
      "execution_count": null,
      "metadata": {
        "colab": {
          "base_uri": "https://localhost:8080/"
        },
        "id": "Sa2pE-Z-A7IC",
        "outputId": "7f33b3c7-523e-49a3-ddfe-99722b6b9597"
      },
      "outputs": [],
      "source": [
        "%pip install opentrons prefect"
      ]
    },
    {
      "cell_type": "code",
      "execution_count": null,
      "metadata": {
        "id": "7W1aPZLZFeGH"
      },
      "outputs": [],
      "source": [
        "# source: https://support.opentrons.com/s/article/Running-the-robot-using-Jupyter-Notebook\n",
        "\n",
        "# import opentrons.execute\n",
        "import opentrons.simulate  # if you want to simulate the protocol first\n",
        "\n",
        "# This is where you establish the API version for executing a protocol\n",
        "# protocol = opentrons.execute.get_protocol_api('2.11')\n",
        "# to simulate the protocol, replace opentrons.execute with opentrons.simulate\n",
        "# like so\n",
        "protocol = opentrons.simulate.get_protocol_api(\"2.16\")\n",
        "\n",
        "# Must home before running\n",
        "protocol.home()\n",
        "\n",
        "# Labware\n",
        "plate = protocol.load_labware(\"nest_96_wellplate_200ul_flat\", \"2\")\n",
        "\n",
        "tiprack_1 = protocol.load_labware(\"opentrons_96_tiprack_1000ul\", location=\"1\")\n",
        "\n",
        "# Pipette\n",
        "p1000 = protocol.load_instrument(\"p1000_single_gen2\", \"right\", tip_racks=[tiprack_1])\n",
        "\n",
        "# Protocol steps\n",
        "p1000.transfer(100, plate[\"A1\"], plate[\"A2\"])\n",
        "\n",
        "# Output steps in protocol\n",
        "for line in protocol.commands():\n",
        "    print(line)"
      ]
    },
    {
      "cell_type": "code",
      "execution_count": null,
      "metadata": {
        "id": "9Si4-fIBKYlw"
      },
      "outputs": [],
      "source": [
        "from prefect import flow\n",
        "from prefect.deployments import run_deployment\n",
        "import time\n",
        "\n",
        "\n",
        "# Parent prefect flow that spawns sub flows.\n",
        "@flow\n",
        "async def parent_flow() -> None:\n",
        "    for i in range(10):\n",
        "        run_deployment(name=\"<Flow_name>/<deployment_name>\")"
      ]
    },
    {
      "cell_type": "code",
      "execution_count": null,
      "metadata": {
        "id": "VJM7acCNGUsT"
      },
      "outputs": [],
      "source": [
        "R = 10\n",
        "Y = 50\n",
        "B = 40\n",
        "mix_well = \"A1\"\n",
        "\n",
        "# move_sensor_to_measurement_position()\n",
        "# collect_sensor_data()\n",
        "# move_sensor_back()\n",
        "# mix_color(R, Y, B)\n",
        "# move_sensor_to_measurement_position()\n",
        "# collect_sensor_data()\n",
        "# move_sensor_back()\n",
        "\n",
        "\n",
        "run_deployment(\n",
        "    name=\"mix_color/mix-color\",\n",
        "    parameters={\"R\": R, \"Y\": Y, \"B\": B, \"mix_well\": mix_well},\n",
        ")\n",
        "run_deployment(name=\"collect_sensor_data/collect-sensor-data\")\n",
        "..."
      ]
    },
    {
      "cell_type": "code",
      "execution_count": null,
      "metadata": {
        "id": "PI-IicoqMD6T"
      },
      "outputs": [],
      "source": [
        "!prefect deployment inspect 'mix_color/mix-color' # to look at OpenAPI schema"
      ]
    }
  ],
  "metadata": {
    "colab": {
      "provenance": []
    },
    "kernelspec": {
      "display_name": "Python 3",
      "name": "python3"
    },
    "language_info": {
      "name": "python"
    }
  },
  "nbformat": 4,
  "nbformat_minor": 0
}
