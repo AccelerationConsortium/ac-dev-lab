{
  "cells": [
    {
      "cell_type": "code",
      "execution_count": 5,
      "metadata": {
        "colab": {
          "base_uri": "https://localhost:8080/"
        },
        "id": "c7QzsSrUkAlw",
        "outputId": "8f9a9ffb-7c2f-425a-e66d-faec6f309d23"
      },
      "outputs": [
        {
          "name": "stdout",
          "output_type": "stream",
          "text": [
            "Requirement already satisfied: paho-mqtt in /usr/local/lib/python3.11/dist-packages (2.1.0)\n"
          ]
        }
      ],
      "source": [
        "%pip install paho-mqtt"
      ]
    },
    {
      "cell_type": "markdown",
      "metadata": {},
      "source": [
        "> NOTE:\n",
        "Avoid exposing credentials for MQTT broker and OT-2 device like this in real projects.\n",
        "We include them here purely to make this demo easy to run."
      ]
    },
    {
      "cell_type": "code",
      "execution_count": null,
      "metadata": {},
      "outputs": [],
      "source": [
        "# @title MQTT Broker and OT-2 Configuration\n",
        "\n",
        "# NOTE:\n",
        "# Avoid exposing credentials for MQTT broker and OT-2 device like this in real projects.\n",
        "# We include them here purely to make this demo easy to run.\n",
        "\n",
        "host = \"248cc294c37642359297f75b7b023374.s2.eu.hivemq.cloud\"  # @param {type:\"string\"}\n",
        "port = 8883  # @param {type:\"integer\"}\n",
        "username = \"sgbaird\"  # @param {type:\"string\"}\n",
        "password = \"D.Pq5gYtejYbU#L\"  # @param {type:\"string\"}\n",
        "\n",
        "# @title OT-2 Configuration\n",
        "OT2_SERIAL = \"OT2CEP20240218R04\" # @param {type:\"string\"}\n",
        "COMMAND_TOPIC = f\"command/ot2/{OT2_SERIAL}/pipette\"\n",
        "STATUS_TOPIC = f\"status/ot2/{OT2_SERIAL}/complete\""
      ]
    },
    {
      "cell_type": "code",
      "execution_count": null,
      "metadata": {
        "colab": {
          "base_uri": "https://localhost:8080/"
        },
        "id": "uJ2-oq_Rje8C",
        "outputId": "31704306-1a0a-46e6-a973-845c0f1c7dfa"
      },
      "outputs": [
        {
          "name": "stderr",
          "output_type": "stream",
          "text": [
            "/tmp/ipython-input-6-3866809401.py:31: DeprecationWarning: Callback API version 1 is deprecated, update to latest version\n",
            "  client = mqtt.Client()\n"
          ]
        },
        {
          "name": "stdout",
          "output_type": "stream",
          "text": [
            "Sending mix_color command: {'command': {'R': 120, 'Y': 50, 'B': 80, 'well': 'B2'}, 'session_id': 'session-001', 'experiment_id': 'exp-001'}\n",
            "Orchestrator connected to MQTT broker with result code 0\n",
            "Received status update from OT-2 on status/ot2/OT2CEP20240218R04/complete: {\"status\": {\"sensor_status\": \"in_place\"}, \"experiment_id\": \"exp-001\", \"session_id\": \"session-001\"}\n",
            "Sending move_sensor_back command: {'command': {'sensor_status': 'done'}, 'session_id': 'session-001', 'experiment_id': 'exp-001'}\n",
            "Received status update from OT-2 on status/ot2/OT2CEP20240218R04/complete: {\"status\": {\"sensor_status\": \"charging\"}, \"experiment_id\": \"exp-001\", \"session_id\": \"session-001\"}\n",
            "Received status update from OT-2 on status/ot2/OT2CEP20240218R04/complete: {\"status\": {\"sensor_status\": \"charging\"}, \"experiment_id\": \"exp-001\", \"session_id\": \"session-001\"}\n",
            "Received status update from OT-2 on status/ot2/OT2CEP20240218R04/complete: {\"status\": {\"sensor_status\": \"charging\"}, \"experiment_id\": \"exp-001\", \"session_id\": \"session-001\"}\n",
            "Orchestrator finished and disconnected\n"
          ]
        }
      ],
      "source": [
        "import json\n",
        "import paho.mqtt.client as mqtt\n",
        "import ssl\n",
        "import time\n",
        "\n",
        "# ====== Callback: When connected to the MQTT broker ======\n",
        "def on_connect(client, userdata, flags, rc):\n",
        "    print(\"Orchestrator connected to MQTT broker with result code\", rc)\n",
        "    # Subscribe to OT-2 status updates so we know when the device finishes execution\n",
        "    client.subscribe(STATUS_TOPIC, qos=2)\n",
        "\n",
        "\n",
        "# ====== Callback: When a message is received from the subscribed topics ======\n",
        "def on_message(client, userdata, msg):\n",
        "    payload = msg.payload.decode(\"utf-8\")\n",
        "    print(f\"Received status update from OT-2 on {msg.topic}: {payload}\")\n",
        "\n",
        "\n",
        "# ====== Create and configure MQTT client ======\n",
        "client = mqtt.Client()\n",
        "client.tls_set(tls_version=ssl.PROTOCOL_TLS_CLIENT)\n",
        "client.username_pw_set(username, password)\n",
        "client.on_connect = on_connect\n",
        "client.on_message = on_message\n",
        "client.connect(host, port)\n",
        "client.loop_start()\n",
        "\n",
        "\n",
        "# ====== 1. Send a \"mix_color\" command to OT-2 ======\n",
        "mix_payload = {\n",
        "    \"command\": {\n",
        "        \"R\": 120,  # Volume of Red liquid\n",
        "        \"Y\": 50,   # Volume of Yellow liquid\n",
        "        \"B\": 80,   # Volume of Blue liquid\n",
        "        \"well\": \"B2\"  # Target well on the plate\n",
        "    },\n",
        "    \"session_id\": \"session-001\",\n",
        "    \"experiment_id\": \"exp-001\"\n",
        "}\n",
        "\n",
        "print(f\"Sending mix_color command: {mix_payload}\")\n",
        "client.publish(COMMAND_TOPIC, json.dumps(mix_payload), qos=2)\n",
        "\n",
        "time.sleep(10)\n",
        "\n",
        "\n",
        "# ====== 2. Send a \"move_sensor_back\" command to OT-2 ======\n",
        "sensor_back_payload = {\n",
        "    \"command\": {\n",
        "        \"sensor_status\": \"done\"  # Indicates sensor reading completed\n",
        "    },\n",
        "    \"session_id\": \"session-001\",\n",
        "    \"experiment_id\": \"exp-001\"\n",
        "}\n",
        "\n",
        "print(f\"Sending move_sensor_back command: {sensor_back_payload}\")\n",
        "client.publish(COMMAND_TOPIC, json.dumps(sensor_back_payload), qos=2)\n",
        "\n",
        "time.sleep(10)\n",
        "\n",
        "client.loop_stop()\n",
        "client.disconnect()\n",
        "print(\"Orchestrator finished and disconnected\")"
      ]
    }
  ],
  "metadata": {
    "colab": {
      "provenance": []
    },
    "kernelspec": {
      "display_name": "Python 3",
      "name": "python3"
    },
    "language_info": {
      "name": "python"
    }
  },
  "nbformat": 4,
  "nbformat_minor": 0
}
