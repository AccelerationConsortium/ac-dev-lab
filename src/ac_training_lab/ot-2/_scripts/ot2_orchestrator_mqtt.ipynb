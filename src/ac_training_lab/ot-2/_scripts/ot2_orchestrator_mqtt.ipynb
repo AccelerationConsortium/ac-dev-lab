{
  "nbformat": 4,
  "nbformat_minor": 0,
  "metadata": {
    "colab": {
      "provenance": []
    },
    "kernelspec": {
      "name": "python3",
      "display_name": "Python 3"
    },
    "language_info": {
      "name": "python"
    }
  },
  "cells": [
    {
      "cell_type": "code",
      "source": [
        "%pip install paho-mqtt"
      ],
      "metadata": {
        "colab": {
          "base_uri": "https://localhost:8080/"
        },
        "id": "c7QzsSrUkAlw",
        "outputId": "8f9a9ffb-7c2f-425a-e66d-faec6f309d23"
      },
      "execution_count": 5,
      "outputs": [
        {
          "output_type": "stream",
          "name": "stdout",
          "text": [
            "Requirement already satisfied: paho-mqtt in /usr/local/lib/python3.11/dist-packages (2.1.0)\n"
          ]
        }
      ]
    },
    {
      "cell_type": "code",
      "execution_count": 6,
      "metadata": {
        "colab": {
          "base_uri": "https://localhost:8080/"
        },
        "id": "uJ2-oq_Rje8C",
        "outputId": "31704306-1a0a-46e6-a973-845c0f1c7dfa"
      },
      "outputs": [
        {
          "output_type": "stream",
          "name": "stderr",
          "text": [
            "/tmp/ipython-input-6-3866809401.py:31: DeprecationWarning: Callback API version 1 is deprecated, update to latest version\n",
            "  client = mqtt.Client()\n"
          ]
        },
        {
          "output_type": "stream",
          "name": "stdout",
          "text": [
            "Sending mix_color command: {'command': {'R': 120, 'Y': 50, 'B': 80, 'well': 'B2'}, 'session_id': 'session-001', 'experiment_id': 'exp-001'}\n",
            "Orchestrator connected to MQTT broker with result code 0\n",
            "Received status update from OT-2 on status/ot2/OT2CEP20240218R04/complete: {\"status\": {\"sensor_status\": \"in_place\"}, \"experiment_id\": \"exp-001\", \"session_id\": \"session-001\"}\n",
            "Sending move_sensor_back command: {'command': {'sensor_status': 'done'}, 'session_id': 'session-001', 'experiment_id': 'exp-001'}\n",
            "Received status update from OT-2 on status/ot2/OT2CEP20240218R04/complete: {\"status\": {\"sensor_status\": \"charging\"}, \"experiment_id\": \"exp-001\", \"session_id\": \"session-001\"}\n",
            "Received status update from OT-2 on status/ot2/OT2CEP20240218R04/complete: {\"status\": {\"sensor_status\": \"charging\"}, \"experiment_id\": \"exp-001\", \"session_id\": \"session-001\"}\n",
            "Received status update from OT-2 on status/ot2/OT2CEP20240218R04/complete: {\"status\": {\"sensor_status\": \"charging\"}, \"experiment_id\": \"exp-001\", \"session_id\": \"session-001\"}\n",
            "Orchestrator finished and disconnected\n"
          ]
        }
      ],
      "source": [
        "import json\n",
        "import paho.mqtt.client as mqtt\n",
        "import ssl\n",
        "import time\n",
        "\n",
        "# ====== MQTT Broker Configuration ======\n",
        "host = \"248cc294c37642359297f75b7b023374.s2.eu.hivemq.cloud\"\n",
        "port = 8883\n",
        "username = \"sgbaird\"\n",
        "password = \"D.Pq5gYtejYbU#L\"\n",
        "\n",
        "OT2_SERIAL = \"OT2CEP20240218R04\"\n",
        "COMMAND_TOPIC = f\"command/ot2/{OT2_SERIAL}/pipette\"\n",
        "STATUS_TOPIC = f\"status/ot2/{OT2_SERIAL}/complete\"\n",
        "\n",
        "\n",
        "# ====== Callback: When connected to the MQTT broker ======\n",
        "def on_connect(client, userdata, flags, rc):\n",
        "    print(\"Orchestrator connected to MQTT broker with result code\", rc)\n",
        "    # Subscribe to OT-2 status updates so we know when the device finishes execution\n",
        "    client.subscribe(STATUS_TOPIC, qos=2)\n",
        "\n",
        "\n",
        "# ====== Callback: When a message is received from the subscribed topics ======\n",
        "def on_message(client, userdata, msg):\n",
        "    payload = msg.payload.decode(\"utf-8\")\n",
        "    print(f\"Received status update from OT-2 on {msg.topic}: {payload}\")\n",
        "\n",
        "\n",
        "# ====== Create and configure MQTT client ======\n",
        "client = mqtt.Client()\n",
        "client.tls_set(tls_version=ssl.PROTOCOL_TLS_CLIENT)\n",
        "client.username_pw_set(username, password)\n",
        "client.on_connect = on_connect\n",
        "client.on_message = on_message\n",
        "client.connect(host, port)\n",
        "client.loop_start()\n",
        "\n",
        "\n",
        "# ====== 1. Send a \"mix_color\" command to OT-2 ======\n",
        "mix_payload = {\n",
        "    \"command\": {\n",
        "        \"R\": 120,  # Volume of Red liquid\n",
        "        \"Y\": 50,   # Volume of Yellow liquid\n",
        "        \"B\": 80,   # Volume of Blue liquid\n",
        "        \"well\": \"B2\"  # Target well on the plate\n",
        "    },\n",
        "    \"session_id\": \"session-001\",\n",
        "    \"experiment_id\": \"exp-001\"\n",
        "}\n",
        "\n",
        "print(f\"Sending mix_color command: {mix_payload}\")\n",
        "client.publish(COMMAND_TOPIC, json.dumps(mix_payload), qos=2)\n",
        "\n",
        "time.sleep(10)\n",
        "\n",
        "\n",
        "# ====== 2. Send a \"move_sensor_back\" command to OT-2 ======\n",
        "sensor_back_payload = {\n",
        "    \"command\": {\n",
        "        \"sensor_status\": \"done\"  # Indicates sensor reading completed\n",
        "    },\n",
        "    \"session_id\": \"session-001\",\n",
        "    \"experiment_id\": \"exp-001\"\n",
        "}\n",
        "\n",
        "print(f\"Sending move_sensor_back command: {sensor_back_payload}\")\n",
        "client.publish(COMMAND_TOPIC, json.dumps(sensor_back_payload), qos=2)\n",
        "\n",
        "time.sleep(10)\n",
        "\n",
        "client.loop_stop()\n",
        "client.disconnect()\n",
        "print(\"Orchestrator finished and disconnected\")"
      ]
    }
  ]
}
