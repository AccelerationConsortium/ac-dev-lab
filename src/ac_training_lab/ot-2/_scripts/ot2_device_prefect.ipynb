{
  "cells": [
    {
      "cell_type": "code",
      "execution_count": 2,
      "metadata": {
        "colab": {
          "base_uri": "https://localhost:8080/"
        },
        "id": "M_gGYddGA66a",
        "outputId": "72fd68ad-2884-43ae-dbf0-e3ba110ff538"
      },
      "outputs": [
        {
          "name": "stdout",
          "output_type": "stream",
          "text": [
            "Collecting opentrons\n",
            "  Using cached opentrons-8.5.0-py2.py3-none-any.whl.metadata (5.1 kB)\n",
            "Collecting opentrons-shared-data==8.5.0 (from opentrons)\n",
            "  Using cached opentrons_shared_data-8.5.0-py2.py3-none-any.whl.metadata (1.4 kB)\n",
            "Collecting aionotify==0.3.1 (from opentrons)\n",
            "  Using cached aionotify-0.3.1-py2.py3-none-any.whl.metadata (3.5 kB)\n",
            "Collecting anyio<4.0.0,>=3.6.1 (from opentrons)\n",
            "  Downloading anyio-3.7.1-py3-none-any.whl.metadata (4.7 kB)\n",
            "Collecting jsonschema<4.18.0,>=3.0.1 (from opentrons)\n",
            "  Downloading jsonschema-4.17.3-py3-none-any.whl.metadata (7.9 kB)\n",
            "Requirement already satisfied: numpy<2,>=1.20.0 in f:\\python\\lib\\site-packages (from opentrons) (1.24.1)\n",
            "Collecting pydantic<3,>=2.0.0 (from opentrons)\n",
            "  Using cached pydantic-2.11.7-py3-none-any.whl.metadata (67 kB)\n",
            "Collecting pydantic-settings<3,>=2 (from opentrons)\n",
            "  Using cached pydantic_settings-2.10.1-py3-none-any.whl.metadata (3.4 kB)\n",
            "Requirement already satisfied: pyserial>=3.5 in f:\\python\\lib\\site-packages (from opentrons) (3.5)\n",
            "Requirement already satisfied: typing-extensions<5,>=4.0.0 in f:\\python\\lib\\site-packages (from opentrons) (4.12.2)\n",
            "Requirement already satisfied: click<9,>=8.0.0 in f:\\python\\lib\\site-packages (from opentrons) (8.1.6)\n",
            "Collecting pyusb==1.2.1 (from opentrons)\n",
            "  Downloading pyusb-1.2.1-py3-none-any.whl.metadata (2.2 kB)\n",
            "Requirement already satisfied: packaging>=21.0 in f:\\python\\lib\\site-packages (from opentrons) (23.2)\n",
            "Requirement already satisfied: idna>=2.8 in f:\\python\\lib\\site-packages (from anyio<4.0.0,>=3.6.1->opentrons) (3.4)\n",
            "Requirement already satisfied: sniffio>=1.1 in f:\\python\\lib\\site-packages (from anyio<4.0.0,>=3.6.1->opentrons) (1.3.1)\n",
            "Requirement already satisfied: colorama in f:\\python\\lib\\site-packages (from click<9,>=8.0.0->opentrons) (0.4.6)\n",
            "Requirement already satisfied: attrs>=17.4.0 in f:\\python\\lib\\site-packages (from jsonschema<4.18.0,>=3.0.1->opentrons) (23.2.0)\n",
            "Collecting pyrsistent!=0.17.0,!=0.17.1,!=0.17.2,>=0.14.0 (from jsonschema<4.18.0,>=3.0.1->opentrons)\n",
            "  Downloading pyrsistent-0.20.0-cp311-cp311-win_amd64.whl.metadata (976 bytes)\n",
            "Collecting annotated-types>=0.6.0 (from pydantic<3,>=2.0.0->opentrons)\n",
            "  Using cached annotated_types-0.7.0-py3-none-any.whl.metadata (15 kB)\n",
            "Collecting pydantic-core==2.33.2 (from pydantic<3,>=2.0.0->opentrons)\n",
            "  Downloading pydantic_core-2.33.2-cp311-cp311-win_amd64.whl.metadata (6.9 kB)\n",
            "Collecting typing-inspection>=0.4.0 (from pydantic<3,>=2.0.0->opentrons)\n",
            "  Downloading typing_inspection-0.4.1-py3-none-any.whl.metadata (2.6 kB)\n",
            "Requirement already satisfied: python-dotenv>=0.21.0 in f:\\python\\lib\\site-packages (from pydantic-settings<3,>=2->opentrons) (1.0.1)\n",
            "Downloading opentrons-8.5.0-py2.py3-none-any.whl (1.8 MB)\n",
            "   ---------------------------------------- 0.0/1.8 MB ? eta -:--:--\n",
            "   ----------------- ---------------------- 0.8/1.8 MB 8.3 MB/s eta 0:00:01\n",
            "   ---------------------------------------- 1.8/1.8 MB 8.0 MB/s eta 0:00:00\n",
            "Downloading aionotify-0.3.1-py2.py3-none-any.whl (7.4 kB)\n",
            "Downloading opentrons_shared_data-8.5.0-py2.py3-none-any.whl (959 kB)\n",
            "   ---------------------------------------- 0.0/959.7 kB ? eta -:--:--\n",
            "   ---------------------------------------- 959.7/959.7 kB 7.4 MB/s eta 0:00:00\n",
            "Downloading pyusb-1.2.1-py3-none-any.whl (58 kB)\n",
            "Downloading anyio-3.7.1-py3-none-any.whl (80 kB)\n",
            "Downloading jsonschema-4.17.3-py3-none-any.whl (90 kB)\n",
            "Downloading pydantic-2.11.7-py3-none-any.whl (444 kB)\n",
            "Downloading pydantic_core-2.33.2-cp311-cp311-win_amd64.whl (2.0 MB)\n",
            "   ---------------------------------------- 0.0/2.0 MB ? eta -:--:--\n",
            "   ------------------------------------- -- 1.8/2.0 MB 9.1 MB/s eta 0:00:01\n",
            "   ---------------------------------------- 2.0/2.0 MB 7.7 MB/s eta 0:00:00\n",
            "Downloading pydantic_settings-2.10.1-py3-none-any.whl (45 kB)\n",
            "Using cached annotated_types-0.7.0-py3-none-any.whl (13 kB)\n",
            "Downloading pyrsistent-0.20.0-cp311-cp311-win_amd64.whl (63 kB)\n",
            "Downloading typing_inspection-0.4.1-py3-none-any.whl (14 kB)\n",
            "Installing collected packages: typing-inspection, pyusb, pyrsistent, pydantic-core, anyio, annotated-types, aionotify, pydantic, jsonschema, pydantic-settings, opentrons-shared-data, opentrons\n",
            "  Attempting uninstall: anyio\n",
            "    Found existing installation: anyio 4.9.0\n",
            "    Uninstalling anyio-4.9.0:\n",
            "      Successfully uninstalled anyio-4.9.0\n",
            "Successfully installed aionotify-0.3.1 annotated-types-0.7.0 anyio-3.7.1 jsonschema-4.17.3 opentrons-8.5.0 opentrons-shared-data-8.5.0 pydantic-2.11.7 pydantic-core-2.33.2 pydantic-settings-2.10.1 pyrsistent-0.20.0 pyusb-1.2.1 typing-inspection-0.4.1\n",
            "Note: you may need to restart the kernel to use updated packages.\n"
          ]
        },
        {
          "name": "stderr",
          "output_type": "stream",
          "text": [
            "\n",
            "[notice] A new release of pip is available: 25.0 -> 25.1.1\n",
            "[notice] To update, run: python.exe -m pip install --upgrade pip\n"
          ]
        }
      ],
      "source": [
        "%pip install opentrons"
      ]
    },
    {
      "cell_type": "code",
      "execution_count": 4,
      "metadata": {},
      "outputs": [
        {
          "name": "stdout",
          "output_type": "stream",
          "text": [
            "Collecting prefect\n",
            "  Using cached prefect-3.4.8-py3-none-any.whl.metadata (13 kB)\n",
            "Collecting aiosqlite<1.0.0,>=0.17.0 (from prefect)\n",
            "  Using cached aiosqlite-0.21.0-py3-none-any.whl.metadata (4.3 kB)\n",
            "Collecting alembic<2.0.0,>=1.7.5 (from prefect)\n",
            "  Using cached alembic-1.16.4-py3-none-any.whl.metadata (7.3 kB)\n",
            "Collecting anyio<5.0.0,>=4.4.0 (from prefect)\n",
            "  Using cached anyio-4.9.0-py3-none-any.whl.metadata (4.7 kB)\n",
            "Collecting apprise<2.0.0,>=1.1.0 (from prefect)\n",
            "  Using cached apprise-1.9.3-py3-none-any.whl.metadata (53 kB)\n",
            "Collecting asgi-lifespan<3.0,>=1.0 (from prefect)\n",
            "  Using cached asgi_lifespan-2.1.0-py3-none-any.whl.metadata (10 kB)\n",
            "Collecting asyncpg<1.0.0,>=0.23 (from prefect)\n",
            "  Using cached asyncpg-0.30.0-cp311-cp311-win_amd64.whl.metadata (5.2 kB)\n",
            "Collecting cachetools<7.0,>=5.3 (from prefect)\n",
            "  Using cached cachetools-6.1.0-py3-none-any.whl.metadata (5.4 kB)\n",
            "Requirement already satisfied: click<8.2,>=8.0 in f:\\python\\lib\\site-packages (from prefect) (8.1.6)\n",
            "Collecting cloudpickle<4.0,>=2.0 (from prefect)\n",
            "  Using cached cloudpickle-3.1.1-py3-none-any.whl.metadata (7.1 kB)\n",
            "Collecting coolname<3.0.0,>=1.0.4 (from prefect)\n",
            "  Using cached coolname-2.2.0-py2.py3-none-any.whl.metadata (6.2 kB)\n",
            "Collecting cryptography>=36.0.1 (from prefect)\n",
            "  Using cached cryptography-45.0.5-cp311-abi3-win_amd64.whl.metadata (5.7 kB)\n",
            "Collecting dateparser<2.0.0,>=1.1.1 (from prefect)\n",
            "  Using cached dateparser-1.2.2-py3-none-any.whl.metadata (29 kB)\n",
            "Collecting docker<8.0,>=4.0 (from prefect)\n",
            "  Using cached docker-7.1.0-py3-none-any.whl.metadata (3.8 kB)\n",
            "Collecting exceptiongroup>=1.0.0 (from prefect)\n",
            "  Using cached exceptiongroup-1.3.0-py3-none-any.whl.metadata (6.7 kB)\n",
            "Collecting fastapi<1.0.0,>=0.111.0 (from prefect)\n",
            "  Using cached fastapi-0.116.1-py3-none-any.whl.metadata (28 kB)\n",
            "Requirement already satisfied: fsspec>=2022.5.0 in f:\\python\\lib\\site-packages (from prefect) (2025.5.1)\n",
            "Collecting graphviz>=0.20.1 (from prefect)\n",
            "  Using cached graphviz-0.21-py3-none-any.whl.metadata (12 kB)\n",
            "Collecting griffe<2.0.0,>=0.49.0 (from prefect)\n",
            "  Using cached griffe-1.7.3-py3-none-any.whl.metadata (5.0 kB)\n",
            "Requirement already satisfied: httpcore<2.0.0,>=1.0.5 in f:\\python\\lib\\site-packages (from prefect) (1.0.9)\n",
            "Requirement already satisfied: httpx!=0.23.2,>=0.23 in f:\\python\\lib\\site-packages (from httpx[http2]!=0.23.2,>=0.23->prefect) (0.28.1)\n",
            "Collecting humanize<5.0.0,>=4.9.0 (from prefect)\n",
            "  Using cached humanize-4.12.3-py3-none-any.whl.metadata (7.8 kB)\n",
            "Collecting jinja2-humanize-extension>=0.4.0 (from prefect)\n",
            "  Using cached jinja2_humanize_extension-0.4.0-py3-none-any.whl.metadata (3.6 kB)\n",
            "Collecting jinja2<4.0.0,>=3.1.6 (from prefect)\n",
            "  Using cached jinja2-3.1.6-py3-none-any.whl.metadata (2.9 kB)\n",
            "Collecting jsonpatch<2.0,>=1.32 (from prefect)\n",
            "  Using cached jsonpatch-1.33-py2.py3-none-any.whl.metadata (3.0 kB)\n",
            "Collecting jsonschema<5.0.0,>=4.18.0 (from prefect)\n",
            "  Using cached jsonschema-4.24.0-py3-none-any.whl.metadata (7.8 kB)\n",
            "Collecting opentelemetry-api<2.0.0,>=1.27.0 (from prefect)\n",
            "  Using cached opentelemetry_api-1.35.0-py3-none-any.whl.metadata (1.5 kB)\n",
            "Collecting orjson<4.0,>=3.7 (from prefect)\n",
            "  Using cached orjson-3.11.0-cp311-cp311-win_amd64.whl.metadata (43 kB)\n",
            "Requirement already satisfied: packaging<25.1,>=21.3 in f:\\python\\lib\\site-packages (from prefect) (23.2)\n",
            "Requirement already satisfied: pathspec>=0.8.0 in f:\\python\\lib\\site-packages (from prefect) (0.12.1)\n",
            "Collecting pendulum<4,>=3.0.0 (from prefect)\n",
            "  Using cached pendulum-3.1.0-cp311-cp311-win_amd64.whl.metadata (6.9 kB)\n",
            "Collecting prometheus-client>=0.20.0 (from prefect)\n",
            "  Using cached prometheus_client-0.22.1-py3-none-any.whl.metadata (1.9 kB)\n",
            "Requirement already satisfied: pydantic!=2.10.0,!=2.11.0,!=2.11.1,!=2.11.2,!=2.11.3,!=2.11.4,<3.0.0,>=2.9 in f:\\python\\lib\\site-packages (from prefect) (2.11.7)\n",
            "Requirement already satisfied: pydantic-core<3.0.0,>=2.12.0 in f:\\python\\lib\\site-packages (from prefect) (2.33.2)\n",
            "Collecting pydantic-extra-types<3.0.0,>=2.8.2 (from prefect)\n",
            "  Using cached pydantic_extra_types-2.10.5-py3-none-any.whl.metadata (3.9 kB)\n",
            "Requirement already satisfied: pydantic-settings!=2.9.0,<3.0.0,>2.2.1 in f:\\python\\lib\\site-packages (from prefect) (2.10.1)\n",
            "Requirement already satisfied: python-dateutil<3.0.0,>=2.8.2 in f:\\python\\lib\\site-packages (from prefect) (2.8.2)\n",
            "Collecting python-slugify<9.0,>=5.0 (from prefect)\n",
            "  Using cached python_slugify-8.0.4-py2.py3-none-any.whl.metadata (8.5 kB)\n",
            "Collecting python-socks<3.0,>=2.5.3 (from python-socks[asyncio]<3.0,>=2.5.3->prefect)\n",
            "  Using cached python_socks-2.7.1-py3-none-any.whl.metadata (8.0 kB)\n",
            "Collecting pytz<2026,>=2021.1 (from prefect)\n",
            "  Using cached pytz-2025.2-py2.py3-none-any.whl.metadata (22 kB)\n",
            "Requirement already satisfied: pyyaml<7.0.0,>=5.4.1 in f:\\python\\lib\\site-packages (from prefect) (6.0.2)\n",
            "Collecting readchar<5.0.0,>=4.0.0 (from prefect)\n",
            "  Using cached readchar-4.2.1-py3-none-any.whl.metadata (7.5 kB)\n",
            "Collecting rfc3339-validator<0.2.0,>=0.1.4 (from prefect)\n",
            "  Using cached rfc3339_validator-0.1.4-py2.py3-none-any.whl.metadata (1.5 kB)\n",
            "Collecting rich<15.0,>=11.0 (from prefect)\n",
            "  Using cached rich-14.0.0-py3-none-any.whl.metadata (18 kB)\n",
            "Collecting ruamel-yaml>=0.17.0 (from prefect)\n",
            "  Using cached ruamel.yaml-0.18.14-py3-none-any.whl.metadata (24 kB)\n",
            "Collecting semver>=3.0.4 (from prefect)\n",
            "  Using cached semver-3.0.4-py3-none-any.whl.metadata (6.8 kB)\n",
            "Requirement already satisfied: sniffio<2.0.0,>=1.3.0 in f:\\python\\lib\\site-packages (from prefect) (1.3.1)\n",
            "Collecting sqlalchemy<3.0.0,>=2.0 (from sqlalchemy[asyncio]<3.0.0,>=2.0->prefect)\n",
            "  Using cached sqlalchemy-2.0.41-cp311-cp311-win_amd64.whl.metadata (9.8 kB)\n",
            "Requirement already satisfied: toml>=0.10.0 in f:\\python\\lib\\site-packages (from prefect) (0.10.2)\n",
            "Collecting typer!=0.12.2,<0.17.0,>=0.12.0 (from prefect)\n",
            "  Using cached typer-0.16.0-py3-none-any.whl.metadata (15 kB)\n",
            "Requirement already satisfied: typing-extensions<5.0.0,>=4.10.0 in f:\\python\\lib\\site-packages (from prefect) (4.12.2)\n",
            "Collecting uv>=0.6.0 (from prefect)\n",
            "  Using cached uv-0.7.21-py3-none-win_amd64.whl.metadata (12 kB)\n",
            "Collecting uvicorn!=0.29.0,>=0.14.0 (from prefect)\n",
            "  Using cached uvicorn-0.35.0-py3-none-any.whl.metadata (6.5 kB)\n",
            "Collecting websockets<16.0,>=13.0 (from prefect)\n",
            "  Using cached websockets-15.0.1-cp311-cp311-win_amd64.whl.metadata (7.0 kB)\n",
            "Collecting Mako (from alembic<2.0.0,>=1.7.5->prefect)\n",
            "  Using cached mako-1.3.10-py3-none-any.whl.metadata (2.9 kB)\n",
            "Requirement already satisfied: idna>=2.8 in f:\\python\\lib\\site-packages (from anyio<5.0.0,>=4.4.0->prefect) (3.4)\n",
            "Requirement already satisfied: certifi in f:\\python\\lib\\site-packages (from apprise<2.0.0,>=1.1.0->prefect) (2023.7.22)\n",
            "Requirement already satisfied: requests in f:\\python\\lib\\site-packages (from apprise<2.0.0,>=1.1.0->prefect) (2.28.1)\n",
            "Collecting requests-oauthlib (from apprise<2.0.0,>=1.1.0->prefect)\n",
            "  Using cached requests_oauthlib-2.0.0-py2.py3-none-any.whl.metadata (11 kB)\n",
            "Collecting markdown (from apprise<2.0.0,>=1.1.0->prefect)\n",
            "  Using cached markdown-3.8.2-py3-none-any.whl.metadata (5.1 kB)\n",
            "Requirement already satisfied: colorama in f:\\python\\lib\\site-packages (from click<8.2,>=8.0->prefect) (0.4.6)\n",
            "Requirement already satisfied: cffi>=1.14 in f:\\python\\lib\\site-packages (from cryptography>=36.0.1->prefect) (1.17.1)\n",
            "Collecting regex>=2024.9.11 (from dateparser<2.0.0,>=1.1.1->prefect)\n",
            "  Using cached regex-2024.11.6-cp311-cp311-win_amd64.whl.metadata (41 kB)\n",
            "Requirement already satisfied: tzlocal>=0.2 in f:\\python\\lib\\site-packages (from dateparser<2.0.0,>=1.1.1->prefect) (5.2)\n",
            "Requirement already satisfied: pywin32>=304 in c:\\users\\86173\\appdata\\roaming\\python\\python311\\site-packages (from docker<8.0,>=4.0->prefect) (310)\n",
            "Requirement already satisfied: urllib3>=1.26.0 in f:\\python\\lib\\site-packages (from docker<8.0,>=4.0->prefect) (1.26.20)\n",
            "Collecting starlette<0.48.0,>=0.40.0 (from fastapi<1.0.0,>=0.111.0->prefect)\n",
            "  Using cached starlette-0.47.1-py3-none-any.whl.metadata (6.2 kB)\n",
            "Requirement already satisfied: h11>=0.16 in f:\\python\\lib\\site-packages (from httpcore<2.0.0,>=1.0.5->prefect) (0.16.0)\n",
            "Collecting h2<5,>=3 (from httpx[http2]!=0.23.2,>=0.23->prefect)\n",
            "  Using cached h2-4.2.0-py3-none-any.whl.metadata (5.1 kB)\n",
            "Requirement already satisfied: MarkupSafe>=2.0 in f:\\python\\lib\\site-packages (from jinja2<4.0.0,>=3.1.6->prefect) (2.1.2)\n",
            "Collecting jsonpointer>=1.9 (from jsonpatch<2.0,>=1.32->prefect)\n",
            "  Using cached jsonpointer-3.0.0-py2.py3-none-any.whl.metadata (2.3 kB)\n",
            "Requirement already satisfied: attrs>=22.2.0 in f:\\python\\lib\\site-packages (from jsonschema<5.0.0,>=4.18.0->prefect) (23.2.0)\n",
            "Collecting jsonschema-specifications>=2023.03.6 (from jsonschema<5.0.0,>=4.18.0->prefect)\n",
            "  Using cached jsonschema_specifications-2025.4.1-py3-none-any.whl.metadata (2.9 kB)\n",
            "Collecting referencing>=0.28.4 (from jsonschema<5.0.0,>=4.18.0->prefect)\n",
            "  Using cached referencing-0.36.2-py3-none-any.whl.metadata (2.8 kB)\n",
            "Collecting rpds-py>=0.7.1 (from jsonschema<5.0.0,>=4.18.0->prefect)\n",
            "  Using cached rpds_py-0.26.0-cp311-cp311-win_amd64.whl.metadata (4.3 kB)\n",
            "Collecting importlib-metadata<8.8.0,>=6.0 (from opentelemetry-api<2.0.0,>=1.27.0->prefect)\n",
            "  Using cached importlib_metadata-8.7.0-py3-none-any.whl.metadata (4.8 kB)\n",
            "Requirement already satisfied: tzdata>=2020.1 in f:\\python\\lib\\site-packages (from pendulum<4,>=3.0.0->prefect) (2024.1)\n",
            "Requirement already satisfied: annotated-types>=0.6.0 in f:\\python\\lib\\site-packages (from pydantic!=2.10.0,!=2.11.0,!=2.11.1,!=2.11.2,!=2.11.3,!=2.11.4,<3.0.0,>=2.9->prefect) (0.7.0)\n",
            "Requirement already satisfied: typing-inspection>=0.4.0 in f:\\python\\lib\\site-packages (from pydantic!=2.10.0,!=2.11.0,!=2.11.1,!=2.11.2,!=2.11.3,!=2.11.4,<3.0.0,>=2.9->prefect) (0.4.1)\n",
            "Requirement already satisfied: python-dotenv>=0.21.0 in f:\\python\\lib\\site-packages (from pydantic-settings!=2.9.0,<3.0.0,>2.2.1->prefect) (1.0.1)\n",
            "Requirement already satisfied: six>=1.5 in f:\\python\\lib\\site-packages (from python-dateutil<3.0.0,>=2.8.2->prefect) (1.16.0)\n",
            "Requirement already satisfied: text-unidecode>=1.3 in f:\\python\\lib\\site-packages (from python-slugify<9.0,>=5.0->prefect) (1.3)\n",
            "Collecting markdown-it-py>=2.2.0 (from rich<15.0,>=11.0->prefect)\n",
            "  Using cached markdown_it_py-3.0.0-py3-none-any.whl.metadata (6.9 kB)\n",
            "Requirement already satisfied: pygments<3.0.0,>=2.13.0 in f:\\python\\lib\\site-packages (from rich<15.0,>=11.0->prefect) (2.16.1)\n",
            "Collecting ruamel.yaml.clib>=0.2.7 (from ruamel-yaml>=0.17.0->prefect)\n",
            "  Using cached ruamel.yaml.clib-0.2.12-cp311-cp311-win_amd64.whl.metadata (2.8 kB)\n",
            "Collecting greenlet>=1 (from sqlalchemy<3.0.0,>=2.0->sqlalchemy[asyncio]<3.0.0,>=2.0->prefect)\n",
            "  Using cached greenlet-3.2.3-cp311-cp311-win_amd64.whl.metadata (4.2 kB)\n",
            "Collecting shellingham>=1.3.0 (from typer!=0.12.2,<0.17.0,>=0.12.0->prefect)\n",
            "  Using cached shellingham-1.5.4-py2.py3-none-any.whl.metadata (3.5 kB)\n",
            "Requirement already satisfied: pycparser in f:\\python\\lib\\site-packages (from cffi>=1.14->cryptography>=36.0.1->prefect) (2.22)\n",
            "Collecting hyperframe<7,>=6.1 (from h2<5,>=3->httpx[http2]!=0.23.2,>=0.23->prefect)\n",
            "  Using cached hyperframe-6.1.0-py3-none-any.whl.metadata (4.3 kB)\n",
            "Collecting hpack<5,>=4.1 (from h2<5,>=3->httpx[http2]!=0.23.2,>=0.23->prefect)\n",
            "  Using cached hpack-4.1.0-py3-none-any.whl.metadata (4.6 kB)\n",
            "Collecting zipp>=3.20 (from importlib-metadata<8.8.0,>=6.0->opentelemetry-api<2.0.0,>=1.27.0->prefect)\n",
            "  Using cached zipp-3.23.0-py3-none-any.whl.metadata (3.6 kB)\n",
            "Collecting mdurl~=0.1 (from markdown-it-py>=2.2.0->rich<15.0,>=11.0->prefect)\n",
            "  Using cached mdurl-0.1.2-py3-none-any.whl.metadata (1.6 kB)\n",
            "Requirement already satisfied: charset-normalizer<3,>=2 in f:\\python\\lib\\site-packages (from requests->apprise<2.0.0,>=1.1.0->prefect) (2.1.1)\n",
            "Collecting oauthlib>=3.0.0 (from requests-oauthlib->apprise<2.0.0,>=1.1.0->prefect)\n",
            "  Using cached oauthlib-3.3.1-py3-none-any.whl.metadata (7.9 kB)\n",
            "Using cached prefect-3.4.8-py3-none-any.whl (6.1 MB)\n",
            "Using cached aiosqlite-0.21.0-py3-none-any.whl (15 kB)\n",
            "Using cached alembic-1.16.4-py3-none-any.whl (247 kB)\n",
            "Using cached anyio-4.9.0-py3-none-any.whl (100 kB)\n",
            "Using cached apprise-1.9.3-py3-none-any.whl (1.4 MB)\n",
            "Using cached asgi_lifespan-2.1.0-py3-none-any.whl (10 kB)\n",
            "Using cached asyncpg-0.30.0-cp311-cp311-win_amd64.whl (629 kB)\n",
            "Using cached cachetools-6.1.0-py3-none-any.whl (11 kB)\n",
            "Using cached cloudpickle-3.1.1-py3-none-any.whl (20 kB)\n",
            "Using cached coolname-2.2.0-py2.py3-none-any.whl (37 kB)\n",
            "Using cached cryptography-45.0.5-cp311-abi3-win_amd64.whl (3.4 MB)\n",
            "Using cached dateparser-1.2.2-py3-none-any.whl (315 kB)\n",
            "Using cached docker-7.1.0-py3-none-any.whl (147 kB)\n",
            "Using cached exceptiongroup-1.3.0-py3-none-any.whl (16 kB)\n",
            "Using cached fastapi-0.116.1-py3-none-any.whl (95 kB)\n",
            "Using cached graphviz-0.21-py3-none-any.whl (47 kB)\n",
            "Using cached griffe-1.7.3-py3-none-any.whl (129 kB)\n",
            "Using cached humanize-4.12.3-py3-none-any.whl (128 kB)\n",
            "Using cached jinja2-3.1.6-py3-none-any.whl (134 kB)\n",
            "Using cached jinja2_humanize_extension-0.4.0-py3-none-any.whl (4.8 kB)\n",
            "Using cached jsonpatch-1.33-py2.py3-none-any.whl (12 kB)\n",
            "Using cached jsonschema-4.24.0-py3-none-any.whl (88 kB)\n",
            "Using cached opentelemetry_api-1.35.0-py3-none-any.whl (65 kB)\n",
            "Using cached orjson-3.11.0-cp311-cp311-win_amd64.whl (129 kB)\n",
            "Using cached pendulum-3.1.0-cp311-cp311-win_amd64.whl (260 kB)\n",
            "Using cached prometheus_client-0.22.1-py3-none-any.whl (58 kB)\n",
            "Using cached pydantic_extra_types-2.10.5-py3-none-any.whl (38 kB)\n",
            "Using cached python_slugify-8.0.4-py2.py3-none-any.whl (10 kB)\n",
            "Using cached python_socks-2.7.1-py3-none-any.whl (54 kB)\n",
            "Using cached pytz-2025.2-py2.py3-none-any.whl (509 kB)\n",
            "Using cached readchar-4.2.1-py3-none-any.whl (9.3 kB)\n",
            "Using cached rfc3339_validator-0.1.4-py2.py3-none-any.whl (3.5 kB)\n",
            "Using cached rich-14.0.0-py3-none-any.whl (243 kB)\n",
            "Using cached ruamel.yaml-0.18.14-py3-none-any.whl (118 kB)\n",
            "Using cached semver-3.0.4-py3-none-any.whl (17 kB)\n",
            "Using cached sqlalchemy-2.0.41-cp311-cp311-win_amd64.whl (2.1 MB)\n",
            "Using cached typer-0.16.0-py3-none-any.whl (46 kB)\n",
            "Using cached uv-0.7.21-py3-none-win_amd64.whl (19.4 MB)\n",
            "Using cached uvicorn-0.35.0-py3-none-any.whl (66 kB)\n",
            "Using cached websockets-15.0.1-cp311-cp311-win_amd64.whl (176 kB)\n",
            "Using cached greenlet-3.2.3-cp311-cp311-win_amd64.whl (297 kB)\n",
            "Using cached h2-4.2.0-py3-none-any.whl (60 kB)\n",
            "Using cached importlib_metadata-8.7.0-py3-none-any.whl (27 kB)\n",
            "Using cached jsonpointer-3.0.0-py2.py3-none-any.whl (7.6 kB)\n",
            "Using cached jsonschema_specifications-2025.4.1-py3-none-any.whl (18 kB)\n",
            "Using cached markdown_it_py-3.0.0-py3-none-any.whl (87 kB)\n",
            "Using cached referencing-0.36.2-py3-none-any.whl (26 kB)\n",
            "Using cached regex-2024.11.6-cp311-cp311-win_amd64.whl (274 kB)\n",
            "Using cached rpds_py-0.26.0-cp311-cp311-win_amd64.whl (231 kB)\n",
            "Using cached ruamel.yaml.clib-0.2.12-cp311-cp311-win_amd64.whl (118 kB)\n",
            "Using cached shellingham-1.5.4-py2.py3-none-any.whl (9.8 kB)\n",
            "Using cached starlette-0.47.1-py3-none-any.whl (72 kB)\n",
            "Using cached mako-1.3.10-py3-none-any.whl (78 kB)\n",
            "Using cached markdown-3.8.2-py3-none-any.whl (106 kB)\n",
            "Using cached requests_oauthlib-2.0.0-py2.py3-none-any.whl (24 kB)\n",
            "Using cached hpack-4.1.0-py3-none-any.whl (34 kB)\n",
            "Using cached hyperframe-6.1.0-py3-none-any.whl (13 kB)\n",
            "Using cached mdurl-0.1.2-py3-none-any.whl (10.0 kB)\n",
            "Using cached oauthlib-3.3.1-py3-none-any.whl (160 kB)\n",
            "Using cached zipp-3.23.0-py3-none-any.whl (10 kB)\n",
            "Installing collected packages: pytz, coolname, zipp, websockets, uv, shellingham, semver, ruamel.yaml.clib, rpds-py, rfc3339-validator, regex, readchar, python-socks, python-slugify, prometheus-client, orjson, oauthlib, mdurl, markdown, Mako, jsonpointer, jinja2, hyperframe, humanize, hpack, griffe, greenlet, graphviz, exceptiongroup, cloudpickle, cachetools, asyncpg, asgi-lifespan, anyio, aiosqlite, uvicorn, starlette, sqlalchemy, ruamel-yaml, requests-oauthlib, referencing, pendulum, markdown-it-py, jsonpatch, jinja2-humanize-extension, importlib-metadata, h2, docker, dateparser, cryptography, rich, pydantic-extra-types, opentelemetry-api, jsonschema-specifications, fastapi, apprise, alembic, typer, jsonschema, prefect\n",
            "  Attempting uninstall: websockets\n",
            "    Found existing installation: websockets 15.0.1\n",
            "    Uninstalling websockets-15.0.1:\n",
            "      Successfully uninstalled websockets-15.0.1\n",
            "  Attempting uninstall: jinja2\n",
            "    Found existing installation: Jinja2 3.1.6\n",
            "    Uninstalling Jinja2-3.1.6:\n",
            "      Successfully uninstalled Jinja2-3.1.6\n",
            "  Attempting uninstall: anyio\n",
            "    Found existing installation: anyio 4.9.0\n",
            "    Uninstalling anyio-4.9.0:\n",
            "      Successfully uninstalled anyio-4.9.0\n",
            "  Attempting uninstall: jsonschema\n",
            "    Found existing installation: jsonschema 4.24.0\n",
            "    Uninstalling jsonschema-4.24.0:\n",
            "      Successfully uninstalled jsonschema-4.24.0\n",
            "Successfully installed Mako-1.3.10 aiosqlite-0.21.0 alembic-1.16.4 anyio-4.9.0 apprise-1.9.3 asgi-lifespan-2.1.0 asyncpg-0.30.0 cachetools-6.1.0 cloudpickle-3.1.1 coolname-2.2.0 cryptography-45.0.5 dateparser-1.2.2 docker-7.1.0 exceptiongroup-1.3.0 fastapi-0.116.1 graphviz-0.21 greenlet-3.2.3 griffe-1.7.3 h2-4.2.0 hpack-4.1.0 humanize-4.12.3 hyperframe-6.1.0 importlib-metadata-8.7.0 jinja2-3.1.6 jinja2-humanize-extension-0.4.0 jsonpatch-1.33 jsonpointer-3.0.0 jsonschema-4.24.0 jsonschema-specifications-2025.4.1 markdown-3.8.2 markdown-it-py-3.0.0 mdurl-0.1.2 oauthlib-3.3.1 opentelemetry-api-1.35.0 orjson-3.11.0 pendulum-3.1.0 prefect-3.4.8 prometheus-client-0.22.1 pydantic-extra-types-2.10.5 python-slugify-8.0.4 python-socks-2.7.1 pytz-2025.2 readchar-4.2.1 referencing-0.36.2 regex-2024.11.6 requests-oauthlib-2.0.0 rfc3339-validator-0.1.4 rich-14.0.0 rpds-py-0.26.0 ruamel-yaml-0.18.14 ruamel.yaml.clib-0.2.12 semver-3.0.4 shellingham-1.5.4 sqlalchemy-2.0.41 starlette-0.47.1 typer-0.16.0 uv-0.7.21 uvicorn-0.35.0 websockets-15.0.1 zipp-3.23.0\n",
            "Note: you may need to restart the kernel to use updated packages.\n"
          ]
        },
        {
          "name": "stderr",
          "output_type": "stream",
          "text": [
            "WARNING: Ignoring invalid distribution ~ytz (f:\\python\\Lib\\site-packages)\n",
            "ERROR: pip's dependency resolver does not currently take into account all the packages that are installed. This behaviour is the source of the following dependency conflicts.\n",
            "opentrons 8.5.0 requires anyio<4.0.0,>=3.6.1, but you have anyio 4.9.0 which is incompatible.\n",
            "opentrons 8.5.0 requires jsonschema<4.18.0,>=3.0.1, but you have jsonschema 4.24.0 which is incompatible.\n",
            "\n",
            "[notice] A new release of pip is available: 25.0 -> 25.1.1\n",
            "[notice] To update, run: python.exe -m pip install --upgrade pip\n"
          ]
        }
      ],
      "source": [
        "%pip install prefect"
      ]
    },
    {
      "cell_type": "code",
      "execution_count": 16,
      "metadata": {},
      "outputs": [
        {
          "name": "stdout",
          "output_type": "stream",
          "text": [
            "Not running in Colab, skipping download\n"
          ]
        }
      ],
      "source": [
        "import sys\n",
        "import os\n",
        "\n",
        "IN_COLAB = 'google.colab' in sys.modules\n",
        "\n",
        "if IN_COLAB:\n",
        "    os.system(\"wget -q https://raw.githubusercontent.com/AccelerationConsortium/ac-training-lab/main/src/ac_training_lab/ot-2/_scripts/ac_6_tuberack_15000ul.json\")\n",
        "    os.system(\"wget -q https://raw.githubusercontent.com/AccelerationConsortium/ac-training-lab/main/src/ac_training_lab/ot-2/_scripts/ac_color_sensor_charging_port.json\")\n",
        "    print(\"JSON labware files downloaded for Colab\")\n",
        "else:\n",
        "    print(\"Not running in Colab, skipping download\")\n"
      ]
    },
    {
      "cell_type": "code",
      "execution_count": 5,
      "metadata": {
        "id": "hxvW1qHVFdM3"
      },
      "outputs": [
        {
          "name": "stderr",
          "output_type": "stream",
          "text": [
            "C:\\Users\\86173\\.opentrons\\robot_settings.json not found. Loading defaults\n",
            "Deck calibration not found.\n",
            "C:\\Users\\86173\\.opentrons\\deck_calibration.json not found. Loading defaults\n"
          ]
        },
        {
          "name": "stdout",
          "output_type": "stream",
          "text": [
            "Transferring 100.0 from A1 of NEST 96 Well Plate 200 µL Flat on slot 2 to A2 of NEST 96 Well Plate 200 µL Flat on slot 2\n",
            "Picking up tip from A1 of Opentrons OT-2 96 Tip Rack 1000 µL on slot 1\n",
            "Aspirating 100.0 uL from A1 of NEST 96 Well Plate 200 µL Flat on slot 2 at 274.7 uL/sec\n",
            "Dispensing 100.0 uL into A2 of NEST 96 Well Plate 200 µL Flat on slot 2 at 274.7 uL/sec\n",
            "Dropping tip into Trash Bin on slot 12\n"
          ]
        }
      ],
      "source": [
        "# source: https://support.opentrons.com/s/article/Running-the-robot-using-Jupyter-Notebook\n",
        "\n",
        "# import opentrons.execute\n",
        "import opentrons.simulate  # if you want to simulate the protocol first\n",
        "\n",
        "# from opentrons.config import advanced_settings\n",
        "\n",
        "# print(\n",
        "#     \"useProtocolEngine =\",\n",
        "#     advanced_settings.get_adv_setting(\"useProtocolEngine\", \"OT-2\"),\n",
        "# )\n",
        "\n",
        "\n",
        "# This is where you establish the API version for executing a protocol\n",
        "# protocol = opentrons.execute.get_protocol_api('2.11')\n",
        "# to simulate the protocol, replace opentrons.execute with opentrons.simulate\n",
        "# like so\n",
        "protocol = opentrons.simulate.get_protocol_api(\"2.16\")\n",
        "\n",
        "# Must home before running\n",
        "protocol.home()\n",
        "\n",
        "# Labware\n",
        "plate = protocol.load_labware(\"nest_96_wellplate_200ul_flat\", \"2\")\n",
        "\n",
        "tiprack_1 = protocol.load_labware(\"opentrons_96_tiprack_1000ul\", location=\"1\")\n",
        "\n",
        "# Pipette\n",
        "p1000 = protocol.load_instrument(\"p1000_single_gen2\", \"right\", tip_racks=[tiprack_1])\n",
        "\n",
        "# Protocol steps\n",
        "p1000.transfer(100, plate[\"A1\"], plate[\"A2\"])\n",
        "\n",
        "# Output steps in protocol\n",
        "for line in protocol.commands():\n",
        "    print(line)"
      ]
    },
    {
      "cell_type": "code",
      "execution_count": 15,
      "metadata": {
        "id": "ZIhsXQywFxDR"
      },
      "outputs": [
        {
          "data": {
            "text/html": [
              "<pre style=\"white-space:pre;overflow-x:auto;line-height:normal;font-family:Menlo,'DejaVu Sans Mono',consolas,'Courier New',monospace\">09:38:03.070 | <span style=\"color: #d7d700; text-decoration-color: #d7d700\">WARNING</span> | opentrons.config.robot_configs - C:\\Users\\86173\\.opentrons\\robot_settings.json not found. Loading defaults\n",
              "</pre>\n"
            ],
            "text/plain": [
              "09:38:03.070 | \u001b[38;5;184mWARNING\u001b[0m | opentrons.config.robot_configs - C:\\Users\\86173\\.opentrons\\robot_settings.json not found. Loading defaults\n"
            ]
          },
          "metadata": {},
          "output_type": "display_data"
        },
        {
          "data": {
            "text/html": [
              "<pre style=\"white-space:pre;overflow-x:auto;line-height:normal;font-family:Menlo,'DejaVu Sans Mono',consolas,'Courier New',monospace\">09:38:03.073 | <span style=\"color: #d7d700; text-decoration-color: #d7d700\">WARNING</span> | opentrons.calibration_storage.ot2.deck_attitude - Deck calibration not found.\n",
              "</pre>\n"
            ],
            "text/plain": [
              "09:38:03.073 | \u001b[38;5;184mWARNING\u001b[0m | opentrons.calibration_storage.ot2.deck_attitude - Deck calibration not found.\n"
            ]
          },
          "metadata": {},
          "output_type": "display_data"
        },
        {
          "data": {
            "text/html": [
              "<pre style=\"white-space:pre;overflow-x:auto;line-height:normal;font-family:Menlo,'DejaVu Sans Mono',consolas,'Courier New',monospace\">09:38:03.075 | <span style=\"color: #d7d700; text-decoration-color: #d7d700\">WARNING</span> | opentrons.config.robot_configs - C:\\Users\\86173\\.opentrons\\deck_calibration.json not found. Loading defaults\n",
              "</pre>\n"
            ],
            "text/plain": [
              "09:38:03.075 | \u001b[38;5;184mWARNING\u001b[0m | opentrons.config.robot_configs - C:\\Users\\86173\\.opentrons\\deck_calibration.json not found. Loading defaults\n"
            ]
          },
          "metadata": {},
          "output_type": "display_data"
        },
        {
          "name": "stdout",
          "output_type": "stream",
          "text": [
            "Labwares loaded\n"
          ]
        },
        {
          "data": {
            "text/html": [
              "<pre style=\"white-space:pre;overflow-x:auto;line-height:normal;font-family:Menlo,'DejaVu Sans Mono',consolas,'Courier New',monospace\">09:38:03.417 | <span style=\"color: #008080; text-decoration-color: #008080\">INFO</span>    | Flow run<span style=\"color: #800080; text-decoration-color: #800080\"> 'woodoo-giraffe'</span> - Beginning flow run<span style=\"color: #800080; text-decoration-color: #800080\"> 'woodoo-giraffe'</span> for flow<span style=\"color: #800080; text-decoration-color: #800080; font-weight: bold\"> 'main_flow'</span>\n",
              "</pre>\n"
            ],
            "text/plain": [
              "09:38:03.417 | \u001b[36mINFO\u001b[0m    | Flow run\u001b[35m 'woodoo-giraffe'\u001b[0m - Beginning flow run\u001b[35m 'woodoo-giraffe'\u001b[0m for flow\u001b[1;35m 'main_flow'\u001b[0m\n"
            ]
          },
          "metadata": {},
          "output_type": "display_data"
        },
        {
          "name": "stdout",
          "output_type": "stream",
          "text": [
            "Mixed R:100, Y:100, B:100 in well A1\n"
          ]
        },
        {
          "data": {
            "text/html": [
              "<pre style=\"white-space:pre;overflow-x:auto;line-height:normal;font-family:Menlo,'DejaVu Sans Mono',consolas,'Courier New',monospace\">09:38:03.706 | <span style=\"color: #008080; text-decoration-color: #008080\">INFO</span>    | Task run 'mix_color-4e6' - Finished in state <span style=\"color: #008000; text-decoration-color: #008000\">Completed</span>()\n",
              "</pre>\n"
            ],
            "text/plain": [
              "09:38:03.706 | \u001b[36mINFO\u001b[0m    | Task run 'mix_color-4e6' - Finished in state \u001b[32mCompleted\u001b[0m()\n"
            ]
          },
          "metadata": {},
          "output_type": "display_data"
        },
        {
          "name": "stdout",
          "output_type": "stream",
          "text": [
            "Sensor is now in position for measurement\n"
          ]
        },
        {
          "data": {
            "text/html": [
              "<pre style=\"white-space:pre;overflow-x:auto;line-height:normal;font-family:Menlo,'DejaVu Sans Mono',consolas,'Courier New',monospace\">09:38:03.975 | <span style=\"color: #008080; text-decoration-color: #008080\">INFO</span>    | Task run 'move_sensor_to_measurement_position-7c7' - Finished in state <span style=\"color: #008000; text-decoration-color: #008000\">Completed</span>()\n",
              "</pre>\n"
            ],
            "text/plain": [
              "09:38:03.975 | \u001b[36mINFO\u001b[0m    | Task run 'move_sensor_to_measurement_position-7c7' - Finished in state \u001b[32mCompleted\u001b[0m()\n"
            ]
          },
          "metadata": {},
          "output_type": "display_data"
        },
        {
          "name": "stdout",
          "output_type": "stream",
          "text": [
            "Sensor moved back to charging position\n"
          ]
        },
        {
          "data": {
            "text/html": [
              "<pre style=\"white-space:pre;overflow-x:auto;line-height:normal;font-family:Menlo,'DejaVu Sans Mono',consolas,'Courier New',monospace\">09:38:04.248 | <span style=\"color: #008080; text-decoration-color: #008080\">INFO</span>    | Task run 'move_sensor_back-99c' - Finished in state <span style=\"color: #008000; text-decoration-color: #008000\">Completed</span>()\n",
              "</pre>\n"
            ],
            "text/plain": [
              "09:38:04.248 | \u001b[36mINFO\u001b[0m    | Task run 'move_sensor_back-99c' - Finished in state \u001b[32mCompleted\u001b[0m()\n"
            ]
          },
          "metadata": {},
          "output_type": "display_data"
        },
        {
          "data": {
            "text/html": [
              "<pre style=\"white-space:pre;overflow-x:auto;line-height:normal;font-family:Menlo,'DejaVu Sans Mono',consolas,'Courier New',monospace\">09:38:04.273 | <span style=\"color: #008080; text-decoration-color: #008080\">INFO</span>    | Flow run<span style=\"color: #800080; text-decoration-color: #800080\"> 'woodoo-giraffe'</span> - Finished in state <span style=\"color: #008000; text-decoration-color: #008000\">Completed</span>()\n",
              "</pre>\n"
            ],
            "text/plain": [
              "09:38:04.273 | \u001b[36mINFO\u001b[0m    | Flow run\u001b[35m 'woodoo-giraffe'\u001b[0m - Finished in state \u001b[32mCompleted\u001b[0m()\n"
            ]
          },
          "metadata": {},
          "output_type": "display_data"
        }
      ],
      "source": [
        "import json\n",
        "\n",
        "import opentrons.simulate\n",
        "from prefect import flow, task\n",
        "\n",
        "protocol = plate = reservoir = tiprack_1 = tiprack_2 = p300 = None\n",
        "\n",
        "\n",
        "protocol = opentrons.simulate.get_protocol_api(\"2.12\")\n",
        "\n",
        "protocol.home()  # home the robot\n",
        "\n",
        "# Define labware and pipettes\n",
        "# Load wireless charging port\n",
        "with open(\n",
        "    # \"/var/lib/jupyter/notebooks/ac_color_sensor_charging_port.json\"\n",
        "    \"ac_color_sensor_charging_port.json\",\n",
        "    encoding=\"utf-8\" \n",
        ") as labware_file1:\n",
        "    labware_def1 = json.load(labware_file1)\n",
        "    tiprack_2 = protocol.load_labware_from_definition(labware_def1, 10)\n",
        "\n",
        "# Load 3x2 vials rack\n",
        "with open(\n",
        "    # \"/var/lib/jupyter/notebooks/ac_6_tuberack_15000ul.json\"\n",
        "    \"ac_6_tuberack_15000ul.json\",\n",
        "    encoding=\"utf-8\" \n",
        ") as labware_file2:\n",
        "    labware_def2 = json.load(labware_file2)\n",
        "    reservoir = protocol.load_labware_from_definition(labware_def2, 3)\n",
        "\n",
        "# Load other labwares from Opentrons's labware library\n",
        "plate = protocol.load_labware(load_name=\"corning_96_wellplate_360ul_flat\", location=1)\n",
        "tiprack_1 = protocol.load_labware(load_name=\"opentrons_96_tiprack_300ul\", location=9)\n",
        "\n",
        "p300 = protocol.load_instrument(\n",
        "    instrument_name=\"p300_single_gen2\", mount=\"right\", tip_racks=[tiprack_1]\n",
        ")\n",
        "\n",
        "p300.well_bottom_clearance.dispense = 8\n",
        "\n",
        "print(\"Labwares loaded\")\n",
        "\n",
        "\n",
        "@task\n",
        "def mix_color(R, Y, B, mix_well):\n",
        "    \"\"\"Mix colors with specified RGB values into a well\"\"\"\n",
        "    total = R + Y + B\n",
        "    if total > 300:\n",
        "        raise ValueError(\"The sum of the proportions must be not greater than 300\")\n",
        "\n",
        "    position = [\n",
        "        \"B1\",\n",
        "        \"B2\",\n",
        "        \"B3\",\n",
        "    ]  # R,Y,B paint vial on the position of the 3x2 vials rack\n",
        "    portion = {\"B1\": R, \"B2\": Y, \"B3\": B}\n",
        "\n",
        "    red_volume = R\n",
        "    yellow_volume = Y\n",
        "    blue_volume = B\n",
        "    color_volume = {\"B1\": red_volume, \"B2\": yellow_volume, \"B3\": blue_volume}\n",
        "\n",
        "    # assert all(i is not None for i in [p300, tiprack_1, reservoir, plate])\n",
        "    # doing this for pylance\n",
        "    assert p300 is not None\n",
        "    assert tiprack_1 is not None\n",
        "    assert reservoir is not None\n",
        "    assert plate is not None\n",
        "\n",
        "    for pos in position:\n",
        "        if float(portion[pos]) != 0.0:  # if zero, skip this color aspiration process\n",
        "            p300.pick_up_tip(tiprack_1[pos])\n",
        "            p300.aspirate(color_volume[pos], reservoir[pos])\n",
        "            p300.dispense(color_volume[pos], plate[mix_well])\n",
        "            p300.default_speed = 100\n",
        "            # reduce pipette speed to prevent droplets falling, speed unit: mm/sec\n",
        "            p300.blow_out(reservoir[\"A1\"].top(z=-5))\n",
        "            p300.default_speed = (\n",
        "                400  # reset pipette speed, speed unit: mm/sec, 400 is default value\n",
        "            )\n",
        "            p300.drop_tip(tiprack_1[pos])\n",
        "\n",
        "    print(f\"Mixed R:{R}, Y:{Y}, B:{B} in well {mix_well}\")\n",
        "\n",
        "\n",
        "@task\n",
        "def move_sensor_to_measurement_position(mix_well):\n",
        "    \"\"\"Move sensor to measurement position\"\"\"\n",
        "    # Move sensor to measurement position\n",
        "    assert p300 is not None\n",
        "    assert tiprack_2 is not None\n",
        "    assert plate is not None\n",
        "    p300.pick_up_tip(tiprack_2[\"A2\"])\n",
        "    # p300.move_to(tiprack_2[\"A2\"].top())\n",
        "    p300.move_to(plate[mix_well].top(z=-1.3))  # z=-1.3 to get sensor closer to the well\n",
        "    print(\"Sensor is now in position for measurement\")\n",
        "\n",
        "\n",
        "@task\n",
        "def move_sensor_back():\n",
        "    \"\"\"Move sensor back to charging position\"\"\"\n",
        "    assert p300 is not None\n",
        "    assert tiprack_2 is not None\n",
        "    p300.drop_tip(tiprack_2[\"A2\"].top(z=-80))\n",
        "    # p300.move_to(tiprack_2[\"A2\"].top(z=-80))\n",
        "    print(\"Sensor moved back to charging position\")\n",
        "\n",
        "\n",
        "# `SequentialTaskRunner` is used to run tasks sequentially (sync).\n",
        "@flow(name=\"main_flow\")\n",
        "def main_flow(R: int = 100, Y: int = 100, B: int = 100, mix_well: str = \"A1\"):\n",
        "    \"\"\"\n",
        "    Main flow is basically a wrapper for `mix_color` task.\n",
        "    This is because `mix_color` is now a `task` and can be used in a `flow`.\n",
        "    \"\"\"\n",
        "    # init()\n",
        "    mix_color(R, Y, B, mix_well)\n",
        "    move_sensor_to_measurement_position(mix_well)\n",
        "    move_sensor_back()\n",
        "\n",
        "\n",
        "if __name__ == \"__main__\":\n",
        "    ## Below cannot happen in Jupyter Notebook, but can be used in Python script.\n",
        "    # main_flow.serve(\n",
        "    #     name=\"my-first-deployment\",\n",
        "    #     tags=[\"onboarding\"],\n",
        "    #     parameters={\"goodbye\": True},\n",
        "    #     interval=60,\n",
        "    # )\n",
        "\n",
        "    ## That's why we use `main_flow()` directly here.\n",
        "    main_flow()"
      ]
    },
    {
      "cell_type": "markdown",
      "metadata": {},
      "source": [
        "## Code Backup"
      ]
    },
    {
      "cell_type": "code",
      "execution_count": 25,
      "metadata": {
        "id": "v7ur34mpJL09"
      },
      "outputs": [],
      "source": [
        "# # from prefect.runner.storage import GitRepository, GitCredentials\n",
        "\n",
        "# from prefect import serve\n",
        "\n",
        "# from demo import demo_flow\n",
        "# from final_state_from_task import running_flow\n",
        "\n",
        "# from ot2mqtt import mix_color, move_sensor_to_measurement_position, move_sensor_back\n",
        "\n",
        "# serve(\n",
        "#     mix_color.to_deployment(\"mix-color\"),  # generates OpenAPI schema\n",
        "#     move_sensor_to_measurement_position.to_deployment(\n",
        "#         \"move-sensor-to-measurement-position\"\n",
        "#     ),\n",
        "#     move_sensor_back.to_deployment(\"move-sensor-back\"),\n",
        "# )"
      ]
    },
    {
      "cell_type": "code",
      "execution_count": 26,
      "metadata": {
        "id": "mleZDcwYJsgM"
      },
      "outputs": [],
      "source": [
        "# test= running_flow.from_source(\n",
        "#         source=GitRepository(\n",
        "#             url=\"https://github.com/masonmenges/mm2-sanbox.git\"\n",
        "#             ),\n",
        "#         entrypoint=\"flows/final_state_from_task.py:runni\n",
        "# )"
      ]
    },
    {
      "cell_type": "markdown",
      "metadata": {
        "id": "ucgDqpUBNG-N"
      },
      "source": [
        "https://docs.prefect.io/v3/deploy/deployment-versioning#git-hub-actions"
      ]
    }
  ],
  "metadata": {
    "colab": {
      "provenance": []
    },
    "kernelspec": {
      "display_name": "Python 3",
      "language": "python",
      "name": "python3"
    },
    "language_info": {
      "codemirror_mode": {
        "name": "ipython",
        "version": 3
      },
      "file_extension": ".py",
      "mimetype": "text/x-python",
      "name": "python",
      "nbconvert_exporter": "python",
      "pygments_lexer": "ipython3",
      "version": "3.11.7"
    }
  },
  "nbformat": 4,
  "nbformat_minor": 0
}
