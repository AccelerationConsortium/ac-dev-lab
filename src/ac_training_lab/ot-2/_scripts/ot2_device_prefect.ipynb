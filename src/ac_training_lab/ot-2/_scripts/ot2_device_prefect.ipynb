{
  "cells": [
    {
      "cell_type": "code",
      "execution_count": null,
      "metadata": {
        "colab": {
          "base_uri": "https://localhost:8080/"
        },
        "id": "M_gGYddGA66a",
        "outputId": "72fd68ad-2884-43ae-dbf0-e3ba110ff538"
      },
      "outputs": [],
      "source": [
        "%pip install prefect opentrons"
      ]
    },
    {
      "cell_type": "code",
      "execution_count": null,
      "metadata": {
        "id": "hxvW1qHVFdM3"
      },
      "outputs": [],
      "source": [
        "# source: https://support.opentrons.com/s/article/Running-the-robot-using-Jupyter-Notebook\n",
        "\n",
        "# import opentrons.execute\n",
        "import opentrons.simulate  # if you want to simulate the protocol first\n",
        "\n",
        "# This is where you establish the API version for executing a protocol\n",
        "# protocol = opentrons.execute.get_protocol_api('2.11')\n",
        "# to simulate the protocol, replace opentrons.execute with opentrons.simulate\n",
        "# like so\n",
        "protocol = opentrons.simulate.get_protocol_api(\"2.16\")\n",
        "\n",
        "# Must home before running\n",
        "protocol.home()\n",
        "\n",
        "# Labware\n",
        "plate = protocol.load_labware(\"nest_96_wellplate_200ul_flat\", \"2\")\n",
        "\n",
        "tiprack_1 = protocol.load_labware(\"opentrons_96_tiprack_1000ul\", location=\"1\")\n",
        "\n",
        "# Pipette\n",
        "p1000 = protocol.load_instrument(\"p1000_single_gen2\", \"right\", tip_racks=[tiprack_1])\n",
        "\n",
        "# Protocol steps\n",
        "p1000.transfer(100, plate[\"A1\"], plate[\"A2\"])\n",
        "\n",
        "# Output steps in protocol\n",
        "for line in protocol.commands():\n",
        "    print(line)"
      ]
    },
    {
      "cell_type": "code",
      "execution_count": null,
      "metadata": {
        "id": "ZIhsXQywFxDR"
      },
      "outputs": [],
      "source": [
        "import json\n",
        "import opentrons.simulate\n",
        "from prefect import flow\n",
        "\n",
        "protocol = opentrons.simulate.get_protocol_api(\"2.16\")\n",
        "\n",
        "protocol.home()  # home the robot\n",
        "\n",
        "# Define labware and pipettes\n",
        "# Load wireless charging port\n",
        "with open(\n",
        "    \"/var/lib/jupyter/notebooks/ac_color_sensor_charging_port.json\"\n",
        ") as labware_file1:\n",
        "    labware_def1 = json.load(labware_file1)\n",
        "    tiprack_2 = protocol.load_labware_from_definition(labware_def1, 10)\n",
        "\n",
        "# Load 3x2 vials rack\n",
        "with open(\"/var/lib/jupyter/notebooks/ac_6_tuberack_15000ul.json\") as labware_file2:\n",
        "    labware_def2 = json.load(labware_file2)\n",
        "    reservoir = protocol.load_labware_from_definition(labware_def2, 3)\n",
        "\n",
        "# Load other labwares from Opentrons's labware library\n",
        "plate = protocol.load_labware(load_name=\"corning_96_wellplate_360ul_flat\", location=1)\n",
        "tiprack_1 = protocol.load_labware(load_name=\"opentrons_96_tiprack_300ul\", location=9)\n",
        "\n",
        "p300 = protocol.load_instrument(\n",
        "    instrument_name=\"p300_single_gen2\", mount=\"right\", tip_racks=[tiprack_1]\n",
        ")\n",
        "\n",
        "p300.well_bottom_clearance.dispense = 8\n",
        "\n",
        "print(\"Labwares loaded\")\n",
        "\n",
        "\n",
        "@flow\n",
        "def mix_color(R, Y, B, mix_well):\n",
        "    \"\"\"Mix colors with specified RGB values into a well\"\"\"\n",
        "    total = R + Y + B\n",
        "    if total > 300:\n",
        "        raise ValueError(\"The sum of the proportions must be not greater than 300\")\n",
        "\n",
        "    position = [\n",
        "        \"B1\",\n",
        "        \"B2\",\n",
        "        \"B3\",\n",
        "    ]  # R,Y,B paint vial on the position of the 3x2 vials rack\n",
        "    portion = {\"B1\": R, \"B2\": Y, \"B3\": B}\n",
        "\n",
        "    red_volume = R\n",
        "    yellow_volume = Y\n",
        "    blue_volume = B\n",
        "    color_volume = {\"B1\": red_volume, \"B2\": yellow_volume, \"B3\": blue_volume}\n",
        "\n",
        "    for pos in position:\n",
        "        if float(portion[pos]) != 0.0:  # if zero, skip this color aspiration process\n",
        "            p300.pick_up_tip(tiprack_1[pos])\n",
        "            p300.aspirate(color_volume[pos], reservoir[pos])\n",
        "            p300.dispense(color_volume[pos], plate[mix_well])\n",
        "            p300.default_speed = 100\n",
        "            # reduce pipette speed to prevent droplets falling, speed unit: mm/sec\n",
        "            p300.blow_out(reservoir[\"A1\"].top(z=-5))\n",
        "            p300.default_speed = (\n",
        "                400  # reset pipette speed, speed unit: mm/sec, 400 is default value\n",
        "            )\n",
        "            p300.drop_tip(tiprack_1[pos])\n",
        "\n",
        "    print(f\"Mixed R:{R}, Y:{Y}, B:{B} in well {mix_well}\")\n",
        "\n",
        "\n",
        "@flow\n",
        "def move_sensor_to_measurement_position(mix_well):\n",
        "    \"\"\"Move sensor to measurement position\"\"\"\n",
        "    # Move sensor to measurement position\n",
        "    p300.pick_up_tip(tiprack_2[\"A2\"])\n",
        "    p300.move_to(plate[mix_well].top(z=-1.3))  # z=-1.3 to get sensor closer to the well\n",
        "    print(\"Sensor is now in position for measurement\")\n",
        "\n",
        "\n",
        "@flow\n",
        "def move_sensor_back():\n",
        "    \"\"\"Move sensor back to charging position\"\"\"\n",
        "    p300.drop_tip(tiprack_2[\"A2\"].top(z=-80))\n",
        "    print(\"Sensor moved back to charging position\")\n",
        "\n",
        "\n",
        "if __name__ == \"__main__\":\n",
        "    # creates a deployment and starts a long-running\n",
        "    # process that listens for scheduled work\n",
        "    mix_color.serve(\n",
        "        name=\"my-first-deployment\",\n",
        "        tags=[\"onboarding\"],\n",
        "        parameters={\"goodbye\": True},\n",
        "        interval=60,\n",
        "    )"
      ]
    },
    {
      "cell_type": "code",
      "execution_count": null,
      "metadata": {
        "id": "v7ur34mpJL09"
      },
      "outputs": [],
      "source": [
        "# from prefect.runner.storage import GitRepository, GitCredentials\n",
        "\n",
        "from prefect import serve\n",
        "\n",
        "from demo import demo_flow\n",
        "from final_state_from_task import running_flow\n",
        "\n",
        "from ot2mqtt import mix_color, move_sensor_to_measurement_position, move_sensor_back\n",
        "\n",
        "serve(\n",
        "    mix_color.to_deployment(\"mix-color\"),  # generates OpenAPI schema\n",
        "    move_sensor_to_measurement_position.to_deployment(\n",
        "        \"move-sensor-to-measurement-position\"\n",
        "    ),\n",
        "    move_sensor_back.to_deployment(\"move-sensor-back\"),\n",
        ")"
      ]
    },
    {
      "cell_type": "code",
      "execution_count": null,
      "metadata": {
        "id": "mleZDcwYJsgM"
      },
      "outputs": [],
      "source": [
        "test= running_flow.from_source(\n",
        "        source=GitRepository(\n",
        "            url=\"https://github.com/masonmenges/mm2-sanbox.git\"\n",
        "            ),\n",
        "        entrypoint=\"flows/final_state_from_task.py:runni\n",
        ")"
      ]
    },
    {
      "cell_type": "markdown",
      "metadata": {
        "id": "ucgDqpUBNG-N"
      },
      "source": [
        "https://docs.prefect.io/v3/deploy/deployment-versioning#git-hub-actions"
      ]
    }
  ],
  "metadata": {
    "colab": {
      "provenance": []
    },
    "kernelspec": {
      "display_name": "Python 3",
      "name": "python3"
    },
    "language_info": {
      "name": "python"
    }
  },
  "nbformat": 4,
  "nbformat_minor": 0
}
