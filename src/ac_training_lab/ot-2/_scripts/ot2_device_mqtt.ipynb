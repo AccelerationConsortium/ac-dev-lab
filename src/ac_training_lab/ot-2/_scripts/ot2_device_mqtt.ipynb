{
  "cells": [
    {
      "cell_type": "code",
      "execution_count": 2,
      "metadata": {
        "colab": {
          "base_uri": "https://localhost:8080/"
        },
        "id": "ii7PAqxi0pqt",
        "outputId": "91ff30e4-033e-4280-ca2a-bcae11609eca"
      },
      "outputs": [
        {
          "name": "stdout",
          "output_type": "stream",
          "text": [
            "Requirement already satisfied: opentrons in /opt/miniconda3/envs/ac-training-lab/lib/python3.11/site-packages (8.4.0)\n",
            "Requirement already satisfied: paho-mqtt in /opt/miniconda3/envs/ac-training-lab/lib/python3.11/site-packages (2.1.0)\n",
            "Requirement already satisfied: opentrons-shared-data==8.4.0 in /opt/miniconda3/envs/ac-training-lab/lib/python3.11/site-packages (from opentrons) (8.4.0)\n",
            "Requirement already satisfied: aionotify==0.3.1 in /opt/miniconda3/envs/ac-training-lab/lib/python3.11/site-packages (from opentrons) (0.3.1)\n",
            "Requirement already satisfied: anyio<4.0.0,>=3.6.1 in /opt/miniconda3/envs/ac-training-lab/lib/python3.11/site-packages (from opentrons) (3.7.1)\n",
            "Requirement already satisfied: jsonschema<4.18.0,>=3.0.1 in /opt/miniconda3/envs/ac-training-lab/lib/python3.11/site-packages (from opentrons) (4.17.3)\n",
            "Requirement already satisfied: numpy<2,>=1.20.0 in /opt/miniconda3/envs/ac-training-lab/lib/python3.11/site-packages (from opentrons) (1.26.4)\n",
            "Requirement already satisfied: pydantic<3,>=2.0.0 in /opt/miniconda3/envs/ac-training-lab/lib/python3.11/site-packages (from opentrons) (2.11.5)\n",
            "Requirement already satisfied: pydantic-settings<3,>=2 in /opt/miniconda3/envs/ac-training-lab/lib/python3.11/site-packages (from opentrons) (2.9.1)\n",
            "Requirement already satisfied: pyserial>=3.5 in /opt/miniconda3/envs/ac-training-lab/lib/python3.11/site-packages (from opentrons) (3.5)\n",
            "Requirement already satisfied: typing-extensions<5,>=4.0.0 in /opt/miniconda3/envs/ac-training-lab/lib/python3.11/site-packages (from opentrons) (4.12.2)\n",
            "Requirement already satisfied: click<9,>=8.0.0 in /opt/miniconda3/envs/ac-training-lab/lib/python3.11/site-packages (from opentrons) (8.1.8)\n",
            "Requirement already satisfied: pyusb==1.2.1 in /opt/miniconda3/envs/ac-training-lab/lib/python3.11/site-packages (from opentrons) (1.2.1)\n",
            "Requirement already satisfied: packaging>=21.0 in /opt/miniconda3/envs/ac-training-lab/lib/python3.11/site-packages (from opentrons) (24.2)\n",
            "Requirement already satisfied: idna>=2.8 in /opt/miniconda3/envs/ac-training-lab/lib/python3.11/site-packages (from anyio<4.0.0,>=3.6.1->opentrons) (3.7)\n",
            "Requirement already satisfied: sniffio>=1.1 in /opt/miniconda3/envs/ac-training-lab/lib/python3.11/site-packages (from anyio<4.0.0,>=3.6.1->opentrons) (1.3.1)\n",
            "Requirement already satisfied: attrs>=17.4.0 in /opt/miniconda3/envs/ac-training-lab/lib/python3.11/site-packages (from jsonschema<4.18.0,>=3.0.1->opentrons) (24.3.0)\n",
            "Requirement already satisfied: pyrsistent!=0.17.0,!=0.17.1,!=0.17.2,>=0.14.0 in /opt/miniconda3/envs/ac-training-lab/lib/python3.11/site-packages (from jsonschema<4.18.0,>=3.0.1->opentrons) (0.20.0)\n",
            "Requirement already satisfied: annotated-types>=0.6.0 in /opt/miniconda3/envs/ac-training-lab/lib/python3.11/site-packages (from pydantic<3,>=2.0.0->opentrons) (0.7.0)\n",
            "Requirement already satisfied: pydantic-core==2.33.2 in /opt/miniconda3/envs/ac-training-lab/lib/python3.11/site-packages (from pydantic<3,>=2.0.0->opentrons) (2.33.2)\n",
            "Requirement already satisfied: typing-inspection>=0.4.0 in /opt/miniconda3/envs/ac-training-lab/lib/python3.11/site-packages (from pydantic<3,>=2.0.0->opentrons) (0.4.1)\n",
            "Requirement already satisfied: python-dotenv>=0.21.0 in /opt/miniconda3/envs/ac-training-lab/lib/python3.11/site-packages (from pydantic-settings<3,>=2->opentrons) (1.1.0)\n",
            "Note: you may need to restart the kernel to use updated packages.\n"
          ]
        }
      ],
      "source": [
        "%pip install opentrons paho-mqtt"
      ]
    },
    {
      "cell_type": "code",
      "execution_count": 3,
      "metadata": {
        "colab": {
          "base_uri": "https://localhost:8080/"
        },
        "id": "7IuOfTMC5gKN",
        "outputId": "87955719-84ce-40e7-9cf2-bac4b082ee6b"
      },
      "outputs": [
        {
          "name": "stderr",
          "output_type": "stream",
          "text": [
            "/Users/pod_0x000d/.opentrons/robot_settings.json not found. Loading defaults\n",
            "Deck calibration not found.\n",
            "/Users/pod_0x000d/.opentrons/deck_calibration.json not found. Loading defaults\n"
          ]
        },
        {
          "name": "stdout",
          "output_type": "stream",
          "text": [
            "Transferring 100.0 from A1 of NEST 96 Well Plate 200 µL Flat on slot 2 to A2 of NEST 96 Well Plate 200 µL Flat on slot 2\n",
            "Picking up tip from A1 of Opentrons OT-2 96 Tip Rack 1000 µL on slot 1\n",
            "Aspirating 100.0 uL from A1 of NEST 96 Well Plate 200 µL Flat on slot 2 at 274.7 uL/sec\n",
            "Dispensing 100.0 uL into A2 of NEST 96 Well Plate 200 µL Flat on slot 2 at 274.7 uL/sec\n",
            "Dropping tip into Trash Bin on slot 12\n"
          ]
        }
      ],
      "source": [
        "# source: https://support.opentrons.com/s/article/Running-the-robot-using-Jupyter-Notebook\n",
        "\n",
        "# import opentrons.execute\n",
        "import opentrons.simulate  # if you want to simulate the protocol first\n",
        "\n",
        "# This is where you establish the API version for executing a protocol\n",
        "# protocol = opentrons.execute.get_protocol_api('2.11')\n",
        "# to simulate the protocol, replace opentrons.execute with opentrons.simulate\n",
        "# like so\n",
        "protocol = opentrons.simulate.get_protocol_api(\"2.16\")\n",
        "\n",
        "# Must home before running\n",
        "protocol.home()\n",
        "\n",
        "# Labware\n",
        "plate = protocol.load_labware(\"nest_96_wellplate_200ul_flat\", \"2\")\n",
        "\n",
        "tiprack_1 = protocol.load_labware(\"opentrons_96_tiprack_1000ul\", location=\"1\")\n",
        "\n",
        "# Pipette\n",
        "p1000 = protocol.load_instrument(\"p1000_single_gen2\", \"right\", tip_racks=[tiprack_1])\n",
        "\n",
        "# Protocol steps\n",
        "p1000.transfer(100, plate[\"A1\"], plate[\"A2\"])\n",
        "\n",
        "# Output steps in protocol\n",
        "for line in protocol.commands():\n",
        "    print(line)"
      ]
    },
    {
      "cell_type": "code",
      "execution_count": 4,
      "metadata": {
        "colab": {
          "base_uri": "https://localhost:8080/"
        },
        "id": "kR9ShLre7BCl",
        "outputId": "1f63848e-f549-437b-b164-700e29969759"
      },
      "outputs": [
        {
          "name": "stdout",
          "output_type": "stream",
          "text": [
            "Cloning into 'ac-training-lab'...\n",
            "remote: Enumerating objects: 4142, done.\u001b[K\n",
            "remote: Counting objects: 100% (993/993), done.\u001b[K\n",
            "remote: Compressing objects: 100% (294/294), done.\u001b[K\n",
            "remote: Total 4142 (delta 782), reused 731 (delta 669), pack-reused 3149 (from 1)\u001b[K\n",
            "Receiving objects: 100% (4142/4142), 142.26 MiB | 3.95 MiB/s, done.\n",
            "Resolving deltas: 100% (2282/2282), done.\n"
          ]
        }
      ],
      "source": [
        "!git clone https://github.com/AccelerationConsortium/ac-training-lab.git"
      ]
    },
    {
      "cell_type": "code",
      "execution_count": 5,
      "metadata": {
        "colab": {
          "base_uri": "https://localhost:8080/"
        },
        "id": "mTrOOrmU7HQV",
        "outputId": "867ea545-5934-4e1b-e798-60c78b99feca"
      },
      "outputs": [
        {
          "name": "stdout",
          "output_type": "stream",
          "text": [
            "[Errno 2] No such file or directory: '/content/ac-training-lab/src/ac_training_lab/ot-2/_scripts/'\n",
            "/Users/pod_0x000d/Documents/GitHub/ac-training-lab/src/ac_training_lab/ot-2/_scripts\n"
          ]
        }
      ],
      "source": [
        "%cd /content/ac-training-lab/src/ac_training_lab/ot-2/_scripts/"
      ]
    },
    {
      "cell_type": "code",
      "execution_count": 6,
      "metadata": {
        "colab": {
          "background_save": true,
          "base_uri": "https://localhost:8080/"
        },
        "id": "beWmYtFn6bKD",
        "outputId": "b5e3726a-7d79-4cd0-8b15-bf0612c7638d"
      },
      "outputs": [
        {
          "name": "stderr",
          "output_type": "stream",
          "text": [
            "/Users/pod_0x000d/.opentrons/robot_settings.json not found. Loading defaults\n",
            "Deck calibration not found.\n",
            "/Users/pod_0x000d/.opentrons/deck_calibration.json not found. Loading defaults\n",
            "/var/folders/wr/_t87_gmn2vgcds3jc_6s_rvh0000gn/T/ipykernel_38335/1346039369.py:28: DeprecationWarning: Callback API version 1 is deprecated, update to latest version\n",
            "  client = mqtt.Client()\n"
          ]
        },
        {
          "name": "stdout",
          "output_type": "stream",
          "text": [
            "MQTT client connected\n",
            "Labwares loaded\n",
            "OT-2 is waiting for command\n",
            "Connected to MQTT Broker with result code 0\n"
          ]
        },
        {
          "ename": "KeyboardInterrupt",
          "evalue": "",
          "output_type": "error",
          "traceback": [
            "\u001b[31m---------------------------------------------------------------------------\u001b[39m",
            "\u001b[31mKeyboardInterrupt\u001b[39m                         Traceback (most recent call last)",
            "\u001b[36mCell\u001b[39m\u001b[36m \u001b[39m\u001b[32mIn[6]\u001b[39m\u001b[32m, line 187\u001b[39m\n\u001b[32m    185\u001b[39m \u001b[38;5;28;01mwhile\u001b[39;00m \u001b[38;5;28;01mTrue\u001b[39;00m:\n\u001b[32m    186\u001b[39m     \u001b[38;5;28;01mtry\u001b[39;00m:\n\u001b[32m--> \u001b[39m\u001b[32m187\u001b[39m         command = command_queue.get(timeout=\u001b[32m1\u001b[39m)\n\u001b[32m    188\u001b[39m         \u001b[38;5;28mprint\u001b[39m(\u001b[33mf\u001b[39m\u001b[33m\"\u001b[39m\u001b[33mProcessing command from queue: \u001b[39m\u001b[38;5;132;01m{\u001b[39;00mcommand\u001b[38;5;132;01m}\u001b[39;00m\u001b[33m\"\u001b[39m)\n\u001b[32m    190\u001b[39m         \u001b[38;5;28;01mif\u001b[39;00m \u001b[33m\"\u001b[39m\u001b[33mcommand\u001b[39m\u001b[33m\"\u001b[39m \u001b[38;5;129;01min\u001b[39;00m command \u001b[38;5;129;01mand\u001b[39;00m \u001b[33m\"\u001b[39m\u001b[33mexperiment_id\u001b[39m\u001b[33m\"\u001b[39m \u001b[38;5;129;01min\u001b[39;00m command:\n",
            "\u001b[36mFile \u001b[39m\u001b[32m/opt/miniconda3/envs/ac-training-lab/lib/python3.11/queue.py:180\u001b[39m, in \u001b[36mQueue.get\u001b[39m\u001b[34m(self, block, timeout)\u001b[39m\n\u001b[32m    178\u001b[39m         \u001b[38;5;28;01mif\u001b[39;00m remaining <= \u001b[32m0.0\u001b[39m:\n\u001b[32m    179\u001b[39m             \u001b[38;5;28;01mraise\u001b[39;00m Empty\n\u001b[32m--> \u001b[39m\u001b[32m180\u001b[39m         \u001b[38;5;28mself\u001b[39m.not_empty.wait(remaining)\n\u001b[32m    181\u001b[39m item = \u001b[38;5;28mself\u001b[39m._get()\n\u001b[32m    182\u001b[39m \u001b[38;5;28mself\u001b[39m.not_full.notify()\n",
            "\u001b[36mFile \u001b[39m\u001b[32m/opt/miniconda3/envs/ac-training-lab/lib/python3.11/threading.py:331\u001b[39m, in \u001b[36mCondition.wait\u001b[39m\u001b[34m(self, timeout)\u001b[39m\n\u001b[32m    329\u001b[39m \u001b[38;5;28;01melse\u001b[39;00m:\n\u001b[32m    330\u001b[39m     \u001b[38;5;28;01mif\u001b[39;00m timeout > \u001b[32m0\u001b[39m:\n\u001b[32m--> \u001b[39m\u001b[32m331\u001b[39m         gotit = waiter.acquire(\u001b[38;5;28;01mTrue\u001b[39;00m, timeout)\n\u001b[32m    332\u001b[39m     \u001b[38;5;28;01melse\u001b[39;00m:\n\u001b[32m    333\u001b[39m         gotit = waiter.acquire(\u001b[38;5;28;01mFalse\u001b[39;00m)\n",
            "\u001b[31mKeyboardInterrupt\u001b[39m: "
          ]
        },
        {
          "name": "stdout",
          "output_type": "stream",
          "text": [
            "Received message on topic command/ot2/OT2CEP20240218R04/pipette: {\"command\": {\"R\": 67, \"Y\": 122, \"B\": 90, \"well\": \"B5\"}, \"experiment_id\": \"3c37ac25\", \"session_id\": \"sgbaird\"}\n",
            "Received message on topic command/ot2/OT2CEP20240218R04/pipette: {\"command\": {\"sensor_status\": \"read\"}, \"experiment_id\": \"3c37ac25\", \"session_id\": \"sgbaird\"}\n"
          ]
        }
      ],
      "source": [
        "import json\n",
        "from queue import Empty, Queue\n",
        "from time import sleep\n",
        "\n",
        "# import opentrons.execute\n",
        "import opentrons.simulate\n",
        "import paho.mqtt.client as mqtt\n",
        "\n",
        "\n",
        "# protocol = opentrons.execute.get_protocol_api(\"2.16\")\n",
        "protocol = opentrons.simulate.get_protocol_api(\"2.16\")\n",
        "\n",
        "OT2_SERIAL = \"OT2CEP20240218R04\"\n",
        "PICO_ID = \"e66130100f895134\"\n",
        "\n",
        "# MQTT Broker Configuration\n",
        "host = \"248cc294c37642359297f75b7b023374.s2.eu.hivemq.cloud\"\n",
        "username = \"sgbaird\"\n",
        "password = \"D.Pq5gYtejYbU#L\"\n",
        "port = 8883\n",
        "\n",
        "OT2_COMMAND_TOPIC = f\"command/ot2/{OT2_SERIAL}/pipette\"\n",
        "OT2_STATUS_TOPIC = f\"status/ot2/{OT2_SERIAL}/complete\"\n",
        "# SENSOR_COMMAND_TOPIC = f\"command/picow/{PICO_ID}/as7341/read\"\n",
        "# SENSOR_DATA_TOPIC = f\"color-mixing/picow/{PICO_ID}/as7341\"\n",
        "\n",
        "# Initialize MQTT client and sensor data queue\n",
        "client = mqtt.Client()\n",
        "client.tls_set(tls_version=mqtt.ssl.PROTOCOL_TLS_CLIENT)  # type: ignore\n",
        "client.username_pw_set(username, password)\n",
        "\n",
        "command_queue = Queue()\n",
        "\n",
        "\n",
        "# MQTT Callbacks\n",
        "def on_connect(client, userdata, flags, rc):\n",
        "    print(\"Connected to MQTT Broker with result code\", rc)\n",
        "    client.subscribe(OT2_COMMAND_TOPIC, qos=2)\n",
        "\n",
        "\n",
        "def on_message(client, userdata, msg):\n",
        "    payload = msg.payload.decode(\"utf-8\")\n",
        "    print(f\"Received message on topic {msg.topic}: {payload}\")\n",
        "    try:\n",
        "        payload = json.loads(payload)\n",
        "        if msg.topic == OT2_COMMAND_TOPIC:\n",
        "            command_queue.put(payload)\n",
        "\n",
        "    except json.JSONDecodeError as e:\n",
        "        print(f\"Failed to decode JSON payload: {e}\")\n",
        "\n",
        "\n",
        "client.on_connect = on_connect\n",
        "client.on_message = on_message\n",
        "client.connect(host, port)\n",
        "client.loop_start()\n",
        "\n",
        "print(\"MQTT client connected\")\n",
        "\n",
        "protocol.home()  # home to know MQTT cilent is connected\n",
        "# Define labware and pipettes\n",
        "\n",
        "# changed file path before nohup run\n",
        "# load wireless charging port\n",
        "with open(\n",
        "    # \"/var/lib/jupyter/notebooks/ac_color_sensor_charging_port.json\"\n",
        "    \"ac_color_sensor_charging_port.json\"\n",
        ") as labware_file1:\n",
        "    labware_def1 = json.load(labware_file1)\n",
        "    tiprack_2 = protocol.load_labware_from_definition(labware_def1, 10)\n",
        "# load 3x2 vials rack\n",
        "with open(\"ac_6_tuberack_15000ul.json\") as labware_file2:\n",
        "    # with open(\"/var/lib/jupyter/notebooks/ac_6_tuberack_15000ul.json\") as labware_file2:\n",
        "    labware_def2 = json.load(labware_file2)\n",
        "    reservoir = protocol.load_labware_from_definition(labware_def2, 3)\n",
        "# load other labwares from Opentrons's labware library\n",
        "plate = protocol.load_labware(load_name=\"corning_96_wellplate_360ul_flat\", location=1)\n",
        "\n",
        "tiprack_1 = protocol.load_labware(load_name=\"opentrons_96_tiprack_300ul\", location=9)\n",
        "\n",
        "p300 = protocol.load_instrument(\n",
        "    instrument_name=\"p300_single_gen2\", mount=\"right\", tip_racks=[tiprack_1]\n",
        ")\n",
        "\n",
        "p300.well_bottom_clearance.dispense = 8\n",
        "\n",
        "\n",
        "print(\"Labwares loaded\")\n",
        "\n",
        "\n",
        "# this includes a 3-color mix and a measurement\n",
        "def mix_color(payload):\n",
        "    R = payload[\"command\"][\"R\"]\n",
        "    Y = payload[\"command\"][\"Y\"]\n",
        "    B = payload[\"command\"][\"B\"]\n",
        "    mix_well = payload[\"command\"][\"well\"]\n",
        "    session_id = payload[\"session_id\"]\n",
        "    experiment_id = payload[\"experiment_id\"]\n",
        "\n",
        "    total = R + Y + B\n",
        "    if total > 300:\n",
        "        raise ValueError(\"The sum of the proportions must be not greater than 300\")\n",
        "\n",
        "    position = [\n",
        "        \"B1\",\n",
        "        \"B2\",\n",
        "        \"B3\",\n",
        "    ]  # R,Y,B paint vial on the position of the 3x2 vials rack\n",
        "    portion = {\"B1\": R, \"B2\": Y, \"B3\": B}\n",
        "    # total_volume = 280\n",
        "    red_volume = R  # int(portion[\"B1\"] * total_volume)\n",
        "    yellow_volume = Y  # int(portion[\"B2\"] * total_volume)\n",
        "    blue_volume = B  # int(portion[\"B3\"] * total_volume)\n",
        "    color_volume = {\"B1\": red_volume, \"B2\": yellow_volume, \"B3\": blue_volume}\n",
        "\n",
        "    for pos in position:\n",
        "        if float(portion[pos]) != 0.0:  # if zero, skip this color aspiration process\n",
        "            p300.pick_up_tip(tiprack_1[pos])\n",
        "            p300.aspirate(color_volume[pos], reservoir[pos])\n",
        "            p300.dispense(color_volume[pos], plate[mix_well])\n",
        "            p300.default_speed = 100\n",
        "            # reduce pipette speed to prevent droplets falling, speed unit: mm/sec\n",
        "            p300.blow_out(reservoir[\"A1\"].top(z=-5))\n",
        "            p300.default_speed = (\n",
        "                400  # reset pipette speed, speed unit: mm/sec, 400 is default value\n",
        "            )\n",
        "            p300.drop_tip(tiprack_1[pos])\n",
        "\n",
        "    p300.pick_up_tip(tiprack_2[\"A2\"])\n",
        "    p300.move_to(\n",
        "        plate[mix_well].top(z=-1.3)\n",
        "    )  # z=-1.3 to get sensor closer to the well, can change this value depends on\n",
        "    # the fitting of the pick-up fake tip on the sensor package.\n",
        "\n",
        "    # payloadtosent = json.dumps(payload)\n",
        "    # print(\"Sending read command to sensor...\")\n",
        "    # client.publish(SENSOR_COMMAND_TOPIC, payloadtosent, qos=2)\n",
        "\n",
        "    print(\"Sending status to HF...\")\n",
        "    payload_data = {\n",
        "        \"status\": {\"sensor_status\": \"in_place\"},\n",
        "        \"experiment_id\": experiment_id,\n",
        "        \"session_id\": session_id,\n",
        "    }\n",
        "    payload = json.dumps(payload_data)\n",
        "    client.publish(OT2_STATUS_TOPIC, payload, qos=2)  # send a status message back to HF\n",
        "\n",
        "\n",
        "def move_sensor_back(payload):\n",
        "    results_status = payload[\"command\"][\"sensor_status\"]\n",
        "    session_id = payload[\"session_id\"]\n",
        "    experiment_id = payload[\"experiment_id\"]\n",
        "\n",
        "    p300.drop_tip(tiprack_2[\"A2\"].top(z=-80))\n",
        "    # protocol.home()\n",
        "\n",
        "    payload_data = {\n",
        "        \"status\": {\"sensor_status\": \"charging\"},\n",
        "        \"experiment_id\": experiment_id,\n",
        "        \"session_id\": session_id,\n",
        "    }\n",
        "    payload = json.dumps(payload_data)\n",
        "    client.publish(OT2_STATUS_TOPIC, payload, qos=2)  # send a status message back to HF\n",
        "\n",
        "    if results_status == \"sensor_timeout\":\n",
        "        protocol.home()\n",
        "\n",
        "\n",
        "def handle_command(payload):\n",
        "\n",
        "    if {\"R\", \"Y\", \"B\", \"well\"}.issubset(payload[\"command\"].keys()):\n",
        "        print(f\"Handling mix command: {payload}\")\n",
        "        mix_color(payload)\n",
        "\n",
        "    elif {\"sensor_status\"}.issubset(payload[\"command\"].keys()):\n",
        "        print(\"Sensor measure complete\")\n",
        "        move_sensor_back(payload)\n",
        "\n",
        "\n",
        "print(\"OT-2 is waiting for command\")\n",
        "protocol.home()  # home to know OT-2 is ready\n",
        "\n",
        "\n",
        "# Keep protocol active\n",
        "while True:\n",
        "    try:\n",
        "        command = command_queue.get(timeout=1)\n",
        "        print(f\"Processing command from queue: {command}\")\n",
        "\n",
        "        if \"command\" in command and \"experiment_id\" in command:\n",
        "            try:\n",
        "                handle_command(command)\n",
        "            except Exception as e:\n",
        "                print(f\"Error processing command: {e}\")\n",
        "    except Empty:\n",
        "\n",
        "        pass\n",
        "\n",
        "    except Exception as e:\n",
        "\n",
        "        print(f\"Unexpected error in main loop: {e}\")\n",
        "    sleep(1)"
      ]
    },
    {
      "cell_type": "markdown",
      "metadata": {
        "id": "GwsJurpS6Axd"
      },
      "source": [
        "## Code Graveyard"
      ]
    },
    {
      "cell_type": "code",
      "execution_count": null,
      "metadata": {
        "id": "Nx7ofma96MIw"
      },
      "outputs": [],
      "source": [
        "# %%writefile protocol_gui.py\n",
        "\n",
        "# https://docs.opentrons.com/v2/\n",
        "\n",
        "# from opentrons import protocol_api\n",
        "\n",
        "# # metadata\n",
        "# metadata = {\n",
        "#     \"protocolName\": \"My Protocol\",\n",
        "#     \"author\": \"Name <opentrons@example.com>\",\n",
        "#     \"description\": \"Simple protocol to get started using the OT-2\",\n",
        "# }\n",
        "\n",
        "# # requirements\n",
        "# requirements = {\"robotType\": \"OT-2\", \"apiLevel\": \"2.22\"}\n",
        "\n",
        "# # protocol run function\n",
        "# def run(protocol: protocol_api.ProtocolContext):\n",
        "#     # labware\n",
        "#     plate = protocol.load_labware(\n",
        "#         \"corning_96_wellplate_360ul_flat\", location=\"1\"\n",
        "#     )\n",
        "#     tiprack = protocol.load_labware(\n",
        "#         \"opentrons_96_tiprack_300ul\", location=\"2\"\n",
        "#     )\n",
        "\n",
        "#     # pipettes\n",
        "#     left_pipette = protocol.load_instrument(\n",
        "#         \"p300_single\", mount=\"left\", tip_racks=[tiprack]\n",
        "#     )\n",
        "\n",
        "#     # commands\n",
        "#     left_pipette.pick_up_tip()\n",
        "#     left_pipette.aspirate(100, plate[\"A1\"])\n",
        "#     left_pipette.dispense(100, plate[\"B2\"])\n",
        "#     left_pipette.drop_tip()\n",
        "\n",
        "# # Usage: `!opentrons_simulate protocol_gui.py`"
      ]
    },
    {
      "cell_type": "code",
      "execution_count": null,
      "metadata": {
        "id": "GDULXqsX6CMc"
      },
      "outputs": [],
      "source": [
        "# %%writefile protocol_execute.py\n",
        "# import opentrons.execute\n",
        "\n",
        "# protocol = opentrons.execute.get_protocol_api(\"2.16\")"
      ]
    },
    {
      "cell_type": "code",
      "execution_count": null,
      "metadata": {
        "id": "eGwnhd1u6Dd3"
      },
      "outputs": [],
      "source": [
        "# > !opentrons_simulate protocol_execute.py\n",
        "\n",
        "# Traceback (most recent call last):\n",
        "#   File \"/usr/local/bin/opentrons_simulate\", line 8, in <module>\n",
        "#     sys.exit(main())\n",
        "#              ^^^^^^\n",
        "#   File \"/usr/local/lib/python3.11/dist-packages/opentrons/simulate.py\", line 1022, in main\n",
        "#     runlog, maybe_bundle = simulate(\n",
        "#                            ^^^^^^^^^\n",
        "#   File \"/usr/local/lib/python3.11/dist-packages/opentrons/simulate.py\", line 536, in simulate\n",
        "#     protocol = parse.parse(\n",
        "#                ^^^^^^^^^^^^\n",
        "#   File \"/usr/local/lib/python3.11/dist-packages/opentrons/protocols/parse.py\", line 346, in parse\n",
        "#     return _parse_python(\n",
        "#            ^^^^^^^^^^^^^^\n",
        "#   File \"/usr/local/lib/python3.11/dist-packages/opentrons/protocols/parse.py\", line 254, in _parse_python\n",
        "#     version = _get_version(static_info, parsed, ast_filename)\n",
        "#               ^^^^^^^^^^^^^^^^^^^^^^^^^^^^^^^^^^^^^^^^^^^^^^^\n",
        "#   File \"/usr/local/lib/python3.11/dist-packages/opentrons/protocols/parse.py\", line 571, in _get_version\n",
        "#     raise MalformedPythonProtocolError(\n",
        "# opentrons.protocols.types.MalformedPythonProtocolError: apiLevel not declared in protocol_execute.py. You must specify the target API version in the apiLevel key of the metadata dict. For instance, metadata={\"apiLevel\": \"2.0\"}"
      ]
    }
  ],
  "metadata": {
    "colab": {
      "provenance": []
    },
    "kernelspec": {
      "display_name": "ac-training-lab",
      "language": "python",
      "name": "python3"
    },
    "language_info": {
      "codemirror_mode": {
        "name": "ipython",
        "version": 3
      },
      "file_extension": ".py",
      "mimetype": "text/x-python",
      "name": "python",
      "nbconvert_exporter": "python",
      "pygments_lexer": "ipython3",
      "version": "3.11.11"
    }
  },
  "nbformat": 4,
  "nbformat_minor": 0
}
