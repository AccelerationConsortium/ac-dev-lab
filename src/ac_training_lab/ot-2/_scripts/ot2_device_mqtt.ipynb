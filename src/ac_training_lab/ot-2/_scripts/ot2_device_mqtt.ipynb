{
  "nbformat": 4,
  "nbformat_minor": 0,
  "metadata": {
    "colab": {
      "provenance": []
    },
    "kernelspec": {
      "name": "python3",
      "display_name": "Python 3"
    },
    "language_info": {
      "name": "python"
    }
  },
  "cells": [
    {
      "cell_type": "code",
      "execution_count": 1,
      "metadata": {
        "colab": {
          "base_uri": "https://localhost:8080/"
        },
        "id": "6XaSSfhvkHEx",
        "outputId": "cc29db82-e945-4cf9-ba66-2410228bafc9"
      },
      "outputs": [
        {
          "output_type": "stream",
          "name": "stdout",
          "text": [
            "Requirement already satisfied: opentrons in /usr/local/lib/python3.11/dist-packages (8.5.0)\n",
            "Requirement already satisfied: paho-mqtt in /usr/local/lib/python3.11/dist-packages (2.1.0)\n",
            "Requirement already satisfied: opentrons-shared-data==8.5.0 in /usr/local/lib/python3.11/dist-packages (from opentrons) (8.5.0)\n",
            "Requirement already satisfied: aionotify==0.3.1 in /usr/local/lib/python3.11/dist-packages (from opentrons) (0.3.1)\n",
            "Requirement already satisfied: anyio<4.0.0,>=3.6.1 in /usr/local/lib/python3.11/dist-packages (from opentrons) (3.7.1)\n",
            "Requirement already satisfied: jsonschema<4.18.0,>=3.0.1 in /usr/local/lib/python3.11/dist-packages (from opentrons) (4.17.3)\n",
            "Requirement already satisfied: numpy<2,>=1.20.0 in /usr/local/lib/python3.11/dist-packages (from opentrons) (1.26.4)\n",
            "Requirement already satisfied: pydantic<3,>=2.0.0 in /usr/local/lib/python3.11/dist-packages (from opentrons) (2.11.7)\n",
            "Requirement already satisfied: pydantic-settings<3,>=2 in /usr/local/lib/python3.11/dist-packages (from opentrons) (2.10.1)\n",
            "Requirement already satisfied: pyserial>=3.5 in /usr/local/lib/python3.11/dist-packages (from opentrons) (3.5)\n",
            "Requirement already satisfied: typing-extensions<5,>=4.0.0 in /usr/local/lib/python3.11/dist-packages (from opentrons) (4.14.1)\n",
            "Requirement already satisfied: click<9,>=8.0.0 in /usr/local/lib/python3.11/dist-packages (from opentrons) (8.2.1)\n",
            "Requirement already satisfied: pyusb==1.2.1 in /usr/local/lib/python3.11/dist-packages (from opentrons) (1.2.1)\n",
            "Requirement already satisfied: packaging>=21.0 in /usr/local/lib/python3.11/dist-packages (from opentrons) (25.0)\n",
            "Requirement already satisfied: idna>=2.8 in /usr/local/lib/python3.11/dist-packages (from anyio<4.0.0,>=3.6.1->opentrons) (3.10)\n",
            "Requirement already satisfied: sniffio>=1.1 in /usr/local/lib/python3.11/dist-packages (from anyio<4.0.0,>=3.6.1->opentrons) (1.3.1)\n",
            "Requirement already satisfied: attrs>=17.4.0 in /usr/local/lib/python3.11/dist-packages (from jsonschema<4.18.0,>=3.0.1->opentrons) (25.3.0)\n",
            "Requirement already satisfied: pyrsistent!=0.17.0,!=0.17.1,!=0.17.2,>=0.14.0 in /usr/local/lib/python3.11/dist-packages (from jsonschema<4.18.0,>=3.0.1->opentrons) (0.20.0)\n",
            "Requirement already satisfied: annotated-types>=0.6.0 in /usr/local/lib/python3.11/dist-packages (from pydantic<3,>=2.0.0->opentrons) (0.7.0)\n",
            "Requirement already satisfied: pydantic-core==2.33.2 in /usr/local/lib/python3.11/dist-packages (from pydantic<3,>=2.0.0->opentrons) (2.33.2)\n",
            "Requirement already satisfied: typing-inspection>=0.4.0 in /usr/local/lib/python3.11/dist-packages (from pydantic<3,>=2.0.0->opentrons) (0.4.1)\n",
            "Requirement already satisfied: python-dotenv>=0.21.0 in /usr/local/lib/python3.11/dist-packages (from pydantic-settings<3,>=2->opentrons) (1.1.1)\n"
          ]
        }
      ],
      "source": [
        "%pip install opentrons paho-mqtt"
      ]
    },
    {
      "cell_type": "code",
      "source": [
        "# source: https://support.opentrons.com/s/article/Running-the-robot-using-Jupyter-Notebook\n",
        "\n",
        "# import opentrons.execute\n",
        "import opentrons.simulate  # if you want to simulate the protocol first\n",
        "\n",
        "# This is where you establish the API version for executing a protocol\n",
        "# protocol = opentrons.execute.get_protocol_api('2.11')\n",
        "# to simulate the protocol, replace opentrons.execute with opentrons.simulate\n",
        "# like so\n",
        "protocol = opentrons.simulate.get_protocol_api(\"2.12\")\n",
        "\n",
        "# Must home before running\n",
        "protocol.home()\n",
        "\n",
        "# Labware\n",
        "plate = protocol.load_labware(\"nest_96_wellplate_200ul_flat\", \"2\")\n",
        "\n",
        "tiprack_1 = protocol.load_labware(\"opentrons_96_tiprack_1000ul\", location=\"1\")\n",
        "\n",
        "# Pipette\n",
        "p1000 = protocol.load_instrument(\"p1000_single_gen2\", \"right\", tip_racks=[tiprack_1])\n",
        "\n",
        "# Protocol steps\n",
        "p1000.transfer(100, plate[\"A1\"], plate[\"A2\"])\n",
        "\n",
        "# Output steps in protocol\n",
        "for line in protocol.commands():\n",
        "    print(line)"
      ],
      "metadata": {
        "colab": {
          "base_uri": "https://localhost:8080/"
        },
        "id": "yaB2uGeekSBi",
        "outputId": "c3283935-e0e1-4197-b4b7-64898238762f"
      },
      "execution_count": 7,
      "outputs": [
        {
          "output_type": "stream",
          "name": "stderr",
          "text": [
            "WARNING:opentrons.config.robot_configs:/root/.opentrons/robot_settings.json not found. Loading defaults\n",
            "WARNING:opentrons.calibration_storage.ot2.deck_attitude:Deck calibration not found.\n",
            "WARNING:opentrons.config.robot_configs:/root/.opentrons/deck_calibration.json not found. Loading defaults\n"
          ]
        },
        {
          "output_type": "stream",
          "name": "stdout",
          "text": [
            "Transferring 100.0 from A1 of NEST 96 Well Plate 200 µL Flat on 2 to A2 of NEST 96 Well Plate 200 µL Flat on 2\n",
            "Picking up tip from A1 of Opentrons OT-2 96 Tip Rack 1000 µL on 1\n",
            "Aspirating 100.0 uL from A1 of NEST 96 Well Plate 200 µL Flat on 2 at 274.7 uL/sec\n",
            "Dispensing 100.0 uL into A2 of NEST 96 Well Plate 200 µL Flat on 2 at 274.7 uL/sec\n",
            "Dropping tip into A1 of Opentrons Fixed Trash on 12\n"
          ]
        }
      ]
    },
    {
      "cell_type": "code",
      "source": [
        "!git clone https://github.com/AccelerationConsortium/ac-training-lab.git"
      ],
      "metadata": {
        "colab": {
          "base_uri": "https://localhost:8080/"
        },
        "id": "Yby43WeokVFX",
        "outputId": "f383b264-5e4e-497b-898c-7ac6f6612d7a"
      },
      "execution_count": 3,
      "outputs": [
        {
          "output_type": "stream",
          "name": "stdout",
          "text": [
            "Cloning into 'ac-training-lab'...\n",
            "remote: Enumerating objects: 6019, done.\u001b[K\n",
            "remote: Counting objects: 100% (1383/1383), done.\u001b[K\n",
            "remote: Compressing objects: 100% (417/417), done.\u001b[K\n",
            "remote: Total 6019 (delta 1113), reused 1008 (delta 947), pack-reused 4636 (from 3)\u001b[K\n",
            "Receiving objects: 100% (6019/6019), 160.78 MiB | 27.75 MiB/s, done.\n",
            "Resolving deltas: 100% (3246/3246), done.\n"
          ]
        }
      ]
    },
    {
      "cell_type": "code",
      "source": [
        "%cd /content/ac-training-lab/src/ac_training_lab/ot-2/_scripts/"
      ],
      "metadata": {
        "colab": {
          "base_uri": "https://localhost:8080/"
        },
        "id": "F9MS1IkgkX3j",
        "outputId": "f96f4892-6002-42b9-fea5-2c95f165c339"
      },
      "execution_count": 4,
      "outputs": [
        {
          "output_type": "stream",
          "name": "stdout",
          "text": [
            "/content/ac-training-lab/src/ac_training_lab/ot-2/_scripts\n"
          ]
        }
      ]
    },
    {
      "cell_type": "code",
      "source": [
        "import json\n",
        "from queue import Empty, Queue\n",
        "from time import sleep\n",
        "\n",
        "# import opentrons.execute\n",
        "import opentrons.simulate\n",
        "import paho.mqtt.client as mqtt\n",
        "\n",
        "\n",
        "# protocol = opentrons.execute.get_protocol_api(\"2.16\")\n",
        "protocol = opentrons.simulate.get_protocol_api(\"2.12\")\n",
        "\n",
        "OT2_SERIAL = \"OT2CEP20240218R04\"\n",
        "PICO_ID = \"e66130100f895134\"\n",
        "\n",
        "# MQTT Broker Configuration\n",
        "host = \"248cc294c37642359297f75b7b023374.s2.eu.hivemq.cloud\"\n",
        "username = \"sgbaird\"\n",
        "password = \"D.Pq5gYtejYbU#L\"\n",
        "port = 8883\n",
        "\n",
        "OT2_COMMAND_TOPIC = f\"command/ot2/{OT2_SERIAL}/pipette\"\n",
        "OT2_STATUS_TOPIC = f\"status/ot2/{OT2_SERIAL}/complete\"\n",
        "# SENSOR_COMMAND_TOPIC = f\"command/picow/{PICO_ID}/as7341/read\"\n",
        "# SENSOR_DATA_TOPIC = f\"color-mixing/picow/{PICO_ID}/as7341\"\n",
        "\n",
        "# Initialize MQTT client and sensor data queue\n",
        "client = mqtt.Client()\n",
        "client.tls_set(tls_version=mqtt.ssl.PROTOCOL_TLS_CLIENT)  # type: ignore\n",
        "client.username_pw_set(username, password)\n",
        "\n",
        "command_queue = Queue()\n",
        "\n",
        "\n",
        "# MQTT Callbacks\n",
        "def on_connect(client, userdata, flags, rc):\n",
        "    print(\"Connected to MQTT Broker with result code\", rc)\n",
        "    client.subscribe(OT2_COMMAND_TOPIC, qos=2)\n",
        "\n",
        "\n",
        "def on_message(client, userdata, msg):\n",
        "    payload = msg.payload.decode(\"utf-8\")\n",
        "    print(f\"Received message on topic {msg.topic}: {payload}\")\n",
        "    try:\n",
        "        payload = json.loads(payload)\n",
        "        if msg.topic == OT2_COMMAND_TOPIC:\n",
        "            command_queue.put(payload)\n",
        "\n",
        "    except json.JSONDecodeError as e:\n",
        "        print(f\"Failed to decode JSON payload: {e}\")\n",
        "\n",
        "\n",
        "client.on_connect = on_connect\n",
        "client.on_message = on_message\n",
        "client.connect(host, port)\n",
        "client.loop_start()\n",
        "\n",
        "print(\"MQTT client connected\")\n",
        "\n",
        "protocol.home()  # home to know MQTT cilent is connected\n",
        "# Define labware and pipettes\n",
        "\n",
        "# changed file path before nohup run\n",
        "# load wireless charging port\n",
        "with open(\n",
        "    # \"/var/lib/jupyter/notebooks/ac_color_sensor_charging_port.json\"\n",
        "    \"ac_color_sensor_charging_port.json\"\n",
        ") as labware_file1:\n",
        "    labware_def1 = json.load(labware_file1)\n",
        "    tiprack_2 = protocol.load_labware_from_definition(labware_def1, 10)\n",
        "# load 3x2 vials rack\n",
        "with open(\"ac_6_tuberack_15000ul.json\") as labware_file2:\n",
        "    # with open(\"/var/lib/jupyter/notebooks/ac_6_tuberack_15000ul.json\") as labware_file2:\n",
        "    labware_def2 = json.load(labware_file2)\n",
        "    reservoir = protocol.load_labware_from_definition(labware_def2, 3)\n",
        "# load other labwares from Opentrons's labware library\n",
        "plate = protocol.load_labware(load_name=\"corning_96_wellplate_360ul_flat\", location=1)\n",
        "\n",
        "tiprack_1 = protocol.load_labware(load_name=\"opentrons_96_tiprack_300ul\", location=9)\n",
        "\n",
        "p300 = protocol.load_instrument(\n",
        "    instrument_name=\"p300_single_gen2\", mount=\"right\", tip_racks=[tiprack_1]\n",
        ")\n",
        "\n",
        "p300.well_bottom_clearance.dispense = 8\n",
        "\n",
        "\n",
        "print(\"Labwares loaded\")\n",
        "\n",
        "\n",
        "# this includes a 3-color mix and a measurement\n",
        "def mix_color(payload):\n",
        "    R = payload[\"command\"][\"R\"]\n",
        "    Y = payload[\"command\"][\"Y\"]\n",
        "    B = payload[\"command\"][\"B\"]\n",
        "    mix_well = payload[\"command\"][\"well\"]\n",
        "    session_id = payload[\"session_id\"]\n",
        "    experiment_id = payload[\"experiment_id\"]\n",
        "\n",
        "    total = R + Y + B\n",
        "    if total > 300:\n",
        "        raise ValueError(\"The sum of the proportions must be not greater than 300\")\n",
        "\n",
        "    position = [\n",
        "        \"B1\",\n",
        "        \"B2\",\n",
        "        \"B3\",\n",
        "    ]  # R,Y,B paint vial on the position of the 3x2 vials rack\n",
        "    portion = {\"B1\": R, \"B2\": Y, \"B3\": B}\n",
        "    # total_volume = 280\n",
        "    red_volume = R  # int(portion[\"B1\"] * total_volume)\n",
        "    yellow_volume = Y  # int(portion[\"B2\"] * total_volume)\n",
        "    blue_volume = B  # int(portion[\"B3\"] * total_volume)\n",
        "    color_volume = {\"B1\": red_volume, \"B2\": yellow_volume, \"B3\": blue_volume}\n",
        "\n",
        "    for pos in position:\n",
        "        if float(portion[pos]) != 0.0:  # if zero, skip this color aspiration process\n",
        "            p300.pick_up_tip(tiprack_1[pos])\n",
        "            p300.aspirate(color_volume[pos], reservoir[pos])\n",
        "            p300.dispense(color_volume[pos], plate[mix_well])\n",
        "            p300.default_speed = 100\n",
        "            # reduce pipette speed to prevent droplets falling, speed unit: mm/sec\n",
        "            p300.blow_out(reservoir[\"A1\"].top(z=-5))\n",
        "            p300.default_speed = (\n",
        "                400  # reset pipette speed, speed unit: mm/sec, 400 is default value\n",
        "            )\n",
        "            p300.drop_tip(tiprack_1[pos])\n",
        "\n",
        "    p300.pick_up_tip(tiprack_2[\"A2\"])\n",
        "    p300.move_to(\n",
        "        plate[mix_well].top(z=-1.3)\n",
        "    )  # z=-1.3 to get sensor closer to the well, can change this value depends on\n",
        "    # the fitting of the pick-up fake tip on the sensor package.\n",
        "\n",
        "    # payloadtosent = json.dumps(payload)\n",
        "    # print(\"Sending read command to sensor...\")\n",
        "    # client.publish(SENSOR_COMMAND_TOPIC, payloadtosent, qos=2)\n",
        "\n",
        "    print(\"Sending status to HF...\")\n",
        "    payload_data = {\n",
        "        \"status\": {\"sensor_status\": \"in_place\"},\n",
        "        \"experiment_id\": experiment_id,\n",
        "        \"session_id\": session_id,\n",
        "    }\n",
        "    payload = json.dumps(payload_data)\n",
        "    client.publish(OT2_STATUS_TOPIC, payload, qos=2)  # send a status message back to HF\n",
        "\n",
        "\n",
        "def move_sensor_back(payload):\n",
        "    results_status = payload[\"command\"][\"sensor_status\"]\n",
        "    session_id = payload[\"session_id\"]\n",
        "    experiment_id = payload[\"experiment_id\"]\n",
        "\n",
        "    p300.drop_tip(tiprack_2[\"A2\"].top(z=-80))\n",
        "    # protocol.home()\n",
        "\n",
        "    payload_data = {\n",
        "        \"status\": {\"sensor_status\": \"charging\"},\n",
        "        \"experiment_id\": experiment_id,\n",
        "        \"session_id\": session_id,\n",
        "    }\n",
        "    payload = json.dumps(payload_data)\n",
        "    client.publish(OT2_STATUS_TOPIC, payload, qos=2)  # send a status message back to HF\n",
        "\n",
        "    if results_status == \"sensor_timeout\":\n",
        "        protocol.home()\n",
        "\n",
        "\n",
        "def handle_command(payload):\n",
        "\n",
        "    if {\"R\", \"Y\", \"B\", \"well\"}.issubset(payload[\"command\"].keys()):\n",
        "        print(f\"Handling mix command: {payload}\")\n",
        "        mix_color(payload)\n",
        "\n",
        "    elif {\"sensor_status\"}.issubset(payload[\"command\"].keys()):\n",
        "        print(\"Sensor measure complete\")\n",
        "        move_sensor_back(payload)\n",
        "\n",
        "\n",
        "print(\"OT-2 is waiting for command\")\n",
        "protocol.home()  # home to know OT-2 is ready\n",
        "\n",
        "\n",
        "# Keep protocol active\n",
        "while True:\n",
        "    try:\n",
        "        command = command_queue.get(timeout=1)\n",
        "        print(f\"Processing command from queue: {command}\")\n",
        "\n",
        "        if \"command\" in command and \"experiment_id\" in command:\n",
        "            try:\n",
        "                handle_command(command)\n",
        "            except Exception as e:\n",
        "                print(f\"Error processing command: {e}\")\n",
        "    except Empty:\n",
        "\n",
        "        pass\n",
        "\n",
        "    except Exception as e:\n",
        "\n",
        "        print(f\"Unexpected error in main loop: {e}\")\n",
        "    sleep(1)"
      ],
      "metadata": {
        "colab": {
          "base_uri": "https://localhost:8080/",
          "height": 870
        },
        "id": "AzZMlKs6kebI",
        "outputId": "a3052965-1095-44ac-f6d7-95c2c36d6ef9"
      },
      "execution_count": 8,
      "outputs": [
        {
          "output_type": "stream",
          "name": "stderr",
          "text": [
            "WARNING:opentrons.config.robot_configs:/root/.opentrons/robot_settings.json not found. Loading defaults\n",
            "WARNING:opentrons.calibration_storage.ot2.deck_attitude:Deck calibration not found.\n",
            "WARNING:opentrons.config.robot_configs:/root/.opentrons/deck_calibration.json not found. Loading defaults\n",
            "/tmp/ipython-input-8-3897443915.py:28: DeprecationWarning: Callback API version 1 is deprecated, update to latest version\n",
            "  client = mqtt.Client()\n"
          ]
        },
        {
          "output_type": "stream",
          "name": "stdout",
          "text": [
            "MQTT client connected\n",
            "Labwares loaded\n",
            "OT-2 is waiting for command\n",
            "Connected to MQTT Broker with result code 0\n",
            "Received message on topic command/ot2/OT2CEP20240218R04/pipette: {\"command\": {\"R\": 120, \"Y\": 50, \"B\": 80, \"well\": \"B2\"}, \"session_id\": \"session-001\", \"experiment_id\": \"exp-001\"}\n",
            "Processing command from queue: {'command': {'R': 120, 'Y': 50, 'B': 80, 'well': 'B2'}, 'session_id': 'session-001', 'experiment_id': 'exp-001'}\n",
            "Handling mix command: {'command': {'R': 120, 'Y': 50, 'B': 80, 'well': 'B2'}, 'session_id': 'session-001', 'experiment_id': 'exp-001'}\n",
            "Received message on topic command/ot2/OT2CEP20240218R04/pipette: {\"command\": {\"R\": 120, \"Y\": 50, \"B\": 80, \"well\": \"B2\"}, \"session_id\": \"session-001\", \"experiment_id\": \"exp-001\"}\n",
            "Received message on topic command/ot2/OT2CEP20240218R04/pipette: {\"command\": {\"R\": 120, \"Y\": 50, \"B\": 80, \"well\": \"B2\"}, \"session_id\": \"session-001\", \"experiment_id\": \"exp-001\"}\n",
            "Sending status to HF...\n",
            "Processing command from queue: {'command': {'R': 120, 'Y': 50, 'B': 80, 'well': 'B2'}, 'session_id': 'session-001', 'experiment_id': 'exp-001'}\n",
            "Handling mix command: {'command': {'R': 120, 'Y': 50, 'B': 80, 'well': 'B2'}, 'session_id': 'session-001', 'experiment_id': 'exp-001'}\n",
            "Error processing command: Error 3012 UNEXPECTED_TIP_ATTACH (UnexpectedTipAttachError): Cannot perform pick_up_tip with a tip already attached.\n",
            "Processing command from queue: {'command': {'R': 120, 'Y': 50, 'B': 80, 'well': 'B2'}, 'session_id': 'session-001', 'experiment_id': 'exp-001'}\n",
            "Handling mix command: {'command': {'R': 120, 'Y': 50, 'B': 80, 'well': 'B2'}, 'session_id': 'session-001', 'experiment_id': 'exp-001'}\n",
            "Error processing command: Error 3012 UNEXPECTED_TIP_ATTACH (UnexpectedTipAttachError): Cannot perform pick_up_tip with a tip already attached.\n",
            "Received message on topic command/ot2/OT2CEP20240218R04/pipette: {\"command\": {\"sensor_status\": \"done\"}, \"session_id\": \"session-001\", \"experiment_id\": \"exp-001\"}\n",
            "Received message on topic command/ot2/OT2CEP20240218R04/pipette: {\"command\": {\"sensor_status\": \"done\"}, \"session_id\": \"session-001\", \"experiment_id\": \"exp-001\"}\n",
            "Processing command from queue: {'command': {'sensor_status': 'done'}, 'session_id': 'session-001', 'experiment_id': 'exp-001'}\n",
            "Sensor measure complete\n",
            "Received message on topic command/ot2/OT2CEP20240218R04/pipette: {\"command\": {\"sensor_status\": \"done\"}, \"session_id\": \"session-001\", \"experiment_id\": \"exp-001\"}\n"
          ]
        },
        {
          "output_type": "stream",
          "name": "stderr",
          "text": [
            "WARNING:opentrons.hardware_control.util:Out of bounds move: Z_R=(-9.45 motor controller, -9.45 deck) too low for limit 0\n",
            "WARNING:opentrons.hardware_control.util:Out of bounds move: Z_R=(-9.45 motor controller, -9.45 deck) too low for limit 0\n",
            "WARNING:opentrons.hardware_control.util:Out of bounds move: Z_R=(-9.45 motor controller, -9.45 deck) too low for limit 0\n",
            "WARNING:opentrons.hardware_control.util:Out of bounds move: Z_R=(-9.45 motor controller, -9.45 deck) too low for limit 0\n",
            "WARNING:opentrons.hardware_control.instruments.ot2.pipette_handler.InstrumentHandler.135369453460688:detach tip called with no tip\n"
          ]
        },
        {
          "output_type": "stream",
          "name": "stdout",
          "text": [
            "Processing command from queue: {'command': {'sensor_status': 'done'}, 'session_id': 'session-001', 'experiment_id': 'exp-001'}\n",
            "Sensor measure complete\n"
          ]
        },
        {
          "output_type": "stream",
          "name": "stderr",
          "text": [
            "WARNING:opentrons.hardware_control.util:Out of bounds move: Z_R=(-9.45 motor controller, -9.45 deck) too low for limit 0\n",
            "WARNING:opentrons.hardware_control.util:Out of bounds move: Z_R=(-9.45 motor controller, -9.45 deck) too low for limit 0\n",
            "WARNING:opentrons.hardware_control.util:Out of bounds move: Z_R=(-9.45 motor controller, -9.45 deck) too low for limit 0\n",
            "WARNING:opentrons.hardware_control.util:Out of bounds move: Z_R=(-9.45 motor controller, -9.45 deck) too low for limit 0\n",
            "WARNING:opentrons.hardware_control.instruments.ot2.pipette_handler.InstrumentHandler.135369453460688:detach tip called with no tip\n"
          ]
        },
        {
          "output_type": "stream",
          "name": "stdout",
          "text": [
            "Processing command from queue: {'command': {'sensor_status': 'done'}, 'session_id': 'session-001', 'experiment_id': 'exp-001'}\n",
            "Sensor measure complete\n"
          ]
        },
        {
          "output_type": "error",
          "ename": "KeyboardInterrupt",
          "evalue": "",
          "traceback": [
            "\u001b[0;31m---------------------------------------------------------------------------\u001b[0m",
            "\u001b[0;31mKeyboardInterrupt\u001b[0m                         Traceback (most recent call last)",
            "\u001b[0;32m/tmp/ipython-input-8-3897443915.py\u001b[0m in \u001b[0;36m<cell line: 0>\u001b[0;34m()\u001b[0m\n\u001b[1;32m    200\u001b[0m \u001b[0;34m\u001b[0m\u001b[0m\n\u001b[1;32m    201\u001b[0m         \u001b[0mprint\u001b[0m\u001b[0;34m(\u001b[0m\u001b[0;34mf\"Unexpected error in main loop: {e}\"\u001b[0m\u001b[0;34m)\u001b[0m\u001b[0;34m\u001b[0m\u001b[0;34m\u001b[0m\u001b[0m\n\u001b[0;32m--> 202\u001b[0;31m     \u001b[0msleep\u001b[0m\u001b[0;34m(\u001b[0m\u001b[0;36m1\u001b[0m\u001b[0;34m)\u001b[0m\u001b[0;34m\u001b[0m\u001b[0;34m\u001b[0m\u001b[0m\n\u001b[0m",
            "\u001b[0;31mKeyboardInterrupt\u001b[0m: "
          ]
        }
      ]
    }
  ]
}
