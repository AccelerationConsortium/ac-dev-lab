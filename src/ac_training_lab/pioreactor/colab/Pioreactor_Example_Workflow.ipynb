{
  "nbformat": 4,
  "nbformat_minor": 0,
  "metadata": {
    "colab": {
      "provenance": []
    },
    "kernelspec": {
      "name": "python3",
      "display_name": "Python 3"
    },
    "language_info": {
      "name": "python"
    }
  },
  "cells": [
    {
      "cell_type": "markdown",
      "source": [
        "**Introduction**\n",
        "\n",
        "This Google Colab notebook provides a user-friendly interface for remotely controlling and monitoring PioReactors, designed to facilitate yeast growth studies in various ethanol concentrations. PioReactors enable controlled environmental conditions for microbial growth experiments, particularly useful for studying yeast's ethanol tolerance and the effects of different alcohol concentrations on yeast metabolism. By using Google Colab, you can execute commands, automate tasks, and view data from the PioReactor directly in this notebook without requiring physical interaction with the device. Although physical interaction will be need to change vials, add ingredients, etc.\n",
        "\n",
        "This is based of [yeast- in-ethanol](https://docs.pioreactor.com/experiments/yeast-in-ethanol)."
      ],
      "metadata": {
        "id": "0oHmcP4HLh3L"
      }
    },
    {
      "cell_type": "markdown",
      "source": [
        "Install dependencies to allow for correct usage"
      ],
      "metadata": {
        "id": "iB6nWRQk4nSF"
      }
    },
    {
      "cell_type": "code",
      "execution_count": null,
      "metadata": {
        "colab": {
          "base_uri": "https://localhost:8080/"
        },
        "collapsed": true,
        "id": "uHPLsrO54fDi",
        "outputId": "4df19afb-2ce9-4c76-ca48-cbbf71756b4f"
      },
      "outputs": [
        {
          "output_type": "stream",
          "name": "stdout",
          "text": [
            "Collecting gradio_client\n",
            "  Downloading gradio_client-1.4.2-py3-none-any.whl.metadata (7.1 kB)\n",
            "Requirement already satisfied: fsspec in /usr/local/lib/python3.10/dist-packages (from gradio_client) (2024.10.0)\n",
            "Requirement already satisfied: httpx>=0.24.1 in /usr/local/lib/python3.10/dist-packages (from gradio_client) (0.27.2)\n",
            "Requirement already satisfied: huggingface-hub>=0.19.3 in /usr/local/lib/python3.10/dist-packages (from gradio_client) (0.24.7)\n",
            "Requirement already satisfied: packaging in /usr/local/lib/python3.10/dist-packages (from gradio_client) (24.1)\n",
            "Requirement already satisfied: typing-extensions~=4.0 in /usr/local/lib/python3.10/dist-packages (from gradio_client) (4.12.2)\n",
            "Collecting websockets<13.0,>=10.0 (from gradio_client)\n",
            "  Downloading websockets-12.0-cp310-cp310-manylinux_2_5_x86_64.manylinux1_x86_64.manylinux_2_17_x86_64.manylinux2014_x86_64.whl.metadata (6.6 kB)\n",
            "Requirement already satisfied: anyio in /usr/local/lib/python3.10/dist-packages (from httpx>=0.24.1->gradio_client) (3.7.1)\n",
            "Requirement already satisfied: certifi in /usr/local/lib/python3.10/dist-packages (from httpx>=0.24.1->gradio_client) (2024.8.30)\n",
            "Requirement already satisfied: httpcore==1.* in /usr/local/lib/python3.10/dist-packages (from httpx>=0.24.1->gradio_client) (1.0.6)\n",
            "Requirement already satisfied: idna in /usr/local/lib/python3.10/dist-packages (from httpx>=0.24.1->gradio_client) (3.10)\n",
            "Requirement already satisfied: sniffio in /usr/local/lib/python3.10/dist-packages (from httpx>=0.24.1->gradio_client) (1.3.1)\n",
            "Requirement already satisfied: h11<0.15,>=0.13 in /usr/local/lib/python3.10/dist-packages (from httpcore==1.*->httpx>=0.24.1->gradio_client) (0.14.0)\n",
            "Requirement already satisfied: filelock in /usr/local/lib/python3.10/dist-packages (from huggingface-hub>=0.19.3->gradio_client) (3.16.1)\n",
            "Requirement already satisfied: pyyaml>=5.1 in /usr/local/lib/python3.10/dist-packages (from huggingface-hub>=0.19.3->gradio_client) (6.0.2)\n",
            "Requirement already satisfied: requests in /usr/local/lib/python3.10/dist-packages (from huggingface-hub>=0.19.3->gradio_client) (2.32.3)\n",
            "Requirement already satisfied: tqdm>=4.42.1 in /usr/local/lib/python3.10/dist-packages (from huggingface-hub>=0.19.3->gradio_client) (4.66.6)\n",
            "Requirement already satisfied: exceptiongroup in /usr/local/lib/python3.10/dist-packages (from anyio->httpx>=0.24.1->gradio_client) (1.2.2)\n",
            "Requirement already satisfied: charset-normalizer<4,>=2 in /usr/local/lib/python3.10/dist-packages (from requests->huggingface-hub>=0.19.3->gradio_client) (3.4.0)\n",
            "Requirement already satisfied: urllib3<3,>=1.21.1 in /usr/local/lib/python3.10/dist-packages (from requests->huggingface-hub>=0.19.3->gradio_client) (2.2.3)\n",
            "Downloading gradio_client-1.4.2-py3-none-any.whl (319 kB)\n",
            "\u001b[2K   \u001b[90m━━━━━━━━━━━━━━━━━━━━━━━━━━━━━━━━━━━━━━━━\u001b[0m \u001b[32m319.8/319.8 kB\u001b[0m \u001b[31m5.3 MB/s\u001b[0m eta \u001b[36m0:00:00\u001b[0m\n",
            "\u001b[?25hDownloading websockets-12.0-cp310-cp310-manylinux_2_5_x86_64.manylinux1_x86_64.manylinux_2_17_x86_64.manylinux2014_x86_64.whl (130 kB)\n",
            "\u001b[2K   \u001b[90m━━━━━━━━━━━━━━━━━━━━━━━━━━━━━━━━━━━━━━━━\u001b[0m \u001b[32m130.2/130.2 kB\u001b[0m \u001b[31m9.1 MB/s\u001b[0m eta \u001b[36m0:00:00\u001b[0m\n",
            "\u001b[?25hInstalling collected packages: websockets, gradio_client\n",
            "Successfully installed gradio_client-1.4.2 websockets-12.0\n"
          ]
        }
      ],
      "source": [
        "pip install gradio_client"
      ]
    },
    {
      "cell_type": "markdown",
      "source": [
        "Apply imports and define client"
      ],
      "metadata": {
        "id": "gWvzB1M9FION"
      }
    },
    {
      "cell_type": "code",
      "source": [
        "from gradio_client import Client\n",
        "\n",
        "client = Client(\"AccelerationConsortium/PioReactor_gradio\")"
      ],
      "metadata": {
        "colab": {
          "base_uri": "https://localhost:8080/"
        },
        "id": "s3kn0znvFG0Q",
        "outputId": "547dec79-8350-456a-8826-97b1c2c063b4"
      },
      "execution_count": null,
      "outputs": [
        {
          "output_type": "stream",
          "name": "stdout",
          "text": [
            "Loaded as API: https://accelerationconsortium-pioreactor-gradio.hf.space ✔\n"
          ]
        }
      ]
    },
    {
      "cell_type": "markdown",
      "source": [
        "API call to check the the current status of the PioReactor"
      ],
      "metadata": {
        "id": "fQJIXHtqDpuk"
      }
    },
    {
      "cell_type": "code",
      "source": [
        "result = client.predict(\n",
        "\t\texp=\"Ed\",\n",
        "\t\tapi_name=\"/get_status_default\"\n",
        ")\n",
        "print(result)\n",
        "\n",
        "experiment = result[0] # Stores the current experiment from the results of the API call"
      ],
      "metadata": {
        "colab": {
          "base_uri": "https://localhost:8080/"
        },
        "id": "LN2jF6V6CySv",
        "outputId": "a3496bf3-44c7-4a9f-80b5-5ea031b7c9e2"
      },
      "execution_count": null,
      "outputs": [
        {
          "output_type": "stream",
          "name": "stdout",
          "text": [
            "Loaded as API: https://accelerationconsortium-pioreactor-gradio.hf.space ✔\n",
            "('Ed', '[]', None, None, \"{'A': 0.0, 'B': 0.0, 'C': 0.0, 'D': 0.0}\", \"['tg']\")\n"
          ]
        }
      ]
    },
    {
      "cell_type": "markdown",
      "source": [
        "Create a new experiment for our example workflow and switch to it"
      ],
      "metadata": {
        "id": "af_3KJXJD1Mi"
      }
    },
    {
      "cell_type": "code",
      "source": [
        "new_experiment = \"EXPERIMENT_NAME_HERE\" # Change this to what you would like\n",
        "\n",
        "result = client.predict(\n",
        "\t\tnew_exp=new_experiment,\n",
        "        exp=experiment,\n",
        "\t\tapi_name=\"/new_experiment_default\"\n",
        ")\n",
        "\n",
        "result = client.predict(\n",
        "\t\tch_exp=new_experiment,\n",
        "\t\texp=experiment,\n",
        "\t\tapi_name=\"/change_experiment_default\"\n",
        ")\n",
        "\n",
        "experiment = new_experiment"
      ],
      "metadata": {
        "id": "I_XAT_y7DJWn"
      },
      "execution_count": null,
      "outputs": []
    },
    {
      "cell_type": "markdown",
      "source": [
        "The pials should now be prepared. Follow the detailed procecures here [yeast- in-ethanol](https://docs.pioreactor.com/experiments/yeast-in-ethanol).\n",
        "\n",
        "After you after done, execute the next block to start stirring and OD reading, you can optionally turn heating on by changing the boolean."
      ],
      "metadata": {
        "id": "nHj4vAf-G9gA"
      }
    },
    {
      "cell_type": "code",
      "source": [
        "heating = False\n",
        "temp=30\n",
        "\n",
        "rpm_speed = 500\n",
        "\n",
        "result = client.predict(\n",
        "\t\trpm=rpm_speed,\n",
        "\t\texperiment=experiment,\n",
        "\t\tstate=\"start\",\n",
        "\t\tapi_name=\"/stirring_default\"\n",
        ")\n",
        "\n",
        "result = client.predict(\n",
        "\t\texperiment=experiment,\n",
        "\t\tstate=\"start\",\n",
        "\t\tapi_name=\"/od_default\"\n",
        ")\n",
        "\n",
        "if heating:\n",
        "    result = client.predict(\n",
        "\t\ttemperature=30,\n",
        "\t\texperiment=experiment,\n",
        "\t\tstate=\"start\",\n",
        "\t\toption=\"Heat To Temp\",\n",
        "\t\tapi_name=\"/temp_automation_default\"\n",
        ")"
      ],
      "metadata": {
        "id": "NMQEja_FG86x"
      },
      "execution_count": null,
      "outputs": []
    },
    {
      "cell_type": "markdown",
      "source": [
        "After execution, you must wait for a desierd amount of time, aprox 18 hours. After which you can execute the code block below to stock the data logging.\n",
        "You can change the variables of the experiment and start again."
      ],
      "metadata": {
        "id": "2kqtv-JWJid6"
      }
    },
    {
      "cell_type": "code",
      "source": [
        "result = client.predict(\n",
        "\t\trpm=0,\n",
        "\t\texperiment=experiment,\n",
        "\t\tstate=\"stop\",\n",
        "\t\tapi_name=\"/stirring_default\"\n",
        ")\n",
        "\n",
        "result = client.predict(\n",
        "\t\texperiment=experiment,\n",
        "\t\tstate=\"stop\",\n",
        "\t\tapi_name=\"/od_default\"\n",
        ")\n",
        "\n",
        "if heating:\n",
        "    result = client.predict(\n",
        "\t\ttemperature=30,\n",
        "\t\texperiment=experiment,\n",
        "\t\tstate=\"stop\",\n",
        "\t\toption=\"Heat To Temp\",\n",
        "\t\tapi_name=\"/temp_automation_default\"\n",
        ")"
      ],
      "metadata": {
        "id": "8_Y4UoCAKlC-"
      },
      "execution_count": null,
      "outputs": []
    }
  ]
}
